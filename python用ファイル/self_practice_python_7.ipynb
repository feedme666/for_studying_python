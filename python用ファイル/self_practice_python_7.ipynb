{
 "cells": [
  {
   "cell_type": "markdown",
   "metadata": {
    "id": "Z0y0uX1Outfw"
   },
   "source": [
    "# 自分で触ってよくわかる **部分抽出の話**\n",
    "## 条件にあう対象者を抽出する\n",
    "**最後に課題があります**"
   ]
  },
  {
   "cell_type": "markdown",
   "metadata": {
    "id": "KTKumyu59qde"
   },
   "source": [
    "## 目次\n",
    "### 練習\n",
    "- 練習1: [（google colaboratoryを使っていない場合のみ）*statsmodels* をインストールする](#section1)\n",
    "- 練習2: [statsmodelsをインポートし、サンプルデータを取得する](#section2)\n",
    "- 練習3: [条件に合致する集団を抽出する](#section3)\n",
    "- 練習4: [上位・下位の一部を抽出する](#section4)\n",
    "\n",
    "### 課題\n",
    "- [課題](#section6)"
   ]
  },
  {
   "cell_type": "markdown",
   "metadata": {
    "id": "wx9OI4616-yr"
   },
   "source": [
    "＊＊＊＊＊＊＊＊＊＊＊＊＊＊＊＊＊＊＊＊＊＊＊＊＊＊＊＊＊＊＊＊＊＊＊＊＊＊＊＊\n"
   ]
  },
  {
   "cell_type": "markdown",
   "metadata": {
    "id": "zsx5Eow-utfz"
   },
   "source": [
    "## 練習\n",
    "サンプルのデータセットを読み込んで、そのデータを色々な角度から外観してみましょう。  \n",
    "今回は、*statsmodels* パッケージに含まれているデータセットを使用します。\n",
    "\n",
    "(注) *statsmodels* パッケージとは、統計モデルを用いて推定や検定、探索ができるPythonライブラリのことです。  \n",
    "\n",
    "手順は以下の通りです。  \n",
    "\n",
    "1. (google colaboratoryを使っていない場合のみ) *statsmodels* をインストールする\n",
    "1. statsmodelsをインポートし、サンプルデータを取得する\n",
    "1. 条件に合致する集団を抽出する\n",
    "2. 上位・下位の一部を抽出する"
   ]
  },
  {
   "cell_type": "markdown",
   "metadata": {
    "id": "YWQTSZFIwP3j"
   },
   "source": [
    "<a id=\"section1\"></a>\n",
    "### 練習1: （google colaboratoryを使っていない場合のみ）*statsmodels* をインストールする\n",
    "\n",
    "statsmodelsを使用するとき、*google colaboratory* を使用している場合は、何もしなくともすぐ使用できます。  \n",
    "それ以外の環境では、statsmodelsパッケージのインストールが必要です。 どこかのセルで、以下を実行してください。  （下記のセルを実行すると、インストールします。）  \n",
    "```\n",
    "pip install statsmodels\n",
    "```  \n",
    "一回インストールしてしまえば、同じ環境であればずっと使えます。  "
   ]
  },
  {
   "cell_type": "code",
   "execution_count": 45,
   "metadata": {
    "colab": {
     "base_uri": "https://localhost:8080/"
    },
    "id": "dSyAlUEB0tVe",
    "outputId": "86cd05e6-2fc5-4027-a0df-97fcd576fd3c"
   },
   "outputs": [
    {
     "name": "stdout",
     "output_type": "stream",
     "text": [
      "Requirement already satisfied: statsmodels in /opt/anaconda3/envs/daily_use/lib/python3.9/site-packages (0.13.5)\n",
      "Requirement already satisfied: scipy>=1.3 in /opt/anaconda3/envs/daily_use/lib/python3.9/site-packages (from statsmodels) (1.9.3)\n",
      "Requirement already satisfied: patsy>=0.5.2 in /opt/anaconda3/envs/daily_use/lib/python3.9/site-packages (from statsmodels) (0.5.3)\n",
      "Requirement already satisfied: pandas>=0.25 in /opt/anaconda3/envs/daily_use/lib/python3.9/site-packages (from statsmodels) (2.0.3)\n",
      "Requirement already satisfied: packaging>=21.3 in /opt/anaconda3/envs/daily_use/lib/python3.9/site-packages (from statsmodels) (23.0)\n",
      "Requirement already satisfied: numpy>=1.17 in /opt/anaconda3/envs/daily_use/lib/python3.9/site-packages (from statsmodels) (1.23.5)\n",
      "Requirement already satisfied: pytz>=2020.1 in /opt/anaconda3/envs/daily_use/lib/python3.9/site-packages (from pandas>=0.25->statsmodels) (2022.7.1)\n",
      "Requirement already satisfied: tzdata>=2022.1 in /opt/anaconda3/envs/daily_use/lib/python3.9/site-packages (from pandas>=0.25->statsmodels) (2023.3)\n",
      "Requirement already satisfied: python-dateutil>=2.8.2 in /opt/anaconda3/envs/daily_use/lib/python3.9/site-packages (from pandas>=0.25->statsmodels) (2.8.2)\n",
      "Requirement already satisfied: six in /opt/anaconda3/envs/daily_use/lib/python3.9/site-packages (from patsy>=0.5.2->statsmodels) (1.16.0)\n",
      "Note: you may need to restart the kernel to use updated packages.\n"
     ]
    }
   ],
   "source": [
    "pip install statsmodels"
   ]
  },
  {
   "cell_type": "markdown",
   "metadata": {
    "id": "wTUgG1Pt6J45"
   },
   "source": [
    "***"
   ]
  },
  {
   "cell_type": "markdown",
   "metadata": {
    "id": "ZAnrKMpX0tVf"
   },
   "source": [
    "<a id=\"section2\"></a>\n",
    "### 練習2: statsmodelsをインポートし、サンプルデータを取得する\n",
    "\n",
    "*statsmodels* の *get_rdataset* メソッドを使用して、サンプルデータを取得してみましょう。  \n",
    "＊取得できるサンプルデータは、以下のサイトに列挙されています。  \n",
    "https://vincentarelbundock.github.io/Rdatasets/articles/data.html  \n",
    "\n",
    "前回の自主練と同様に、下記のコードを実行して、*survival* パッケージの *pbc* データを取得しましょう。  \n",
    "\n",
    "```\n",
    "import statsmodels.api as sm\n",
    "\n",
    "dataset = sm.datasets.get_rdataset(\"pbc\", \"survival\")\n",
    "df = dataset.data\n",
    "```\n",
    "\n",
    "それでは、下のセルにコードを書いて、実行してください。"
   ]
  },
  {
   "cell_type": "code",
   "execution_count": 46,
   "metadata": {
    "id": "QL7Y9MuUwP3m"
   },
   "outputs": [],
   "source": []
  },
  {
   "cell_type": "markdown",
   "metadata": {
    "id": "xe3yjCtSwP3n"
   },
   "source": [
    "何も出力されませんが、エラーがでなければ成功しています。  \n",
    "次に進みましょう。"
   ]
  },
  {
   "cell_type": "markdown",
   "metadata": {
    "id": "ZeXmiGcE6RHj"
   },
   "source": [
    "***"
   ]
  },
  {
   "cell_type": "markdown",
   "metadata": {
    "id": "mDojmN-H0tVf"
   },
   "source": [
    "<a id=\"section3\"></a>\n",
    "### 練習3: 条件に合致する集団を抽出する\n",
    "\n",
    "上で取得したデータが、変数'df'に代入されています。\n",
    "\n",
    "まず、以下のコードを実行して、最初の5行を出力して、取得したサンプルデータがどのようなものなのか、確認してみましょう。\n",
    "\n",
    "```\n",
    "df.head()\n",
    "```\n",
    "\n",
    "それでは、下のセルにコードを書いて、実行してください。\n"
   ]
  },
  {
   "cell_type": "code",
   "execution_count": null,
   "metadata": {
    "colab": {
     "base_uri": "https://localhost:8080/",
     "height": 204
    },
    "id": "RdAs8yEqwP3o",
    "outputId": "4e23718f-b78e-465a-d080-9d6b1e6c1567"
   },
   "outputs": [],
   "source": []
  },
  {
   "cell_type": "markdown",
   "metadata": {
    "id": "Gb2df7bdwP3o"
   },
   "source": [
    "次に、条件に合致するデータのみを抽出してみましょう。\n",
    "\n",
    "以下の条件に合致するデータを抽出します\n",
    "1. age: 60以上\n",
    "1. sex: fのみ \n",
    "\n",
    "まず、1の条件だけを満たすデータのみ抽出しましょう。ここでは、*query* メソッドを使用します。  \n",
    "以下のように記述して、'age'列が'60'以上のデータを抽出します。\n",
    "\n",
    "```\n",
    "df_cond1_v1 = df.query('age>=60')\n",
    "```\n",
    "\n",
    "もしくは、*query* メソッドを使用せず、以下のように記述する方法もあります。\n",
    "```\n",
    "df_cond1_v2 = df[df['age']>=60]\n",
    "```\n",
    "\n",
    "いずれも同じ結果になります。\n",
    "\n",
    "それでは、下のセルにコードを書いて、実行してください。"
   ]
  },
  {
   "cell_type": "code",
   "execution_count": null,
   "metadata": {},
   "outputs": [],
   "source": []
  },
  {
   "cell_type": "code",
   "execution_count": null,
   "metadata": {},
   "outputs": [],
   "source": []
  },
  {
   "cell_type": "markdown",
   "metadata": {
    "id": "Of3usjMfwP3o"
   },
   "source": [
    "次に、条件2に合致するデータのみを抽出してみましょう。\n",
    "\n",
    "まず、条件1の時と同様に、*query* メソッドを使用します。  \n",
    "以下のように記述して、'sex'列がfのみのデータを抽出します。\n",
    "\n",
    "```\n",
    "df_cond2_v1 = df.query('sex==\"f\"')\n",
    "```\n",
    "\n",
    "なお、`'sex==\"f\"'`という表現は少し間違いやすいので注意してください。\n",
    "\"f\" はクォーテーションマークで囲う必要がありますが、その大枠をくくる条件もクォーテーションマークで囲わなくてはならず、その場合は、どちらかをダブル・クォーテーションマーク、どちらかをシングル・クォーテーションマークにます。\n",
    "\n",
    "もしくは、こちらも先ほどと同様に、*query* メソッドを使用せず、以下のように記述する方法もあります。\n",
    "```\n",
    "df_cond2_v2 = df[df['sex']=='f']\n",
    "```\n",
    "\n",
    "いずれも同じ結果になります。\n",
    "\n",
    "それでは、下のセルにコードを書いて、実行してください。"
   ]
  },
  {
   "cell_type": "code",
   "execution_count": null,
   "metadata": {
    "colab": {
     "base_uri": "https://localhost:8080/"
    },
    "id": "Zir1Mid-wP3o",
    "outputId": "26206852-e125-4e9b-fe29-d550d74d04d2"
   },
   "outputs": [],
   "source": []
  },
  {
   "cell_type": "code",
   "execution_count": null,
   "metadata": {},
   "outputs": [],
   "source": []
  },
  {
   "cell_type": "markdown",
   "metadata": {},
   "source": [
    "そして、条件1、条件2に合致するデータのみを抽出しましょう。\n",
    "\n",
    "これは条件式を \"&\" で繋げば問題ありません。\n",
    "```\n",
    "df_cond1and2_v1 = df.query('age>=60 & sex==\"f')\n",
    "```\n",
    "\n",
    "もしくは\n",
    "\n",
    "```\n",
    "df_cond1and2_v2 = df[df['age']>=60 & df['sex']=='f']\n",
    "```\n",
    "\n",
    "それでは、下のセルにコードを書いて実行してください。"
   ]
  },
  {
   "cell_type": "code",
   "execution_count": null,
   "metadata": {},
   "outputs": [],
   "source": []
  },
  {
   "cell_type": "code",
   "execution_count": null,
   "metadata": {},
   "outputs": [],
   "source": []
  },
  {
   "cell_type": "markdown",
   "metadata": {
    "id": "CX0vdPSuwP3p"
   },
   "source": [
    "queryメソッドを使用するかしないかは、まずは使いやすいと感じる方で良いでしょう。"
   ]
  },
  {
   "cell_type": "markdown",
   "metadata": {},
   "source": [
    "***"
   ]
  },
  {
   "cell_type": "markdown",
   "metadata": {
    "id": "OaGsoKU3wP3q"
   },
   "source": [
    "<a id=\"section4\"></a>\n",
    "### 練習4: 上位・下位の一部を抽出する\n",
    "\n",
    "次は、'age'の小さい人から10人を抽出してみましょう。それには、*nsmallest* メソッドを使います。  \n",
    "以下のように記述します。\n",
    "\n",
    "```\n",
    "df_age_smallest_10 = df.nsmallsest(10, 'age')\n",
    "```\n",
    "\n",
    "他には、*sort_values* メソッドで順番を変更して、上から10行取得する以下の方法もあります。\n",
    "```\n",
    "df_age_smallest_10 = df.sort_values('age').head(10)\n",
    "```\n",
    "\n",
    "それでは、下のセルにコードを書いて、実行してください。"
   ]
  },
  {
   "cell_type": "code",
   "execution_count": null,
   "metadata": {
    "colab": {
     "base_uri": "https://localhost:8080/"
    },
    "id": "vtf8mck7wP3q",
    "outputId": "510ca33b-505c-445b-a70d-3c5cf06fb494"
   },
   "outputs": [],
   "source": []
  },
  {
   "cell_type": "code",
   "execution_count": null,
   "metadata": {},
   "outputs": [],
   "source": []
  },
  {
   "cell_type": "markdown",
   "metadata": {},
   "source": [
    "今度は、'age'の大きい人から10人を抽出してみましょう。それには、*nlargest* メソッドを使います。  \n",
    "以下のように記述します。\n",
    "\n",
    "```\n",
    "df_age_largest_10 = df.nlargest(10, 'age')\n",
    "```\n",
    "\n",
    "他には、*sort_values* メソッドで順番を変更して、上から10行取得する方法もあります。  \n",
    "前回と違って、降順にするために、引数`ascending=False`を渡していることに注意してください。\n",
    "\n",
    "```\n",
    "df_age_largest_10 = df.sort_values('age', ascending=False).head(10)\n",
    "```\n",
    "\n",
    "それでは、下のセルにコードを書いて、実行してください。"
   ]
  },
  {
   "cell_type": "code",
   "execution_count": null,
   "metadata": {},
   "outputs": [],
   "source": []
  },
  {
   "cell_type": "code",
   "execution_count": null,
   "metadata": {},
   "outputs": [],
   "source": []
  },
  {
   "cell_type": "markdown",
   "metadata": {
    "id": "9zVTwYHS6WhA"
   },
   "source": [
    "どのメソッドを使うかは、自分で使いやすいと感じた方でいいです。\n",
    "覚えなくとも、使用するたびに検索するか、ChatGPTなどに聞くのもいいですね。"
   ]
  },
  {
   "cell_type": "markdown",
   "metadata": {
    "id": "vtB--u6m60QO"
   },
   "source": [
    "＊＊＊＊＊＊＊＊＊＊＊＊＊＊＊＊＊＊＊＊＊＊＊＊＊＊＊＊＊＊＊＊＊＊＊＊＊＊＊＊"
   ]
  },
  {
   "cell_type": "markdown",
   "metadata": {
    "id": "JqSS5c7outf2"
   },
   "source": [
    "<a id=\"section6\"></a>\n",
    "## 課題: 部分抽出\n",
    "\n",
    "survivalパッケージにあるpbcデータについて、治療1を受けた人(trt=1)の中で年齢が若い人10人を抽出して、'df_answer'に代入ましょう。\n",
    "- ヒント: trtは1か2を取りますが、文字列ではなく数値です"
   ]
  },
  {
   "cell_type": "code",
   "execution_count": 70,
   "metadata": {
    "id": "1T6E6N9Eutf2"
   },
   "outputs": [],
   "source": []
  },
  {
   "cell_type": "markdown",
   "metadata": {
    "id": "rb5FBs4l52kN"
   },
   "source": [
    "## 回答チェック\n",
    "以下のコードを実行して、同じような結果が出力されればクリアです。"
   ]
  },
  {
   "cell_type": "code",
   "execution_count": 71,
   "metadata": {
    "colab": {
     "base_uri": "https://localhost:8080/"
    },
    "id": "zqsyXNeS52kN",
    "outputId": "99c9b22b-3ced-4318-94ca-84237e0beec0"
   },
   "outputs": [
    {
     "name": "stdout",
     "output_type": "stream",
     "text": [
      "正解です。\n"
     ]
    }
   ],
   "source": [
    "import statsmodels.api as sm\n",
    "import pandas as pd\n",
    "dataset = sm.datasets.get_rdataset(\"pbc\", \"survival\")\n",
    "\n",
    "def check_answer(dataset, df_answer):\n",
    "    df_correct = df[df['trt']==1].sort_values('age').head(10)\n",
    "    # df_answerが存在するかチェック\n",
    "    if 'df_answer' not in globals():\n",
    "        print('課題の、\"df_answer\" が存在しません。変数名を確認してください。')\n",
    "    elif df_answer is None:\n",
    "        print('\"df_answer\" が定義されていません。')\n",
    "    elif df_answer.equals(df_correct):\n",
    "        print('正解です。')\n",
    "    else:\n",
    "        print('不正解です。')\n",
    "\n",
    "check_answer(dataset, df_answer)"
   ]
  }
 ],
 "metadata": {
  "colab": {
   "collapsed_sections": [
    "rb5FBs4l52kN"
   ],
   "provenance": []
  },
  "kernelspec": {
   "display_name": "daily_use",
   "language": "python",
   "name": "python3"
  },
  "language_info": {
   "codemirror_mode": {
    "name": "ipython",
    "version": 3
   },
   "file_extension": ".py",
   "mimetype": "text/x-python",
   "name": "python",
   "nbconvert_exporter": "python",
   "pygments_lexer": "ipython3",
   "version": "3.9.16"
  }
 },
 "nbformat": 4,
 "nbformat_minor": 4
}
