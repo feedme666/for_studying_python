{
  "cells": [
    {
      "cell_type": "markdown",
      "metadata": {
        "id": "Z0y0uX1Outfw"
      },
      "source": [
        "# 自分で触ってよくわかる **データの要約の話**\n",
        "## データの概要をつかむ\n",
        "**最後に課題があります**"
      ]
    },
    {
      "cell_type": "markdown",
      "metadata": {
        "id": "KTKumyu59qde"
      },
      "source": [
        "## 目次\n",
        "### 練習\n",
        "- 練習1: [（google colaboratoryを使っていない場合のみ）*statsmodels* をインストールする](#section1)\n",
        "- 練習2: [statsmodelsをインポートし、サンプルデータを取得する](#section2)\n",
        "- 練習3: [様々なメソッドを使って、サンプルデータを外観する①](#section3)\n",
        "- 練習4: [様々なメソッドを使って、サンプルデータを外観する②](#section4)\n",
        "- 練習5: [様々なメソッドを使って、サンプルデータを外観する⑤](#section5)\n",
        "- 練習6: [他のサンプルデータでも同様のことをやってみる](#section6)\n",
        "\n",
        "\n",
        "### 課題\n",
        "- [課題](#section7)\n"
      ]
    },
    {
      "cell_type": "markdown",
      "metadata": {
        "id": "wx9OI4616-yr"
      },
      "source": [
        "＊＊＊＊＊＊＊＊＊＊＊＊＊＊＊＊＊＊＊＊＊＊＊＊＊＊＊＊＊＊＊＊＊＊＊＊＊＊＊＊\n"
      ]
    },
    {
      "cell_type": "markdown",
      "metadata": {
        "id": "zsx5Eow-utfz"
      },
      "source": [
        "## 練習\n",
        "サンプルのデータセットを読み込んで、そのデータを色々な角度から外観してみましょう。  \n",
        "今回は、*statsmodels* パッケージに含まれているデータセットを使用します。\n",
        "\n",
        "(注) *statsmodels* パッケージとは、統計モデルを用いて推定や検定、探索ができるPythonライブラリのことです。  \n",
        "\n",
        "手順は以下の通りです。  \n",
        "\n",
        "1. (google colaboratoryを使っていない場合のみ) *statsmodels* をインストールする\n",
        "1. statsmodelsをインポートし、サンプルデータを取得する\n",
        "1. 様々なメソッドを使って、サンプルデータを外観する"
      ]
    },
    {
      "cell_type": "markdown",
      "metadata": {
        "id": "YWQTSZFIwP3j"
      },
      "source": [
        "<a id=\"section1\"></a>\n",
        "### 練習1: （google colaboratoryを使っていない場合のみ）*statsmodels* をインストールする\n",
        "\n",
        "statsmodelsを使用するとき、*google colaboratory* を使用している場合は、何もしなくともすぐ使用できます。  \n",
        "それ以外の環境では、statsmodelsパッケージのインストールが必要です。 どこかのセルで、以下を実行してください。  （下記のセルを実行すると、インストールします。）  \n",
        "```\n",
        "pip install statsmodels\n",
        "```  \n",
        "一回インストールしてしまえば、同じ環境であればずっと使えます。  "
      ]
    },
    {
      "cell_type": "code",
      "execution_count": null,
      "metadata": {
        "colab": {
          "base_uri": "https://localhost:8080/"
        },
        "id": "dSyAlUEB0tVe",
        "outputId": "86cd05e6-2fc5-4027-a0df-97fcd576fd3c"
      },
      "outputs": [
        {
          "name": "stdout",
          "output_type": "stream",
          "text": [
            "Requirement already satisfied: pandas in /opt/anaconda3/envs/daily_use/lib/python3.9/site-packages (2.0.3)\n",
            "Requirement already satisfied: python-dateutil>=2.8.2 in /opt/anaconda3/envs/daily_use/lib/python3.9/site-packages (from pandas) (2.8.2)\n",
            "Requirement already satisfied: pytz>=2020.1 in /opt/anaconda3/envs/daily_use/lib/python3.9/site-packages (from pandas) (2022.7.1)\n",
            "Requirement already satisfied: numpy>=1.20.3 in /opt/anaconda3/envs/daily_use/lib/python3.9/site-packages (from pandas) (1.23.5)\n",
            "Requirement already satisfied: tzdata>=2022.1 in /opt/anaconda3/envs/daily_use/lib/python3.9/site-packages (from pandas) (2023.3)\n",
            "Requirement already satisfied: six>=1.5 in /opt/anaconda3/envs/daily_use/lib/python3.9/site-packages (from python-dateutil>=2.8.2->pandas) (1.16.0)\n",
            "Note: you may need to restart the kernel to use updated packages.\n"
          ]
        }
      ],
      "source": [
        "pip install statsmodels"
      ]
    },
    {
      "cell_type": "markdown",
      "metadata": {
        "id": "wTUgG1Pt6J45"
      },
      "source": [
        "***"
      ]
    },
    {
      "cell_type": "markdown",
      "metadata": {
        "id": "ZAnrKMpX0tVf"
      },
      "source": [
        "<a id=\"section2\"></a>\n",
        "### 練習2: statsmodelsをインポートし、サンプルデータを取得する\n",
        "\n",
        "*statsmodels* の *get_rdataset* メソッドを使用して、サンプルデータを取得してみましょう。  \n",
        "＊取得できるサンプルデータは、以下のサイトに列挙されています。  \n",
        "https://vincentarelbundock.github.io/Rdatasets/articles/data.html  \n",
        "\n",
        "csvファイルをダウンロードしてきても良いですが、今回はpython上で取得してみましょう。  \n",
        "statsmodelsを用いて、サンプルデータを取得するコードは、以下のようになります。\n",
        "\n",
        "```\n",
        "import statsmodels.api as sm\n",
        "\n",
        "dataset = sm.datasets.get_rdataset(\"データセット名\", \"パッケージ名\")\n",
        "df = dataset.data\n",
        "```\n",
        "\n",
        "- `import statsmodels.api as sm`  \n",
        "statsmodelsを呼び出して、'sm'という名前で使用できるようにします。\n",
        "\n",
        "- `dataset = sm.datasets.get_rdataset(\"データセット名\", \"パッケージ名\")`  \n",
        "*statsmodels* の *get_rdataset* メソッドを実行します。これにより、得られた情報を、'dataset'という変数に代入します。\n",
        "\n",
        "- `df = dataset.data`  \n",
        "datasetの中に格納されている表データを、'df'という変数に代入します。\n",
        "\n",
        "今回は、以下のコードで *survival* パッケージの *pbc* データを取得しましょう。  \n",
        "\n",
        "```\n",
        "import statsmodels.api as sm\n",
        "\n",
        "dataset = sm.datasets.get_rdataset(\"pbc\", \"survival\")\n",
        "df = dataset.data\n",
        "```\n",
        "\n",
        "それでは、下のセルにコードを書いて、実行してください。"
      ]
    },
    {
      "cell_type": "code",
      "execution_count": 8,
      "metadata": {
        "id": "QL7Y9MuUwP3m"
      },
      "outputs": [],
      "source": []
    },
    {
      "cell_type": "markdown",
      "metadata": {
        "id": "xe3yjCtSwP3n"
      },
      "source": [
        "何も出力されませんが、エラーがでなければ成功しています。  \n",
        "次に進みましょう。"
      ]
    },
    {
      "cell_type": "markdown",
      "metadata": {
        "id": "wrdFl8mFwP3n"
      },
      "source": [
        "### おまけ  \n",
        "「なんのデータやねん」  \n",
        "普通はそう思いますよね。\n",
        "\n",
        "statsmodelsを用いて取得したデータセットの中には、データセットの説明文も格納されています。  \n",
        "以下のコードで呼び出すことができます。\n",
        "```\n",
        "print(dataset.__doc__)\n",
        "\n",
        "# ここでいう変数'dataset'は、取得してきたデータセットを代入した変数\n",
        "```\n",
        "\n",
        "それでは、下のセルにコードを書いて、実行してください。"
      ]
    },
    {
      "cell_type": "code",
      "execution_count": null,
      "metadata": {
        "colab": {
          "base_uri": "https://localhost:8080/"
        },
        "id": "da9hNpNZwP3n",
        "outputId": "58392561-5c28-452c-f4bb-526497d29e81"
      },
      "outputs": [],
      "source": []
    },
    {
      "cell_type": "markdown",
      "metadata": {
        "id": "hSufxopKRlLP"
      },
      "source": [
        "取得したサンプルデータの説明文が表示されました。"
      ]
    },
    {
      "cell_type": "markdown",
      "metadata": {
        "id": "ZeXmiGcE6RHj"
      },
      "source": [
        "***"
      ]
    },
    {
      "cell_type": "markdown",
      "metadata": {
        "id": "mDojmN-H0tVf"
      },
      "source": [
        "<a id=\"section3\"></a>\n",
        "### 練習3: 様々なメソッドを使って、サンプルデータを外観する①\n",
        "\n",
        "上で取得したデータが、変数'df'に代入されています。\n",
        "\n",
        "まず、以下のコードを実行して、最初の5行を出力して、取得したサンプルデータがどのようなものなのか、確認してみましょう。\n",
        "\n",
        "```\n",
        "df.head()\n",
        "```\n",
        "\n",
        "それでは、下のセルにコードを書いて、実行してください。\n"
      ]
    },
    {
      "cell_type": "code",
      "execution_count": null,
      "metadata": {
        "colab": {
          "base_uri": "https://localhost:8080/",
          "height": 204
        },
        "id": "RdAs8yEqwP3o",
        "outputId": "4e23718f-b78e-465a-d080-9d6b1e6c1567"
      },
      "outputs": [],
      "source": []
    },
    {
      "cell_type": "markdown",
      "metadata": {
        "id": "Gb2df7bdwP3o"
      },
      "source": [
        "表データが出ましたか？  \n",
        "エラーが出てしまう場合、もう一度 \"練習2\" に戻って、データを取得するところからやり直してみてください。\n",
        "\n",
        "ここでおおよそどのような値があるのか、確認します。具体的には、\n",
        "- 列名\n",
        "- 要素\n",
        "\n",
        "をみて、どのような表なのかをざっと想像しておきます。  \n",
        "今回のサンプルデータは、'age'や'sex'、'ascites'、'bili'などの列名があることから、なんとなく肝疾患患者のデータかなぁと予測がつきます。"
      ]
    },
    {
      "cell_type": "markdown",
      "metadata": {
        "id": "Of3usjMfwP3o"
      },
      "source": [
        "次に、特定の列のデータの平均値や中央値を見ていきましょう。\n",
        "\n",
        "まず、'age'列の特徴を見ていきましょう。\n",
        "\n",
        "ここでは、*describe* メソッドを用います。   \n",
        "以下のコードを実行すると、'age'列に関連する、複数の値が出力されます。\n",
        "```\n",
        "df['age'].describe()\n",
        "```\n",
        "\n",
        "それでは、下のセルにコードを書いて、実行してください。"
      ]
    },
    {
      "cell_type": "code",
      "execution_count": null,
      "metadata": {
        "colab": {
          "base_uri": "https://localhost:8080/"
        },
        "id": "Zir1Mid-wP3o",
        "outputId": "26206852-e125-4e9b-fe29-d550d74d04d2"
      },
      "outputs": [],
      "source": []
    },
    {
      "cell_type": "markdown",
      "metadata": {
        "id": "CX0vdPSuwP3p"
      },
      "source": [
        "出力された結果は、上から順に以下の数字が並んでいます。\n",
        "- 要素の数 (非欠損値の数)\n",
        "- 平均\n",
        "- 標準偏差\n",
        "- 最小値\n",
        "- 第１四分位数\n",
        "- 中央値(第2四分位数)\n",
        "- 第3四分位数\n",
        "- 最大値\n",
        "\n",
        "別の方法で一つ一つ出力することは可能ですが、データを外観する場合は、*describe* メソッドを用いるのが効率的です。\n",
        "これで、連続値を要素にもつ'age'列のデータを外観することができました。"
      ]
    },
    {
      "cell_type": "markdown",
      "metadata": {
        "id": "6BjlWl1PwP3p"
      },
      "source": [
        "### おまけ\n",
        "*pandas* パッケージだけで、データの簡単な図示が可能です。  \n",
        "'age'列を箱ひげ図で示してみましょう。\n",
        "\n",
        "ここでは、*plot.box* メソッドを使います。\n",
        "\n",
        "```\n",
        "df['age'].plot.box()\n",
        "```\n",
        "\n",
        "それでは、下のセルにコードを書いて、実行してください。"
      ]
    },
    {
      "cell_type": "code",
      "execution_count": null,
      "metadata": {
        "colab": {
          "base_uri": "https://localhost:8080/",
          "height": 447
        },
        "id": "k_P1ZuWSwP3p",
        "outputId": "a53008fe-667b-4748-bf36-5425988aee62"
      },
      "outputs": [],
      "source": []
    },
    {
      "cell_type": "markdown",
      "metadata": {
        "id": "GkShOoAfwP3p"
      },
      "source": [
        "今度は、'age'列をヒストグラムで示してみましょう。\n",
        "\n",
        "*hist* メソッドを使ってみましょう。\n",
        "\n",
        "```\n",
        "df['age'].hist()\n",
        "```\n",
        "\n",
        "それでは、下のセルにコードを書いて、実行してください。"
      ]
    },
    {
      "cell_type": "code",
      "execution_count": null,
      "metadata": {
        "colab": {
          "base_uri": "https://localhost:8080/",
          "height": 448
        },
        "id": "bSxZ29DXwP3p",
        "outputId": "92d4ba54-2307-43c6-bad8-77d91816f91c"
      },
      "outputs": [],
      "source": []
    },
    {
      "cell_type": "markdown",
      "metadata": {
        "id": "vYXdaFmPwP3q"
      },
      "source": [
        "このように、データを簡単に外観するだけであれば、他のパッケージを使わず、図を書くことができます。\n",
        "\n",
        "（参考）\n",
        "https://qiita.com/sckln/items/b13a52bec3ce13892936"
      ]
    },
    {
      "cell_type": "markdown",
      "metadata": {
        "id": "85CZFeNwwP3q"
      },
      "source": [
        "***"
      ]
    },
    {
      "cell_type": "markdown",
      "metadata": {
        "id": "OaGsoKU3wP3q"
      },
      "source": [
        "<a id=\"section4\"></a>\n",
        "### 練習4: 様々なメソッドを使って、サンプルデータを外観する②\n",
        "\n",
        "先ほどは、連続値を要素にもつ'age'列をみてみました。  \n",
        "今度は、カテゴリーを要素にもつ'sex'列に、先ほどの*describe* メソッドを適用してみましょう。\n",
        "\n",
        "```\n",
        "df['sex'].describe()\n",
        "```\n",
        "\n",
        "それでは、下のセルにコードを書いて、実行してください。"
      ]
    },
    {
      "cell_type": "code",
      "execution_count": null,
      "metadata": {
        "colab": {
          "base_uri": "https://localhost:8080/"
        },
        "id": "vtf8mck7wP3q",
        "outputId": "510ca33b-505c-445b-a70d-3c5cf06fb494"
      },
      "outputs": [],
      "source": []
    },
    {
      "cell_type": "markdown",
      "metadata": {
        "id": "C6gZOIYswP3q"
      },
      "source": [
        "出力された結果は、上から順に以下の数字が並んでいます。\n",
        "- 要素の数 (非欠損値の数)\n",
        "- 固有の値の数（いくつカテゴリーがあるか）\n",
        "- 最も出現頻度の多い値\n",
        "- 最頻値の出現回数\n",
        "\n",
        "先ほどの'age'列に *describe* メソッドを適用した場合と異なりますね。  \n",
        "このように、*describe* メソッドは、どのような変数なのかを自動的に判別してくれます。"
      ]
    },
    {
      "cell_type": "markdown",
      "metadata": {
        "id": "AkcyIslPwP3q"
      },
      "source": [
        "それでは、今度は'ascites'列をみてみましょう。\n",
        "\n",
        "説明文を読むと、この列は、*腹水あり:1 、腹水なし:0* という要素が含まれています。  \n",
        "カテゴリー変数ということです。  \n",
        "ここで、下記のように*describe* メソッドを適用してみましょう。\n",
        "\n",
        "```\n",
        "df['ascites'].describe()\n",
        "```\n",
        "\n",
        "それでは、下のセルにコードを書いて、実行してください。"
      ]
    },
    {
      "cell_type": "code",
      "execution_count": null,
      "metadata": {
        "id": "U2DUcTQFwP3r",
        "outputId": "0428a123-ee29-413e-8343-dc15b454276d"
      },
      "outputs": [],
      "source": []
    },
    {
      "cell_type": "markdown",
      "metadata": {
        "id": "yVkTWPUtwP3r"
      },
      "source": [
        "おやおや？  \n",
        "この方法では、'asites'列は連続変数として認識されてしまっているようです。なぜでしょうか。  \n",
        "\n",
        "そこで、*info* メソッドを使って、dfの各列が、それぞれどのようにpythonに認識されているかを確認しましょう。\n",
        "\n",
        "```\n",
        "df.info()\n",
        "```\n",
        "\n",
        "それでは、下のセルにコードを書いて、実行してください。"
      ]
    },
    {
      "cell_type": "code",
      "execution_count": null,
      "metadata": {
        "colab": {
          "base_uri": "https://localhost:8080/"
        },
        "id": "Y-6zte0MwP3r",
        "outputId": "003f65df-ed64-4cb7-9b57-3e6dc87d7403"
      },
      "outputs": [],
      "source": []
    },
    {
      "cell_type": "markdown",
      "metadata": {
        "id": "NiCfd7yswP3r"
      },
      "source": [
        "出力されたデータの、一番右の列'Dtype'をみてください。  \n",
        "これは、pythonが認識している、それぞれの列の'型'になります。\n",
        "\n",
        "'int'という文字が含まれている場合は、その列は'整数値'と認識されています。  \n",
        "'float'という文字が含まれている場合は、その列は'小数点を含む数'と認識されています。  \n",
        "いずれも、連続値として認識され、*describe* メソッドを適用した場合は、連続値に適した評価が実行されます。\n",
        "\n",
        "一方、'object'という文字が含まれるデータに対して、*describe* メソッドを適用した場合は、文字列に適した評価が実行されます。\n",
        "\n",
        "今回、`df['ascites'].describe()`を実行した時、連続値として扱われてしまったために、平均値や標準偏差が出力されてしまいました。\n",
        "\n",
        "それでは、'ascites'列を、カテゴリー変数であると、pythonに明示してあげましょう。  \n",
        "そのためには *astype* メソッドを用います。\n",
        "\n",
        "```\n",
        "df['ascites'] = df['ascites'].astype('category')\n",
        "```\n",
        "\n",
        "このコードを説明します。  \n",
        "*astype* メソッドを実行すると、新たな列を作成します。どのような列かというと、このメソッドが適用された変数（この場合は`df['ascites']`）を、その後のカッコ内に書かれている型（この場合は`'category'`）に変換した列です。\n",
        "\n",
        "さらに、このコードでは、その新たに作った列を、もう一度`df['ascites']`に代入しなおしています。  \n",
        "これにより、'ascites'列が、型をcategoryとしたものに書き換えられたことになります。\n",
        "\n",
        "それでは、下のセルにコードを書いて、実行してみましょう。"
      ]
    },
    {
      "cell_type": "code",
      "execution_count": null,
      "metadata": {
        "id": "qgZpwLKiwP3s"
      },
      "outputs": [],
      "source": []
    },
    {
      "cell_type": "markdown",
      "metadata": {
        "id": "inm3P_MiwP3s"
      },
      "source": [
        "何もエラーが出なければ、書き換えが終了しています。  \n",
        "ちゃんと書き換えができているか、以下のコードを実行して確認してみましょう。\n",
        "\n",
        "```\n",
        "df.info()\n",
        "```\n",
        "それでは、下のセルにコードを書いて、実行してみましょう。"
      ]
    },
    {
      "cell_type": "code",
      "execution_count": null,
      "metadata": {
        "id": "KA66bUh_wP3s",
        "outputId": "c0ee236c-5708-4331-a7a8-3abc9d18b056"
      },
      "outputs": [],
      "source": []
    },
    {
      "cell_type": "markdown",
      "metadata": {
        "id": "Zrh-yHi4wP3s"
      },
      "source": [
        "'asites'のDtypeが、'category'になっていれば、成功です。\n",
        "\n",
        "そこで、もう一度、*describe* メソッドを使って、外観してみましょう。\n",
        "\n",
        "```\n",
        "df['ascites'].describe()\n",
        "```"
      ]
    },
    {
      "cell_type": "code",
      "execution_count": null,
      "metadata": {
        "id": "hLSzLKcSwP3t",
        "outputId": "f07047ee-05a0-4df8-f50a-b81f839ddeb0"
      },
      "outputs": [],
      "source": []
    },
    {
      "cell_type": "markdown",
      "metadata": {
        "id": "2o9lOtLXwP3t"
      },
      "source": [
        "ちゃんと、欲しい解析をしてくれました。"
      ]
    },
    {
      "cell_type": "markdown",
      "metadata": {
        "id": "hobiMwwY6Tws"
      },
      "source": [
        "***"
      ]
    },
    {
      "cell_type": "markdown",
      "metadata": {
        "id": "A_04uNyCutf1"
      },
      "source": [
        "<a id=\"section5\"></a>\n",
        "### 練習5: 様々なメソッドを使って、サンプルデータを外観する③\n",
        "\n",
        "次に、'age'列の欠損値を調べてみましょう。  \n",
        "欠損値に関わるデータは、先ほどの*info* メソッドでも記述されますが、ここでは *isnull()* メソッドを使って調べてみましょう。  \n",
        "\n",
        "```\n",
        "df['age'].isnull()\n",
        "```\n",
        "\n",
        "それでは、以下のセルにコードを書いて、実行してみましょう。"
      ]
    },
    {
      "cell_type": "code",
      "execution_count": null,
      "metadata": {
        "id": "hfQlJcixutf2",
        "outputId": "6fa8cce3-07ce-45c8-8ecd-b3711ec847d0"
      },
      "outputs": [],
      "source": []
    },
    {
      "cell_type": "markdown",
      "metadata": {
        "id": "aM_MWzAF0tVg"
      },
      "source": [
        "*False* という結果が羅列されました。  \n",
        "これは、その行の要素は「欠損値ではない」ということを意味します。  \n",
        "もし、*True* という結果であれば、その行において「欠損値である」ということです。\n",
        "\n",
        "しかし、このままでは見づらいですね…   \n",
        "そこで *True* だけを抜き出して、その合計数を算出してみましょう。それには、*sum* メソッドを使います。\n",
        "\n",
        "以下のように記述します。\n",
        "```\n",
        "df['age'].isnull().sum()\n",
        "```\n",
        "\n",
        "これは、*isnull* メソッドで *True* が得られたものを、全て合計するという意味になります。   \n",
        "この二つのメソッド（isnullとsum）を連続して、一つの表現の中で用いることを、*メソッドチェーン*と言います。\n",
        "\n",
        "それでは、以下のセルにコードを書いて、実行してみましょう。"
      ]
    },
    {
      "cell_type": "code",
      "execution_count": null,
      "metadata": {
        "colab": {
          "base_uri": "https://localhost:8080/"
        },
        "id": "cqPqaPdV1rdo",
        "outputId": "2bd38d88-25f6-4bb6-cd47-76f0752cf444"
      },
      "outputs": [],
      "source": []
    },
    {
      "cell_type": "markdown",
      "metadata": {
        "id": "_8Y5g1ye2hYr"
      },
      "source": [
        "'0'が表示されたら、成功です。欠損値は一つもないのです。\n",
        "\n",
        "次は'ascites'列の欠損値を確認してみます。\n",
        "\n",
        "```\n",
        "df['ascites'].isnull().sum()\n",
        "```\n",
        "\n",
        "それでは、以下のセルにコード書いて、実行してみましょう。"
      ]
    },
    {
      "cell_type": "code",
      "execution_count": null,
      "metadata": {
        "colab": {
          "base_uri": "https://localhost:8080/",
          "height": 269
        },
        "id": "dQXkl7Ye2gkQ",
        "outputId": "2c87a041-fe56-411d-8b13-f856af6b65a9"
      },
      "outputs": [],
      "source": []
    },
    {
      "cell_type": "markdown",
      "metadata": {
        "id": "ic_azVx24AyP"
      },
      "source": [
        "'106' と出力されましたか？ 106個の欠損値があるということです。\n",
        "\n",
        "このデータセットを用いる場合は、欠損値の管理が必要になります。"
      ]
    },
    {
      "cell_type": "markdown",
      "metadata": {
        "id": "vtB--u6m60QO"
      },
      "source": [
        "***"
      ]
    },
    {
      "cell_type": "markdown",
      "metadata": {
        "id": "JqSS5c7outf2"
      },
      "source": [
        "<a id=\"section6\"></a>\n",
        "## 練習6: 他のサンプルデータでも同様のことをやってみる。\n",
        "それでは、全く同じことを、他のサンプルデータでもやってみましょう。\n",
        "\n",
        "以下のサイトから、サンプルデータを一つ選んでください。  \n",
        "https://vincentarelbundock.github.io/Rdatasets/articles/data.html\n",
        "\n",
        "まず、選んだサンプルデータを、*statsmodels* パッケージを用いて呼び出してください。\n",
        "\n"
      ]
    },
    {
      "cell_type": "code",
      "execution_count": null,
      "metadata": {
        "id": "1T6E6N9Eutf2"
      },
      "outputs": [],
      "source": []
    },
    {
      "cell_type": "markdown",
      "metadata": {
        "id": "lMOXbaPH52kM"
      },
      "source": [
        "その後、取得したサンプルデータのうち、連続値の変数を一つ選び、以下を確認してください。\n",
        "- 要素の数 (非欠損値の数)\n",
        "- 平均\n",
        "- 標準偏差\n",
        "- 最小値\n",
        "- 第１四分位数\n",
        "- 中央値(第2四分位数)\n",
        "- 第3四分位数\n",
        "- 最大値\n",
        "- 欠損値の数"
      ]
    },
    {
      "cell_type": "code",
      "execution_count": null,
      "metadata": {
        "id": "V-IqvRhwVQ3J"
      },
      "outputs": [],
      "source": []
    },
    {
      "cell_type": "markdown",
      "metadata": {
        "id": "4N4QUxkQVSCZ"
      },
      "source": [
        "さらに、取得したサンプルデータのうち、カテゴリー変数を一つ選び、以下を確認してください。\n",
        "- 要素の数 (非欠損値の数)\n",
        "- 固有の値の数（いくつカテゴリーがあるか）\n",
        "- 最も出現頻度の多い値\n",
        "- 最頻値の出現回数\n",
        "- 欠損値の数"
      ]
    },
    {
      "cell_type": "code",
      "execution_count": null,
      "metadata": {
        "id": "1zUBPl3o52kM"
      },
      "outputs": [],
      "source": []
    },
    {
      "cell_type": "markdown",
      "metadata": {},
      "source": [
        "***"
      ]
    },
    {
      "cell_type": "markdown",
      "metadata": {},
      "source": [
        "<a id=\"section7\"></a>\n",
        "## 課題: survivalパッケージにあるpbcデータについて、 治療別にデータを要約してみましょう\n",
        "- 治療方法を表す変数: trt\n",
        "- *groupby* メソッドと、*describe* メソッドををメソッドチェーンで繋いでみましょう。\n",
        "\n",
        "なお、*groupby* メソッドを、以下のように挟んで実行することによって、dfを、カテゴリー変数'A'の要素別にデータを分けて分析することができます。\n",
        "\n",
        "```\n",
        "df.groupby('A').describe()\n",
        "```\n",
        "\n",
        "さらに、分析したいデータを一つの列'B'に絞りたい場合は、以下のように*groupby* メソッドを用いて記述します。\n",
        "```\n",
        "df.groupby('A')['B'].describe()\n",
        "```\n"
      ]
    },
    {
      "cell_type": "code",
      "execution_count": null,
      "metadata": {},
      "outputs": [],
      "source": []
    },
    {
      "cell_type": "markdown",
      "metadata": {
        "id": "rb5FBs4l52kN"
      },
      "source": [
        "## 回答チェック\n",
        "以下のコードを実行して、同じような結果が出力されればクリアです。"
      ]
    },
    {
      "cell_type": "code",
      "execution_count": 1,
      "metadata": {
        "colab": {
          "base_uri": "https://localhost:8080/"
        },
        "id": "zqsyXNeS52kN",
        "outputId": "99c9b22b-3ced-4318-94ca-84237e0beec0"
      },
      "outputs": [
        {
          "data": {
            "text/html": [
              "<div>\n",
              "<style scoped>\n",
              "    .dataframe tbody tr th:only-of-type {\n",
              "        vertical-align: middle;\n",
              "    }\n",
              "\n",
              "    .dataframe tbody tr th {\n",
              "        vertical-align: top;\n",
              "    }\n",
              "\n",
              "    .dataframe thead tr th {\n",
              "        text-align: left;\n",
              "    }\n",
              "\n",
              "    .dataframe thead tr:last-of-type th {\n",
              "        text-align: right;\n",
              "    }\n",
              "</style>\n",
              "<table border=\"1\" class=\"dataframe\">\n",
              "  <thead>\n",
              "    <tr>\n",
              "      <th></th>\n",
              "      <th colspan=\"8\" halign=\"left\">id</th>\n",
              "      <th colspan=\"2\" halign=\"left\">time</th>\n",
              "      <th>...</th>\n",
              "      <th colspan=\"2\" halign=\"left\">protime</th>\n",
              "      <th colspan=\"8\" halign=\"left\">stage</th>\n",
              "    </tr>\n",
              "    <tr>\n",
              "      <th></th>\n",
              "      <th>count</th>\n",
              "      <th>mean</th>\n",
              "      <th>std</th>\n",
              "      <th>min</th>\n",
              "      <th>25%</th>\n",
              "      <th>50%</th>\n",
              "      <th>75%</th>\n",
              "      <th>max</th>\n",
              "      <th>count</th>\n",
              "      <th>mean</th>\n",
              "      <th>...</th>\n",
              "      <th>75%</th>\n",
              "      <th>max</th>\n",
              "      <th>count</th>\n",
              "      <th>mean</th>\n",
              "      <th>std</th>\n",
              "      <th>min</th>\n",
              "      <th>25%</th>\n",
              "      <th>50%</th>\n",
              "      <th>75%</th>\n",
              "      <th>max</th>\n",
              "    </tr>\n",
              "    <tr>\n",
              "      <th>trt</th>\n",
              "      <th></th>\n",
              "      <th></th>\n",
              "      <th></th>\n",
              "      <th></th>\n",
              "      <th></th>\n",
              "      <th></th>\n",
              "      <th></th>\n",
              "      <th></th>\n",
              "      <th></th>\n",
              "      <th></th>\n",
              "      <th></th>\n",
              "      <th></th>\n",
              "      <th></th>\n",
              "      <th></th>\n",
              "      <th></th>\n",
              "      <th></th>\n",
              "      <th></th>\n",
              "      <th></th>\n",
              "      <th></th>\n",
              "      <th></th>\n",
              "      <th></th>\n",
              "    </tr>\n",
              "  </thead>\n",
              "  <tbody>\n",
              "    <tr>\n",
              "      <th>1.0</th>\n",
              "      <td>158.0</td>\n",
              "      <td>159.829114</td>\n",
              "      <td>87.349739</td>\n",
              "      <td>1.0</td>\n",
              "      <td>86.25</td>\n",
              "      <td>156.0</td>\n",
              "      <td>236.75</td>\n",
              "      <td>311.0</td>\n",
              "      <td>158.0</td>\n",
              "      <td>2015.620253</td>\n",
              "      <td>...</td>\n",
              "      <td>11.0</td>\n",
              "      <td>14.1</td>\n",
              "      <td>158.0</td>\n",
              "      <td>2.974684</td>\n",
              "      <td>0.937196</td>\n",
              "      <td>1.0</td>\n",
              "      <td>2.0</td>\n",
              "      <td>3.0</td>\n",
              "      <td>4.0</td>\n",
              "      <td>4.0</td>\n",
              "    </tr>\n",
              "    <tr>\n",
              "      <th>2.0</th>\n",
              "      <td>154.0</td>\n",
              "      <td>153.084416</td>\n",
              "      <td>93.216450</td>\n",
              "      <td>5.0</td>\n",
              "      <td>68.00</td>\n",
              "      <td>156.5</td>\n",
              "      <td>230.75</td>\n",
              "      <td>312.0</td>\n",
              "      <td>154.0</td>\n",
              "      <td>1996.863636</td>\n",
              "      <td>...</td>\n",
              "      <td>11.4</td>\n",
              "      <td>17.1</td>\n",
              "      <td>154.0</td>\n",
              "      <td>3.090909</td>\n",
              "      <td>0.811387</td>\n",
              "      <td>1.0</td>\n",
              "      <td>3.0</td>\n",
              "      <td>3.0</td>\n",
              "      <td>4.0</td>\n",
              "      <td>4.0</td>\n",
              "    </tr>\n",
              "  </tbody>\n",
              "</table>\n",
              "<p>2 rows × 144 columns</p>\n",
              "</div>"
            ],
            "text/plain": [
              "        id                                                            time  \\\n",
              "     count        mean        std  min    25%    50%     75%    max  count   \n",
              "trt                                                                          \n",
              "1.0  158.0  159.829114  87.349739  1.0  86.25  156.0  236.75  311.0  158.0   \n",
              "2.0  154.0  153.084416  93.216450  5.0  68.00  156.5  230.75  312.0  154.0   \n",
              "\n",
              "                  ... protime        stage                                     \\\n",
              "            mean  ...     75%   max  count      mean       std  min  25%  50%   \n",
              "trt               ...                                                           \n",
              "1.0  2015.620253  ...    11.0  14.1  158.0  2.974684  0.937196  1.0  2.0  3.0   \n",
              "2.0  1996.863636  ...    11.4  17.1  154.0  3.090909  0.811387  1.0  3.0  3.0   \n",
              "\n",
              "               \n",
              "     75%  max  \n",
              "trt            \n",
              "1.0  4.0  4.0  \n",
              "2.0  4.0  4.0  \n",
              "\n",
              "[2 rows x 144 columns]"
            ]
          },
          "execution_count": 1,
          "metadata": {},
          "output_type": "execute_result"
        }
      ],
      "source": [
        "import statsmodels.api as sm\n",
        "\n",
        "dataset = sm.datasets.get_rdataset(\"pbc\", \"survival\")\n",
        "\n",
        "def check_answer(dataset):\n",
        "    data_pbc = dataset.data\n",
        "    return data_pbc.groupby('trt').describe()\n",
        "\n",
        "check_answer(dataset)"
      ]
    }
  ],
  "metadata": {
    "colab": {
      "collapsed_sections": [
        "rb5FBs4l52kN"
      ],
      "provenance": []
    },
    "kernelspec": {
      "display_name": "daily_use",
      "language": "python",
      "name": "python3"
    },
    "language_info": {
      "codemirror_mode": {
        "name": "ipython",
        "version": 3
      },
      "file_extension": ".py",
      "mimetype": "text/x-python",
      "name": "python",
      "nbconvert_exporter": "python",
      "pygments_lexer": "ipython3",
      "version": "3.9.16"
    }
  },
  "nbformat": 4,
  "nbformat_minor": 0
}
