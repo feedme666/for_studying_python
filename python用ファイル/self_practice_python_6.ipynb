{
 "cells": [
  {
   "cell_type": "markdown",
   "metadata": {
    "id": "Z0y0uX1Outfw"
   },
   "source": [
    "# 自分で触ってよくわかる **変数分布の可視化の話**\n",
    "## 1変数の分布をグラフにする\n",
    "**最後に課題があります**"
   ]
  },
  {
   "cell_type": "markdown",
   "metadata": {
    "id": "KTKumyu59qde"
   },
   "source": [
    "## 目次\n",
    "### 練習\n",
    "- 練習1: [（google colaboratoryを使っていない場合のみ）*statsmodels* をインストールする](#section1)\n",
    "- 練習2: [statsmodelsをインポートし、サンプルデータを取得する](#section2)\n",
    "- 練習3: [量的変数の分布をグラフで確認する](#section3)\n",
    "- 練習4: [質的変数の分布をグラフで確認する](#section4)\n",
    "\n",
    "### 課題\n",
    "- [課題](#section6)"
   ]
  },
  {
   "cell_type": "markdown",
   "metadata": {
    "id": "wx9OI4616-yr"
   },
   "source": [
    "＊＊＊＊＊＊＊＊＊＊＊＊＊＊＊＊＊＊＊＊＊＊＊＊＊＊＊＊＊＊＊＊＊＊＊＊＊＊＊＊\n"
   ]
  },
  {
   "cell_type": "markdown",
   "metadata": {
    "id": "zsx5Eow-utfz"
   },
   "source": [
    "## 練習\n",
    "サンプルのデータセットを読み込んで、そのデータを色々な角度から外観してみましょう。  \n",
    "今回は、*statsmodels* パッケージに含まれているデータセットを使用します。\n",
    "\n",
    "(注) *statsmodels* パッケージとは、統計モデルを用いて推定や検定、探索ができるPythonライブラリのことです。  \n",
    "\n",
    "手順は以下の通りです。  \n",
    "\n",
    "1. (google colaboratoryを使っていない場合のみ) *statsmodels* をインストールする\n",
    "1. statsmodelsをインポートし、サンプルデータを取得する\n",
    "1. 量的変数の分布をグラフで確認する\n",
    "2. 質的変数の分布をグラフで確認する"
   ]
  },
  {
   "cell_type": "markdown",
   "metadata": {
    "id": "YWQTSZFIwP3j"
   },
   "source": [
    "<a id=\"section1\"></a>\n",
    "### 練習1: （google colaboratoryを使っていない場合のみ）*statsmodels* をインストールする\n",
    "\n",
    "statsmodelsを使用するとき、*google colaboratory* を使用している場合は、何もしなくともすぐ使用できます。  \n",
    "それ以外の環境では、statsmodelsパッケージのインストールが必要です。 どこかのセルで、以下を実行してください。  （下記のセルを実行すると、インストールします。）  \n",
    "```\n",
    "pip install statsmodels\n",
    "```  \n",
    "一回インストールしてしまえば、同じ環境であればずっと使えます。  "
   ]
  },
  {
   "cell_type": "code",
   "execution_count": 1,
   "metadata": {
    "colab": {
     "base_uri": "https://localhost:8080/"
    },
    "id": "dSyAlUEB0tVe",
    "outputId": "86cd05e6-2fc5-4027-a0df-97fcd576fd3c"
   },
   "outputs": [
    {
     "name": "stdout",
     "output_type": "stream",
     "text": [
      "Requirement already satisfied: statsmodels in /opt/anaconda3/envs/daily_use/lib/python3.9/site-packages (0.13.5)\n",
      "Requirement already satisfied: pandas>=0.25 in /opt/anaconda3/envs/daily_use/lib/python3.9/site-packages (from statsmodels) (2.0.3)\n",
      "Requirement already satisfied: scipy>=1.3 in /opt/anaconda3/envs/daily_use/lib/python3.9/site-packages (from statsmodels) (1.9.3)\n",
      "Requirement already satisfied: numpy>=1.17 in /opt/anaconda3/envs/daily_use/lib/python3.9/site-packages (from statsmodels) (1.23.5)\n",
      "Requirement already satisfied: patsy>=0.5.2 in /opt/anaconda3/envs/daily_use/lib/python3.9/site-packages (from statsmodels) (0.5.3)\n",
      "Requirement already satisfied: packaging>=21.3 in /opt/anaconda3/envs/daily_use/lib/python3.9/site-packages (from statsmodels) (23.0)\n",
      "Requirement already satisfied: python-dateutil>=2.8.2 in /opt/anaconda3/envs/daily_use/lib/python3.9/site-packages (from pandas>=0.25->statsmodels) (2.8.2)\n",
      "Requirement already satisfied: tzdata>=2022.1 in /opt/anaconda3/envs/daily_use/lib/python3.9/site-packages (from pandas>=0.25->statsmodels) (2023.3)\n",
      "Requirement already satisfied: pytz>=2020.1 in /opt/anaconda3/envs/daily_use/lib/python3.9/site-packages (from pandas>=0.25->statsmodels) (2022.7.1)\n",
      "Requirement already satisfied: six in /opt/anaconda3/envs/daily_use/lib/python3.9/site-packages (from patsy>=0.5.2->statsmodels) (1.16.0)\n",
      "Note: you may need to restart the kernel to use updated packages.\n"
     ]
    }
   ],
   "source": [
    "pip install statsmodels"
   ]
  },
  {
   "cell_type": "markdown",
   "metadata": {
    "id": "wTUgG1Pt6J45"
   },
   "source": [
    "***"
   ]
  },
  {
   "cell_type": "markdown",
   "metadata": {
    "id": "ZAnrKMpX0tVf"
   },
   "source": [
    "<a id=\"section2\"></a>\n",
    "### 練習2: statsmodelsをインポートし、サンプルデータを取得する\n",
    "\n",
    "*statsmodels* の *get_rdataset* メソッドを使用して、サンプルデータを取得してみましょう。  \n",
    "＊取得できるサンプルデータは、以下のサイトに列挙されています。  \n",
    "https://vincentarelbundock.github.io/Rdatasets/articles/data.html  \n",
    "\n",
    "前回の自主練と同様に、下記のコードを実行して、*survival* パッケージの *pbc* データを取得しましょう。  \n",
    "\n",
    "```\n",
    "import statsmodels.api as sm\n",
    "\n",
    "dataset = sm.datasets.get_rdataset(\"pbc\", \"survival\")\n",
    "df = dataset.data\n",
    "```\n",
    "\n",
    "それでは、下のセルにコードを書いて、実行してください。"
   ]
  },
  {
   "cell_type": "code",
   "execution_count": 2,
   "metadata": {
    "id": "QL7Y9MuUwP3m"
   },
   "outputs": [],
   "source": []
  },
  {
   "cell_type": "markdown",
   "metadata": {
    "id": "xe3yjCtSwP3n"
   },
   "source": [
    "何も出力されませんが、エラーがでなければ成功しています。  \n",
    "次に進みましょう。"
   ]
  },
  {
   "cell_type": "markdown",
   "metadata": {
    "id": "ZeXmiGcE6RHj"
   },
   "source": [
    "***"
   ]
  },
  {
   "cell_type": "markdown",
   "metadata": {
    "id": "mDojmN-H0tVf"
   },
   "source": [
    "<a id=\"section3\"></a>\n",
    "### 練習3: 量的変数の分布をグラフで確認する\n",
    "\n",
    "上で取得したデータが、変数'df'に代入されています。\n",
    "\n",
    "まず、以下のコードを実行して、最初の5行を出力して、取得したサンプルデータがどのようなものなのか、確認してみましょう。\n",
    "\n",
    "```\n",
    "df.head()\n",
    "```\n",
    "\n",
    "それでは、下のセルにコードを書いて、実行してください。\n"
   ]
  },
  {
   "cell_type": "code",
   "execution_count": null,
   "metadata": {
    "colab": {
     "base_uri": "https://localhost:8080/",
     "height": 204
    },
    "id": "RdAs8yEqwP3o",
    "outputId": "4e23718f-b78e-465a-d080-9d6b1e6c1567"
   },
   "outputs": [],
   "source": []
  },
  {
   "cell_type": "markdown",
   "metadata": {
    "id": "Gb2df7bdwP3o"
   },
   "source": [
    "次に、図示をするためのパッケージを読み込みましょう。\n",
    "\n",
    "前回の自主練では、*pandas* パッケージの中にあるメソッドを使ってみました。  \n",
    "今回は、より複雑なことができる *matplotlib* パッケージを使ってみましょう。\n",
    "以下のようにして、*matplotlib* パッケージを読み込んでください。\n",
    "\n",
    "```\n",
    "import matplotlib.pyplot as plt\n",
    "```\n",
    "\n",
    "それでは、下のセルにコードを書いて、実行してください。"
   ]
  },
  {
   "cell_type": "code",
   "execution_count": 4,
   "metadata": {},
   "outputs": [],
   "source": []
  },
  {
   "cell_type": "markdown",
   "metadata": {
    "id": "Of3usjMfwP3o"
   },
   "source": [
    "これで、`plt`と記述するだけで、*matplotlib* パッケージを呼び出せるようになりました。\n",
    "\n",
    "（余談ですが、*matplotlib* パッケージは、基本的に *pyplot* モジュールしか使いません。  \n",
    "そのため「*matplotlib* パッケージは、`import matplotlib.pyplot as plt`というコードで呼び出す」と暗記しても構いません）\n",
    "\n",
    "次に、*hist* メソッドを用いて、'age'列のヒストグラムを書いてみましょう。\n",
    "以下のコードで表示できます。\n",
    "\n",
    "```\n",
    "plt.hist(df['age'])\n",
    "plt.show()\n",
    "```\n",
    "\n",
    "それぞれのコードを説明します。\n",
    "\n",
    "```\n",
    "plt.hist(df['age'])\n",
    "```\n",
    "このコードで *matplotlib* パッケージの *hist* メソッドを呼び出します。このメソッドを使うと、データフレームの'age'列に含まれるデータを使って、ヒストグラムを作成します\n",
    "\n",
    "```\n",
    "plt.show()\n",
    "```\n",
    "このコードを実行すると、グラフを描出します。\n",
    "\n",
    "それでは、下のセルにコードを書いて、実行してください。"
   ]
  },
  {
   "cell_type": "code",
   "execution_count": null,
   "metadata": {
    "colab": {
     "base_uri": "https://localhost:8080/"
    },
    "id": "Zir1Mid-wP3o",
    "outputId": "26206852-e125-4e9b-fe29-d550d74d04d2"
   },
   "outputs": [],
   "source": []
  },
  {
   "cell_type": "markdown",
   "metadata": {
    "id": "CX0vdPSuwP3p"
   },
   "source": [
    "次に、この表を色々と変更してみましょう。\n",
    "\n",
    "- 軸にラベルをつけるには?\n",
    "- ヒストグラムの色を緑色(green)にするには?\n",
    "- ヒストグラムの帯の数(bins)を変えるには?\n",
    "\n",
    "やり方は… google検索か、ChatGPTやGeminiなどの生成AIへの質問で、調べてみましょう。\n",
    "\n",
    "以下に、コードの例を示します。\n",
    "\n",
    "- 軸に名前をつける\n",
    "```\n",
    "plt.hist(df['age'])\n",
    "plt.xlabel('age')\n",
    "plt.ylabel('count')\n",
    "plt.show()\n",
    "```\n",
    "\n",
    "- 色を緑に変える\n",
    "```\n",
    "plt.hist(df['age'], color='green')\n",
    "plt.show()\n",
    "```\n",
    "\n",
    "- 棒の数を増やす\n",
    "```\n",
    "plt.hist(df['age'], bins=30)\n",
    "plt.show()\n",
    "```\n",
    "それでは、下のセルにコードを書いて、実行してください。"
   ]
  },
  {
   "cell_type": "code",
   "execution_count": null,
   "metadata": {},
   "outputs": [],
   "source": []
  },
  {
   "cell_type": "markdown",
   "metadata": {},
   "source": [
    "### 余談: グラフに日本語を使いたい場合  \n",
    "もし先ほどのグラフのラベルとして、'年齢'、'人数'という日本語を使ったらどうなるでしょうか？\n",
    "\n",
    "```\n",
    "plt.hist(df['age'])\n",
    "plt.xlabel('年齢')\n",
    "plt.ylabel('人数')\n",
    "plt.show()\n",
    "```\n",
    "それでは、以下のセルにコードを書いて、実行してください。"
   ]
  },
  {
   "cell_type": "code",
   "execution_count": null,
   "metadata": {},
   "outputs": [],
   "source": []
  },
  {
   "cell_type": "markdown",
   "metadata": {},
   "source": [
    "文字が適切に出力されていないかもしれません。\n",
    "これは、いわゆる文字化けです（'豆腐'といわれます）。\n",
    "\n",
    "解消する方法はいくつかありますが、*japanize-matplotlib* パッケージを用いると良いでしょう。  \n",
    "以下のコードを使って、*japanize-matplotlib* パッケージを使えるようにします\n",
    "\n",
    "以下の手順は、別々のセルで実行しください。  \n",
    "まず、japanize-matplotlibをインストールします。\n",
    "```\n",
    "!pip install japanize-matplotlib\n",
    "```\n",
    "\n",
    "その後、japanize_matplotlibを呼び出しましょう。\n",
    "```\n",
    "import japanize_matplotlib\n",
    "```\n",
    "＊*ハイフンとアンダーバーの使い方に注意！*\n",
    "\n",
    "これで、japanize_matplotlibが使えるようになりました。\n",
    "\n",
    "それでは、下のセルにコードを書いて、実行してください。"
   ]
  },
  {
   "cell_type": "code",
   "execution_count": null,
   "metadata": {},
   "outputs": [],
   "source": []
  },
  {
   "cell_type": "code",
   "execution_count": 9,
   "metadata": {},
   "outputs": [],
   "source": []
  },
  {
   "cell_type": "markdown",
   "metadata": {},
   "source": [
    "これで、*matplotlib* を使っても、日本語が文字化けしなくなりました。\n",
    "先のコードをもう一度実行してみてください。\n",
    "```\n",
    "plt.hist(df['age'])\n",
    "plt.xlabel('年齢')\n",
    "plt.ylabel('人数')\n",
    "plt.show()\n",
    "```\n",
    "\n",
    "それでは、下のセルにコードを書いて、実行してください。\n"
   ]
  },
  {
   "cell_type": "code",
   "execution_count": null,
   "metadata": {},
   "outputs": [],
   "source": []
  },
  {
   "cell_type": "markdown",
   "metadata": {},
   "source": [
    "いかがでしょうか？　文字化けが直っていますね。"
   ]
  },
  {
   "cell_type": "markdown",
   "metadata": {
    "id": "85CZFeNwwP3q"
   },
   "source": [
    "***"
   ]
  },
  {
   "cell_type": "markdown",
   "metadata": {
    "id": "OaGsoKU3wP3q"
   },
   "source": [
    "<a id=\"section4\"></a>\n",
    "### 練習4: 質的変数の分布をグラフで確認する\n",
    "\n",
    "先ほどは、連続値を要素にもつ'age'列をグラフ化してみました。  \n",
    "今度は、カテゴリーを要素にもつ'sex'列をグラフ化してみましょう。\n",
    "\n",
    "まず、どのような'sex'列が内容になっているか、確認してみましょう。\n",
    "*describe* メソッド確認することができますが、今回は新しい方法として、*value_counts* メソッドを使用してみます。  \n",
    "以下のコードになります。\n",
    "\n",
    "```\n",
    "df['sex'].value_counts()\n",
    "```\n",
    "\n",
    "それでは、下のセルにコードを書いて、実行してください。"
   ]
  },
  {
   "cell_type": "code",
   "execution_count": null,
   "metadata": {
    "colab": {
     "base_uri": "https://localhost:8080/"
    },
    "id": "vtf8mck7wP3q",
    "outputId": "510ca33b-505c-445b-a70d-3c5cf06fb494"
   },
   "outputs": [],
   "source": []
  },
  {
   "cell_type": "markdown",
   "metadata": {
    "id": "C6gZOIYswP3q"
   },
   "source": [
    "これで、'f'が374、'm'が44あることがわかりました。\n",
    "\n",
    "それでは、'sex'列の棒グラフを書いてみましょう。  \n",
    "先ほどのヒストグラムと比べると、手順が増えます。  \n",
    "*value_counts* メソッドで出現頻度を数えてから、それを*matplotlib*の *bar* メソッドに渡して、グラフを作成します。\n",
    "\n",
    "\n",
    "一緒にやっていきましょう。\n",
    "\n",
    "まず、先ほどの`df['sex'].value_counts()`の結果を、変数'sex_counts'に代入します。\n",
    "\n",
    "```\n",
    "sex_counts = df['sex'].value_counts()\n",
    "```\n",
    "\n",
    "次に、変数'sex_counts'の中に格納されているデータを取り出して、変数'categories'、変数'counts'に代入します。  \n",
    "具体的には、以下のことを行います。\n",
    "- 'f'、'm'の要素を、変数'catergories'に代入\n",
    "- 出現回数を、変数'counts'に代入\n",
    "\n",
    "```\n",
    "categories = sex_counts.index\n",
    "counts = sex_counts.values\n",
    "```\n",
    "\n",
    "そして、それらを*bar* メソッドに渡して、グラフを書き上げます。\n",
    "\n",
    "```\n",
    "plt.bar(categories, sex_counts)\n",
    "plt.show()\n",
    "```\n",
    "\n",
    "それでは、以下のセルにコードを書いて、実行してください。"
   ]
  },
  {
   "cell_type": "code",
   "execution_count": null,
   "metadata": {},
   "outputs": [],
   "source": []
  },
  {
   "cell_type": "markdown",
   "metadata": {},
   "source": [
    "ちょっと煩雑ですが、やってることはそんなに難しくありません。\n",
    "\n",
    "ちなみに、画像は、右クリックで保存可能です。"
   ]
  },
  {
   "cell_type": "markdown",
   "metadata": {},
   "source": [
    "### 余談: *seaborn* パッケージ\n",
    "pythonには、綺麗な図を簡単に作ってくれる *seaborn* パッケージがあります。  \n",
    "*seaborn* を使うと、簡単なコードを書くだけで、勝手に *matplotlib* を動かして、グラフを書いてくれます。  \n",
    "例えば、先ほどの棒グラフは、手順が簡単になります。\n",
    "\n",
    "```\n",
    "import seaborn as sns\n",
    "\n",
    "sns.countplot(x='sex', data=df)\n",
    "plt.show()\n",
    "```\n",
    "それでは、下のセルにコードを書いて、実行しましょう。"
   ]
  },
  {
   "cell_type": "code",
   "execution_count": null,
   "metadata": {
    "id": "hLSzLKcSwP3t",
    "outputId": "f07047ee-05a0-4df8-f50a-b81f839ddeb0"
   },
   "outputs": [],
   "source": []
  },
  {
   "cell_type": "markdown",
   "metadata": {
    "id": "2o9lOtLXwP3t"
   },
   "source": [
    "value_counts()で数えなくても、グラフを作ってくれました。  \n",
    "色も変えて、ラベルもついてます。\n",
    "\n",
    "\n",
    "*seaborn* は他にも色々と簡単に綺麗なグラフを書いてくれるメソッドが含まれています。  \n",
    "pythonに慣れてきたら、使ってみるといいでしょう。\n",
    "\n"
   ]
  },
  {
   "cell_type": "code",
   "execution_count": null,
   "metadata": {},
   "outputs": [],
   "source": []
  },
  {
   "cell_type": "markdown",
   "metadata": {
    "id": "9zVTwYHS6WhA"
   },
   "source": [
    "***"
   ]
  },
  {
   "cell_type": "markdown",
   "metadata": {
    "id": "vtB--u6m60QO"
   },
   "source": [
    "＊＊＊＊＊＊＊＊＊＊＊＊＊＊＊＊＊＊＊＊＊＊＊＊＊＊＊＊＊＊＊＊＊＊＊＊＊＊＊＊"
   ]
  },
  {
   "cell_type": "markdown",
   "metadata": {
    "id": "JqSS5c7outf2"
   },
   "source": [
    "<a id=\"section6\"></a>\n",
    "## 課題: 箱ひげ図\n",
    "\n",
    "survivalパッケージにあるpbcデータについて、 アルブミン値の分布を箱ヒゲ図で表してみましょう。  \n",
    "*matplotlib* パッケージの *boxplot* メソッドを使ってください。\n",
    "\n",
    "\n",
    "なお、 *boxplot* メソッドは、以下のように記述すると、変数Aに対して箱ひげ図を書いてくれます。\n",
    "\n",
    "```\n",
    "plt.boxplot(A)\n",
    "plt.show()\n",
    "```"
   ]
  },
  {
   "cell_type": "code",
   "execution_count": 33,
   "metadata": {
    "id": "1T6E6N9Eutf2"
   },
   "outputs": [],
   "source": []
  },
  {
   "cell_type": "markdown",
   "metadata": {
    "id": "rb5FBs4l52kN"
   },
   "source": [
    "## 回答チェック\n",
    "以下のコードを実行して、同じような結果が出力されればクリアです。"
   ]
  },
  {
   "cell_type": "code",
   "execution_count": 34,
   "metadata": {
    "colab": {
     "base_uri": "https://localhost:8080/"
    },
    "id": "zqsyXNeS52kN",
    "outputId": "99c9b22b-3ced-4318-94ca-84237e0beec0"
   },
   "outputs": [
    {
     "data": {
      "image/png": "[encoded data removed]",
      "text/plain": [
       "<Figure size 640x480 with 1 Axes>"
      ]
     },
     "metadata": {},
     "output_type": "display_data"
    }
   ],
   "source": [
    "import matplotlib.pyplot as plt\n",
    "import statsmodels.api as sm\n",
    "\n",
    "dataset = sm.datasets.get_rdataset(\"pbc\", \"survival\")\n",
    "\n",
    "def check_answer(dataset):\n",
    "    data_pbc = dataset.data\n",
    "    plt.boxplot(data_pbc['albumin'])\n",
    "    plt.show()\n",
    "check_answer(dataset)"
   ]
  }
 ],
 "metadata": {
  "colab": {
   "collapsed_sections": [
    "rb5FBs4l52kN"
   ],
   "provenance": []
  },
  "kernelspec": {
   "display_name": "daily_use",
   "language": "python",
   "name": "python3"
  },
  "language_info": {
   "codemirror_mode": {
    "name": "ipython",
    "version": 3
   },
   "file_extension": ".py",
   "mimetype": "text/x-python",
   "name": "python",
   "nbconvert_exporter": "python",
   "pygments_lexer": "ipython3",
   "version": "3.9.16"
  }
 },
 "nbformat": 4,
 "nbformat_minor": 4
}
