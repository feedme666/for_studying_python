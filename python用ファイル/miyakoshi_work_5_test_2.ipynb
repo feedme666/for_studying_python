{
  "cells": [
    {
      "cell_type": "markdown",
      "metadata": {
        "id": "Z0y0uX1Outfw"
      },
      "source": [
        "# 自分で触ってよくわかる **データの要約の話**\n",
        "## データの概要をつかむ\n",
        "**最後に課題があります**"
      ]
    },
    {
      "cell_type": "markdown",
      "metadata": {
        "id": "KTKumyu59qde"
      },
      "source": [
        "## 目次\n",
        "### 練習\n",
        "- 練習1: [（google colaboratoryを使っていない場合のみ）*statsmodels* をインストールする](#section1)\n",
        "- 練習2: [statsmodelsをインポートし、サンプルデータを取得する](#section2)\n",
        "- 練習3: [様々なメソッドを使って、サンプルデータを外観する①](#section3)\n",
        "- 練習4: [様々なメソッドを使って、サンプルデータを外観する②](#section4)\n",
        "- 練習5: [様々なメソッドを使って、サンプルデータを外観する⑤](#section5)\n",
        "- 練習6: [他のサンプルデータでも同様のことをやってみる](#section6)\n",
        "\n",
        "\n",
        "### 課題\n",
        "- [課題](#section7)\n"
      ]
    },
    {
      "cell_type": "markdown",
      "metadata": {
        "id": "wx9OI4616-yr"
      },
      "source": [
        "＊＊＊＊＊＊＊＊＊＊＊＊＊＊＊＊＊＊＊＊＊＊＊＊＊＊＊＊＊＊＊＊＊＊＊＊＊＊＊＊\n"
      ]
    },
    {
      "cell_type": "markdown",
      "metadata": {
        "id": "zsx5Eow-utfz"
      },
      "source": [
        "## 練習\n",
        "サンプルのデータセットを読み込んで、そのデータを色々な角度から外観してみましょう。  \n",
        "今回は、*statsmodels* パッケージに含まれているデータセットを使用します。\n",
        "\n",
        "(注) *statsmodels* パッケージとは、統計モデルを用いて推定や検定、探索ができるPythonライブラリのことです。  \n",
        "\n",
        "手順は以下の通りです。  \n",
        "\n",
        "1. (google colaboratoryを使っていない場合のみ) *statsmodels* をインストールする\n",
        "1. statsmodelsをインポートし、サンプルデータを取得する\n",
        "1. 様々なメソッドを使って、サンプルデータを外観する"
      ]
    },
    {
      "cell_type": "markdown",
      "metadata": {
        "id": "YWQTSZFIwP3j"
      },
      "source": [
        "<a id=\"section1\"></a>\n",
        "### 練習1: （google colaboratoryを使っていない場合のみ）*statsmodels* をインストールする\n",
        "\n",
        "statsmodelsを使用するとき、*google colaboratory* を使用している場合は、何もしなくともすぐ使用できます。  \n",
        "それ以外の環境では、statsmodelsパッケージのインストールが必要です。 どこかのセルで、以下を実行してください。  （下記のセルを実行すると、インストールします。）  \n",
        "```\n",
        "pip install statsmodels\n",
        "```  \n",
        "一回インストールしてしまえば、同じ環境であればずっと使えます。  "
      ]
    },
    {
      "cell_type": "code",
      "execution_count": null,
      "metadata": {
        "colab": {
          "base_uri": "https://localhost:8080/"
        },
        "id": "dSyAlUEB0tVe",
        "outputId": "86cd05e6-2fc5-4027-a0df-97fcd576fd3c"
      },
      "outputs": [
        {
          "name": "stdout",
          "output_type": "stream",
          "text": [
            "Requirement already satisfied: pandas in /opt/anaconda3/envs/daily_use/lib/python3.9/site-packages (2.0.3)\n",
            "Requirement already satisfied: python-dateutil>=2.8.2 in /opt/anaconda3/envs/daily_use/lib/python3.9/site-packages (from pandas) (2.8.2)\n",
            "Requirement already satisfied: pytz>=2020.1 in /opt/anaconda3/envs/daily_use/lib/python3.9/site-packages (from pandas) (2022.7.1)\n",
            "Requirement already satisfied: numpy>=1.20.3 in /opt/anaconda3/envs/daily_use/lib/python3.9/site-packages (from pandas) (1.23.5)\n",
            "Requirement already satisfied: tzdata>=2022.1 in /opt/anaconda3/envs/daily_use/lib/python3.9/site-packages (from pandas) (2023.3)\n",
            "Requirement already satisfied: six>=1.5 in /opt/anaconda3/envs/daily_use/lib/python3.9/site-packages (from python-dateutil>=2.8.2->pandas) (1.16.0)\n",
            "Note: you may need to restart the kernel to use updated packages.\n"
          ]
        }
      ],
      "source": [
        "pip install statsmodels"
      ]
    },
    {
      "cell_type": "markdown",
      "metadata": {
        "id": "wTUgG1Pt6J45"
      },
      "source": [
        "***"
      ]
    },
    {
      "cell_type": "markdown",
      "metadata": {
        "id": "ZAnrKMpX0tVf"
      },
      "source": [
        "<a id=\"section2\"></a>\n",
        "### 練習2: statsmodelsをインポートし、サンプルデータを取得する\n",
        "\n",
        "*statsmodels* の *get_rdataset* メソッドを使用して、サンプルデータを取得してみましょう。  \n",
        "＊取得できるサンプルデータは、以下のサイトに列挙されています。  \n",
        "https://vincentarelbundock.github.io/Rdatasets/articles/data.html  \n",
        "\n",
        "csvファイルをダウンロードしてきても良いですが、今回はpython上で取得してみましょう。  \n",
        "statsmodelsを用いて、サンプルデータを取得するコードは、以下のようになります。\n",
        "\n",
        "```\n",
        "import statsmodels.api as sm\n",
        "\n",
        "dataset = sm.datasets.get_rdataset(\"データセット名\", \"パッケージ名\")\n",
        "df = dataset.data\n",
        "```\n",
        "\n",
        "- `import statsmodels.api as sm`  \n",
        "statsmodelsを呼び出して、'sm'という名前で使用できるようにします。\n",
        "\n",
        "- `dataset = sm.datasets.get_rdataset(\"データセット名\", \"パッケージ名\")`  \n",
        "*statsmodels* の *get_rdataset* メソッドを実行します。これにより、得られた情報を、'dataset'という変数に代入します。\n",
        "\n",
        "- `df = dataset.data`  \n",
        "datasetの中に格納されている表データを、'df'という変数に代入します。\n",
        "\n",
        "今回は、以下のコードで *survival* パッケージの *pbc* データを取得しましょう。  \n",
        "\n",
        "```\n",
        "import statsmodels.api as sm\n",
        "\n",
        "dataset = sm.datasets.get_rdataset(\"pbc\", \"survival\")\n",
        "df = dataset.data\n",
        "```\n",
        "\n",
        "それでは、下のセルにコードを書いて、実行してください。"
      ]
    },
    {
      "cell_type": "code",
      "execution_count": 8,
      "metadata": {
        "id": "QL7Y9MuUwP3m"
      },
      "outputs": [],
      "source": [
        "import statsmodels.api as sm\n",
        "\n",
        "dataset = sm.datasets.get_rdataset(\"pbc\", \"survival\")\n",
        "df = dataset.data\n"
      ]
    },
    {
      "cell_type": "markdown",
      "metadata": {
        "id": "xe3yjCtSwP3n"
      },
      "source": [
        "何も出力されませんが、エラーがでなければ成功しています。  \n",
        "次に進みましょう。"
      ]
    },
    {
      "cell_type": "markdown",
      "metadata": {
        "id": "wrdFl8mFwP3n"
      },
      "source": [
        "### おまけ  \n",
        "「なんのデータやねん」  \n",
        "普通はそう思いますよね。\n",
        "\n",
        "statsmodelsを用いて取得したデータセットの中には、データセットの説明文も格納されています。  \n",
        "以下のコードで呼び出すことができます。\n",
        "```\n",
        "print(dataset.__doc__)\n",
        "\n",
        "# ここでいう変数'dataset'は、取得してきたデータセットを代入した変数\n",
        "```\n",
        "\n",
        "それでは、下のセルにコードを書いて、実行してください。"
      ]
    },
    {
      "cell_type": "code",
      "execution_count": 2,
      "metadata": {
        "colab": {
          "base_uri": "https://localhost:8080/"
        },
        "id": "da9hNpNZwP3n",
        "outputId": "58392561-5c28-452c-f4bb-526497d29e81"
      },
      "outputs": [
        {
          "name": "stdout",
          "output_type": "stream",
          "text": [
            ".. container::\n",
            "\n",
            "   .. container::\n",
            "\n",
            "      === ===============\n",
            "      pbc R Documentation\n",
            "      === ===============\n",
            "\n",
            "      .. rubric:: Mayo Clinic Primary Biliary Cholangitis Data\n",
            "         :name: mayo-clinic-primary-biliary-cholangitis-data\n",
            "\n",
            "      .. rubric:: Description\n",
            "         :name: description\n",
            "\n",
            "      Primary biliary cholangitis is an autoimmune disease leading to\n",
            "      destruction of the small bile ducts in the liver. Progression is\n",
            "      slow but inexhortable, eventually leading to cirrhosis and liver\n",
            "      decompensation. The condition has been recognised since at least\n",
            "      1851 and was named \"primary biliary cirrhosis\" in 1949. Because\n",
            "      cirrhosis is a feature only of advanced disease, a change of its\n",
            "      name to \"primary biliary cholangitis\" was proposed by patient\n",
            "      advocacy groups in 2014.\n",
            "\n",
            "      This data is from the Mayo Clinic trial in PBC conducted between\n",
            "      1974 and 1984. A total of 424 PBC patients, referred to Mayo\n",
            "      Clinic during that ten-year interval, met eligibility criteria for\n",
            "      the randomized placebo controlled trial of the drug\n",
            "      D-penicillamine. The first 312 cases in the data set participated\n",
            "      in the randomized trial and contain largely complete data. The\n",
            "      additional 112 cases did not participate in the clinical trial,\n",
            "      but consented to have basic measurements recorded and to be\n",
            "      followed for survival. Six of those cases were lost to follow-up\n",
            "      shortly after diagnosis, so the data here are on an additional 106\n",
            "      cases as well as the 312 randomized participants.\n",
            "\n",
            "      A nearly identical data set found in appendix D of Fleming and\n",
            "      Harrington; this version has fewer missing values.\n",
            "\n",
            "      .. rubric:: Usage\n",
            "         :name: usage\n",
            "\n",
            "      .. code:: R\n",
            "\n",
            "         pbc\n",
            "         data(pbc, package=\"survival\")\n",
            "\n",
            "      .. rubric:: Format\n",
            "         :name: format\n",
            "\n",
            "      ========= =============================================================\n",
            "      age:      in years\n",
            "      albumin:  serum albumin (g/dl)\n",
            "      alk.phos: alkaline phosphotase (U/liter)\n",
            "      ascites:  presence of ascites\n",
            "      ast:      aspartate aminotransferase, once called SGOT (U/ml)\n",
            "      bili:     serum bilirunbin (mg/dl)\n",
            "      chol:     serum cholesterol (mg/dl)\n",
            "      copper:   urine copper (ug/day)\n",
            "      edema:    0 no edema, 0.5 untreated or successfully treated\n",
            "      \\         1 edema despite diuretic therapy\n",
            "      hepato:   presence of hepatomegaly or enlarged liver\n",
            "      id:       case number\n",
            "      platelet: platelet count\n",
            "      protime:  standardised blood clotting time\n",
            "      sex:      m/f\n",
            "      spiders:  blood vessel malformations in the skin\n",
            "      stage:    histologic stage of disease (needs biopsy)\n",
            "      status:   status at endpoint, 0/1/2 for censored, transplant, dead\n",
            "      time:     number of days between registration and the earlier of death,\n",
            "      \\         transplantion, or study analysis in July, 1986\n",
            "      trt:      1/2/NA for D-penicillmain, placebo, not randomised\n",
            "      trig:     triglycerides (mg/dl)\n",
            "      \\         \n",
            "      ========= =============================================================\n",
            "\n",
            "      .. rubric:: Source\n",
            "         :name: source\n",
            "\n",
            "      T Therneau and P Grambsch (2000), *Modeling Survival Data:\n",
            "      Extending the Cox Model*, Springer-Verlag, New York. ISBN:\n",
            "      0-387-98784-3.\n",
            "\n",
            "      .. rubric:: See Also\n",
            "         :name: see-also\n",
            "\n",
            "      ``pbcseq``\n",
            "\n"
          ]
        }
      ],
      "source": [
        "print(dataset.__doc__)"
      ]
    },
    {
      "cell_type": "markdown",
      "metadata": {
        "id": "hSufxopKRlLP"
      },
      "source": [
        "取得したサンプルデータの説明文が表示されました。"
      ]
    },
    {
      "cell_type": "markdown",
      "metadata": {
        "id": "ZeXmiGcE6RHj"
      },
      "source": [
        "***"
      ]
    },
    {
      "cell_type": "markdown",
      "metadata": {
        "id": "mDojmN-H0tVf"
      },
      "source": [
        "<a id=\"section3\"></a>\n",
        "### 練習3: 様々なメソッドを使って、サンプルデータを外観する①\n",
        "\n",
        "上で取得したデータが、変数'df'に代入されています。\n",
        "\n",
        "まず、以下のコードを実行して、最初の5行を出力して、取得したサンプルデータがどのようなものなのか、確認してみましょう。\n",
        "\n",
        "```\n",
        "df.head()\n",
        "```\n",
        "\n",
        "それでは、下のセルにコードを書いて、実行してください。\n"
      ]
    },
    {
      "cell_type": "code",
      "execution_count": 9,
      "metadata": {
        "colab": {
          "base_uri": "https://localhost:8080/",
          "height": 204
        },
        "id": "RdAs8yEqwP3o",
        "outputId": "4e23718f-b78e-465a-d080-9d6b1e6c1567"
      },
      "outputs": [
        {
          "data": {
            "application/vnd.google.colaboratory.intrinsic+json": {
              "summary": "{\n  \"name\": \"df\",\n  \"rows\": 418,\n  \"fields\": [\n    {\n      \"column\": \"id\",\n      \"properties\": {\n        \"dtype\": \"number\",\n        \"std\": 120,\n        \"min\": 1,\n        \"max\": 418,\n        \"num_unique_values\": 418,\n        \"samples\": [\n          322,\n          325,\n          389\n        ],\n        \"semantic_type\": \"\",\n        \"description\": \"\"\n      }\n    },\n    {\n      \"column\": \"time\",\n      \"properties\": {\n        \"dtype\": \"number\",\n        \"std\": 1104,\n        \"min\": 41,\n        \"max\": 4795,\n        \"num_unique_values\": 399,\n        \"samples\": [\n          2272,\n          359,\n          3933\n        ],\n        \"semantic_type\": \"\",\n        \"description\": \"\"\n      }\n    },\n    {\n      \"column\": \"status\",\n      \"properties\": {\n        \"dtype\": \"number\",\n        \"std\": 0,\n        \"min\": 0,\n        \"max\": 2,\n        \"num_unique_values\": 3,\n        \"samples\": [\n          2,\n          0,\n          1\n        ],\n        \"semantic_type\": \"\",\n        \"description\": \"\"\n      }\n    },\n    {\n      \"column\": \"trt\",\n      \"properties\": {\n        \"dtype\": \"number\",\n        \"std\": 0.500762054280282,\n        \"min\": 1.0,\n        \"max\": 2.0,\n        \"num_unique_values\": 2,\n        \"samples\": [\n          2.0,\n          1.0\n        ],\n        \"semantic_type\": \"\",\n        \"description\": \"\"\n      }\n    },\n    {\n      \"column\": \"age\",\n      \"properties\": {\n        \"dtype\": \"number\",\n        \"std\": 10.447214386177878,\n        \"min\": 26.27789185489391,\n        \"max\": 78.43942505133471,\n        \"num_unique_values\": 344,\n        \"samples\": [\n          44.62696783025325,\n          45.76043805612594\n        ],\n        \"semantic_type\": \"\",\n        \"description\": \"\"\n      }\n    },\n    {\n      \"column\": \"sex\",\n      \"properties\": {\n        \"dtype\": \"category\",\n        \"num_unique_values\": 2,\n        \"samples\": [\n          \"m\",\n          \"f\"\n        ],\n        \"semantic_type\": \"\",\n        \"description\": \"\"\n      }\n    },\n    {\n      \"column\": \"ascites\",\n      \"properties\": {\n        \"dtype\": \"number\",\n        \"std\": 0.2668974185074412,\n        \"min\": 0.0,\n        \"max\": 1.0,\n        \"num_unique_values\": 2,\n        \"samples\": [\n          0.0,\n          1.0\n        ],\n        \"semantic_type\": \"\",\n        \"description\": \"\"\n      }\n    },\n    {\n      \"column\": \"hepato\",\n      \"properties\": {\n        \"dtype\": \"number\",\n        \"std\": 0.5006385567106584,\n        \"min\": 0.0,\n        \"max\": 1.0,\n        \"num_unique_values\": 2,\n        \"samples\": [\n          0.0,\n          1.0\n        ],\n        \"semantic_type\": \"\",\n        \"description\": \"\"\n      }\n    },\n    {\n      \"column\": \"spiders\",\n      \"properties\": {\n        \"dtype\": \"number\",\n        \"std\": 0.4537746708358228,\n        \"min\": 0.0,\n        \"max\": 1.0,\n        \"num_unique_values\": 2,\n        \"samples\": [\n          0.0,\n          1.0\n        ],\n        \"semantic_type\": \"\",\n        \"description\": \"\"\n      }\n    },\n    {\n      \"column\": \"edema\",\n      \"properties\": {\n        \"dtype\": \"number\",\n        \"std\": 0.25341743037863923,\n        \"min\": 0.0,\n        \"max\": 1.0,\n        \"num_unique_values\": 3,\n        \"samples\": [\n          1.0,\n          0.0\n        ],\n        \"semantic_type\": \"\",\n        \"description\": \"\"\n      }\n    },\n    {\n      \"column\": \"bili\",\n      \"properties\": {\n        \"dtype\": \"number\",\n        \"std\": 4.407506384141372,\n        \"min\": 0.3,\n        \"max\": 28.0,\n        \"num_unique_values\": 98,\n        \"samples\": [\n          8.5,\n          6.3\n        ],\n        \"semantic_type\": \"\",\n        \"description\": \"\"\n      }\n    },\n    {\n      \"column\": \"chol\",\n      \"properties\": {\n        \"dtype\": \"number\",\n        \"std\": 231.944545037874,\n        \"min\": 120.0,\n        \"max\": 1775.0,\n        \"num_unique_values\": 201,\n        \"samples\": [\n          390.0,\n          274.0\n        ],\n        \"semantic_type\": \"\",\n        \"description\": \"\"\n      }\n    },\n    {\n      \"column\": \"albumin\",\n      \"properties\": {\n        \"dtype\": \"number\",\n        \"std\": 0.4249716057796193,\n        \"min\": 1.96,\n        \"max\": 4.64,\n        \"num_unique_values\": 154,\n        \"samples\": [\n          3.66,\n          3.79\n        ],\n        \"semantic_type\": \"\",\n        \"description\": \"\"\n      }\n    },\n    {\n      \"column\": \"copper\",\n      \"properties\": {\n        \"dtype\": \"number\",\n        \"std\": 85.61391990897141,\n        \"min\": 4.0,\n        \"max\": 588.0,\n        \"num_unique_values\": 158,\n        \"samples\": [\n          141.0,\n          158.0\n        ],\n        \"semantic_type\": \"\",\n        \"description\": \"\"\n      }\n    },\n    {\n      \"column\": \"alk.phos\",\n      \"properties\": {\n        \"dtype\": \"number\",\n        \"std\": 2140.388824451761,\n        \"min\": 289.0,\n        \"max\": 13862.4,\n        \"num_unique_values\": 295,\n        \"samples\": [\n          1768.0,\n          964.0\n        ],\n        \"semantic_type\": \"\",\n        \"description\": \"\"\n      }\n    },\n    {\n      \"column\": \"ast\",\n      \"properties\": {\n        \"dtype\": \"number\",\n        \"std\": 56.699524863313016,\n        \"min\": 26.35,\n        \"max\": 457.25,\n        \"num_unique_values\": 179,\n        \"samples\": [\n          111.6,\n          117.8\n        ],\n        \"semantic_type\": \"\",\n        \"description\": \"\"\n      }\n    },\n    {\n      \"column\": \"trig\",\n      \"properties\": {\n        \"dtype\": \"number\",\n        \"std\": 65.14863866583947,\n        \"min\": 33.0,\n        \"max\": 598.0,\n        \"num_unique_values\": 146,\n        \"samples\": [\n          124.0,\n          218.0\n        ],\n        \"semantic_type\": \"\",\n        \"description\": \"\"\n      }\n    },\n    {\n      \"column\": \"platelet\",\n      \"properties\": {\n        \"dtype\": \"number\",\n        \"std\": 98.32558454996843,\n        \"min\": 62.0,\n        \"max\": 721.0,\n        \"num_unique_values\": 243,\n        \"samples\": [\n          421.0,\n          373.0\n        ],\n        \"semantic_type\": \"\",\n        \"description\": \"\"\n      }\n    },\n    {\n      \"column\": \"protime\",\n      \"properties\": {\n        \"dtype\": \"number\",\n        \"std\": 1.0220003464104215,\n        \"min\": 9.0,\n        \"max\": 18.0,\n        \"num_unique_values\": 48,\n        \"samples\": [\n          11.9,\n          9.0\n        ],\n        \"semantic_type\": \"\",\n        \"description\": \"\"\n      }\n    },\n    {\n      \"column\": \"stage\",\n      \"properties\": {\n        \"dtype\": \"number\",\n        \"std\": 0.8820420919404809,\n        \"min\": 1.0,\n        \"max\": 4.0,\n        \"num_unique_values\": 4,\n        \"samples\": [\n          3.0,\n          1.0\n        ],\n        \"semantic_type\": \"\",\n        \"description\": \"\"\n      }\n    }\n  ]\n}",
              "type": "dataframe",
              "variable_name": "df"
            },
            "text/html": [
              "\n",
              "  <div id=\"df-916a2523-0032-43e1-b111-ba72a026d7f4\" class=\"colab-df-container\">\n",
              "    <div>\n",
              "<style scoped>\n",
              "    .dataframe tbody tr th:only-of-type {\n",
              "        vertical-align: middle;\n",
              "    }\n",
              "\n",
              "    .dataframe tbody tr th {\n",
              "        vertical-align: top;\n",
              "    }\n",
              "\n",
              "    .dataframe thead th {\n",
              "        text-align: right;\n",
              "    }\n",
              "</style>\n",
              "<table border=\"1\" class=\"dataframe\">\n",
              "  <thead>\n",
              "    <tr style=\"text-align: right;\">\n",
              "      <th></th>\n",
              "      <th>id</th>\n",
              "      <th>time</th>\n",
              "      <th>status</th>\n",
              "      <th>trt</th>\n",
              "      <th>age</th>\n",
              "      <th>sex</th>\n",
              "      <th>ascites</th>\n",
              "      <th>hepato</th>\n",
              "      <th>spiders</th>\n",
              "      <th>edema</th>\n",
              "      <th>bili</th>\n",
              "      <th>chol</th>\n",
              "      <th>albumin</th>\n",
              "      <th>copper</th>\n",
              "      <th>alk.phos</th>\n",
              "      <th>ast</th>\n",
              "      <th>trig</th>\n",
              "      <th>platelet</th>\n",
              "      <th>protime</th>\n",
              "      <th>stage</th>\n",
              "    </tr>\n",
              "  </thead>\n",
              "  <tbody>\n",
              "    <tr>\n",
              "      <th>0</th>\n",
              "      <td>1</td>\n",
              "      <td>400</td>\n",
              "      <td>2</td>\n",
              "      <td>1.0</td>\n",
              "      <td>58.765229</td>\n",
              "      <td>f</td>\n",
              "      <td>1.0</td>\n",
              "      <td>1.0</td>\n",
              "      <td>1.0</td>\n",
              "      <td>1.0</td>\n",
              "      <td>14.5</td>\n",
              "      <td>261.0</td>\n",
              "      <td>2.60</td>\n",
              "      <td>156.0</td>\n",
              "      <td>1718.0</td>\n",
              "      <td>137.95</td>\n",
              "      <td>172.0</td>\n",
              "      <td>190.0</td>\n",
              "      <td>12.2</td>\n",
              "      <td>4.0</td>\n",
              "    </tr>\n",
              "    <tr>\n",
              "      <th>1</th>\n",
              "      <td>2</td>\n",
              "      <td>4500</td>\n",
              "      <td>0</td>\n",
              "      <td>1.0</td>\n",
              "      <td>56.446270</td>\n",
              "      <td>f</td>\n",
              "      <td>0.0</td>\n",
              "      <td>1.0</td>\n",
              "      <td>1.0</td>\n",
              "      <td>0.0</td>\n",
              "      <td>1.1</td>\n",
              "      <td>302.0</td>\n",
              "      <td>4.14</td>\n",
              "      <td>54.0</td>\n",
              "      <td>7394.8</td>\n",
              "      <td>113.52</td>\n",
              "      <td>88.0</td>\n",
              "      <td>221.0</td>\n",
              "      <td>10.6</td>\n",
              "      <td>3.0</td>\n",
              "    </tr>\n",
              "    <tr>\n",
              "      <th>2</th>\n",
              "      <td>3</td>\n",
              "      <td>1012</td>\n",
              "      <td>2</td>\n",
              "      <td>1.0</td>\n",
              "      <td>70.072553</td>\n",
              "      <td>m</td>\n",
              "      <td>0.0</td>\n",
              "      <td>0.0</td>\n",
              "      <td>0.0</td>\n",
              "      <td>0.5</td>\n",
              "      <td>1.4</td>\n",
              "      <td>176.0</td>\n",
              "      <td>3.48</td>\n",
              "      <td>210.0</td>\n",
              "      <td>516.0</td>\n",
              "      <td>96.10</td>\n",
              "      <td>55.0</td>\n",
              "      <td>151.0</td>\n",
              "      <td>12.0</td>\n",
              "      <td>4.0</td>\n",
              "    </tr>\n",
              "    <tr>\n",
              "      <th>3</th>\n",
              "      <td>4</td>\n",
              "      <td>1925</td>\n",
              "      <td>2</td>\n",
              "      <td>1.0</td>\n",
              "      <td>54.740589</td>\n",
              "      <td>f</td>\n",
              "      <td>0.0</td>\n",
              "      <td>1.0</td>\n",
              "      <td>1.0</td>\n",
              "      <td>0.5</td>\n",
              "      <td>1.8</td>\n",
              "      <td>244.0</td>\n",
              "      <td>2.54</td>\n",
              "      <td>64.0</td>\n",
              "      <td>6121.8</td>\n",
              "      <td>60.63</td>\n",
              "      <td>92.0</td>\n",
              "      <td>183.0</td>\n",
              "      <td>10.3</td>\n",
              "      <td>4.0</td>\n",
              "    </tr>\n",
              "    <tr>\n",
              "      <th>4</th>\n",
              "      <td>5</td>\n",
              "      <td>1504</td>\n",
              "      <td>1</td>\n",
              "      <td>2.0</td>\n",
              "      <td>38.105407</td>\n",
              "      <td>f</td>\n",
              "      <td>0.0</td>\n",
              "      <td>1.0</td>\n",
              "      <td>1.0</td>\n",
              "      <td>0.0</td>\n",
              "      <td>3.4</td>\n",
              "      <td>279.0</td>\n",
              "      <td>3.53</td>\n",
              "      <td>143.0</td>\n",
              "      <td>671.0</td>\n",
              "      <td>113.15</td>\n",
              "      <td>72.0</td>\n",
              "      <td>136.0</td>\n",
              "      <td>10.9</td>\n",
              "      <td>3.0</td>\n",
              "    </tr>\n",
              "  </tbody>\n",
              "</table>\n",
              "</div>\n",
              "    <div class=\"colab-df-buttons\">\n",
              "\n",
              "  <div class=\"colab-df-container\">\n",
              "    <button class=\"colab-df-convert\" onclick=\"convertToInteractive('df-916a2523-0032-43e1-b111-ba72a026d7f4')\"\n",
              "            title=\"Convert this dataframe to an interactive table.\"\n",
              "            style=\"display:none;\">\n",
              "\n",
              "  <svg xmlns=\"http://www.w3.org/2000/svg\" height=\"24px\" viewBox=\"0 -960 960 960\">\n",
              "    <path d=\"M120-120v-720h720v720H120Zm60-500h600v-160H180v160Zm220 220h160v-160H400v160Zm0 220h160v-160H400v160ZM180-400h160v-160H180v160Zm440 0h160v-160H620v160ZM180-180h160v-160H180v160Zm440 0h160v-160H620v160Z\"/>\n",
              "  </svg>\n",
              "    </button>\n",
              "\n",
              "  <style>\n",
              "    .colab-df-container {\n",
              "      display:flex;\n",
              "      gap: 12px;\n",
              "    }\n",
              "\n",
              "    .colab-df-convert {\n",
              "      background-color: #E8F0FE;\n",
              "      border: none;\n",
              "      border-radius: 50%;\n",
              "      cursor: pointer;\n",
              "      display: none;\n",
              "      fill: #1967D2;\n",
              "      height: 32px;\n",
              "      padding: 0 0 0 0;\n",
              "      width: 32px;\n",
              "    }\n",
              "\n",
              "    .colab-df-convert:hover {\n",
              "      background-color: #E2EBFA;\n",
              "      box-shadow: 0px 1px 2px rgba(60, 64, 67, 0.3), 0px 1px 3px 1px rgba(60, 64, 67, 0.15);\n",
              "      fill: #174EA6;\n",
              "    }\n",
              "\n",
              "    .colab-df-buttons div {\n",
              "      margin-bottom: 4px;\n",
              "    }\n",
              "\n",
              "    [theme=dark] .colab-df-convert {\n",
              "      background-color: #3B4455;\n",
              "      fill: #D2E3FC;\n",
              "    }\n",
              "\n",
              "    [theme=dark] .colab-df-convert:hover {\n",
              "      background-color: #434B5C;\n",
              "      box-shadow: 0px 1px 3px 1px rgba(0, 0, 0, 0.15);\n",
              "      filter: drop-shadow(0px 1px 2px rgba(0, 0, 0, 0.3));\n",
              "      fill: #FFFFFF;\n",
              "    }\n",
              "  </style>\n",
              "\n",
              "    <script>\n",
              "      const buttonEl =\n",
              "        document.querySelector('#df-916a2523-0032-43e1-b111-ba72a026d7f4 button.colab-df-convert');\n",
              "      buttonEl.style.display =\n",
              "        google.colab.kernel.accessAllowed ? 'block' : 'none';\n",
              "\n",
              "      async function convertToInteractive(key) {\n",
              "        const element = document.querySelector('#df-916a2523-0032-43e1-b111-ba72a026d7f4');\n",
              "        const dataTable =\n",
              "          await google.colab.kernel.invokeFunction('convertToInteractive',\n",
              "                                                    [key], {});\n",
              "        if (!dataTable) return;\n",
              "\n",
              "        const docLinkHtml = 'Like what you see? Visit the ' +\n",
              "          '<a target=\"_blank\" href=https://colab.research.google.com/notebooks/data_table.ipynb>data table notebook</a>'\n",
              "          + ' to learn more about interactive tables.';\n",
              "        element.innerHTML = '';\n",
              "        dataTable['output_type'] = 'display_data';\n",
              "        await google.colab.output.renderOutput(dataTable, element);\n",
              "        const docLink = document.createElement('div');\n",
              "        docLink.innerHTML = docLinkHtml;\n",
              "        element.appendChild(docLink);\n",
              "      }\n",
              "    </script>\n",
              "  </div>\n",
              "\n",
              "\n",
              "<div id=\"df-666e60a4-9d19-4614-a366-f7eaccbbf78b\">\n",
              "  <button class=\"colab-df-quickchart\" onclick=\"quickchart('df-666e60a4-9d19-4614-a366-f7eaccbbf78b')\"\n",
              "            title=\"Suggest charts\"\n",
              "            style=\"display:none;\">\n",
              "\n",
              "<svg xmlns=\"http://www.w3.org/2000/svg\" height=\"24px\"viewBox=\"0 0 24 24\"\n",
              "     width=\"24px\">\n",
              "    <g>\n",
              "        <path d=\"M19 3H5c-1.1 0-2 .9-2 2v14c0 1.1.9 2 2 2h14c1.1 0 2-.9 2-2V5c0-1.1-.9-2-2-2zM9 17H7v-7h2v7zm4 0h-2V7h2v10zm4 0h-2v-4h2v4z\"/>\n",
              "    </g>\n",
              "</svg>\n",
              "  </button>\n",
              "\n",
              "<style>\n",
              "  .colab-df-quickchart {\n",
              "      --bg-color: #E8F0FE;\n",
              "      --fill-color: #1967D2;\n",
              "      --hover-bg-color: #E2EBFA;\n",
              "      --hover-fill-color: #174EA6;\n",
              "      --disabled-fill-color: #AAA;\n",
              "      --disabled-bg-color: #DDD;\n",
              "  }\n",
              "\n",
              "  [theme=dark] .colab-df-quickchart {\n",
              "      --bg-color: #3B4455;\n",
              "      --fill-color: #D2E3FC;\n",
              "      --hover-bg-color: #434B5C;\n",
              "      --hover-fill-color: #FFFFFF;\n",
              "      --disabled-bg-color: #3B4455;\n",
              "      --disabled-fill-color: #666;\n",
              "  }\n",
              "\n",
              "  .colab-df-quickchart {\n",
              "    background-color: var(--bg-color);\n",
              "    border: none;\n",
              "    border-radius: 50%;\n",
              "    cursor: pointer;\n",
              "    display: none;\n",
              "    fill: var(--fill-color);\n",
              "    height: 32px;\n",
              "    padding: 0;\n",
              "    width: 32px;\n",
              "  }\n",
              "\n",
              "  .colab-df-quickchart:hover {\n",
              "    background-color: var(--hover-bg-color);\n",
              "    box-shadow: 0 1px 2px rgba(60, 64, 67, 0.3), 0 1px 3px 1px rgba(60, 64, 67, 0.15);\n",
              "    fill: var(--button-hover-fill-color);\n",
              "  }\n",
              "\n",
              "  .colab-df-quickchart-complete:disabled,\n",
              "  .colab-df-quickchart-complete:disabled:hover {\n",
              "    background-color: var(--disabled-bg-color);\n",
              "    fill: var(--disabled-fill-color);\n",
              "    box-shadow: none;\n",
              "  }\n",
              "\n",
              "  .colab-df-spinner {\n",
              "    border: 2px solid var(--fill-color);\n",
              "    border-color: transparent;\n",
              "    border-bottom-color: var(--fill-color);\n",
              "    animation:\n",
              "      spin 1s steps(1) infinite;\n",
              "  }\n",
              "\n",
              "  @keyframes spin {\n",
              "    0% {\n",
              "      border-color: transparent;\n",
              "      border-bottom-color: var(--fill-color);\n",
              "      border-left-color: var(--fill-color);\n",
              "    }\n",
              "    20% {\n",
              "      border-color: transparent;\n",
              "      border-left-color: var(--fill-color);\n",
              "      border-top-color: var(--fill-color);\n",
              "    }\n",
              "    30% {\n",
              "      border-color: transparent;\n",
              "      border-left-color: var(--fill-color);\n",
              "      border-top-color: var(--fill-color);\n",
              "      border-right-color: var(--fill-color);\n",
              "    }\n",
              "    40% {\n",
              "      border-color: transparent;\n",
              "      border-right-color: var(--fill-color);\n",
              "      border-top-color: var(--fill-color);\n",
              "    }\n",
              "    60% {\n",
              "      border-color: transparent;\n",
              "      border-right-color: var(--fill-color);\n",
              "    }\n",
              "    80% {\n",
              "      border-color: transparent;\n",
              "      border-right-color: var(--fill-color);\n",
              "      border-bottom-color: var(--fill-color);\n",
              "    }\n",
              "    90% {\n",
              "      border-color: transparent;\n",
              "      border-bottom-color: var(--fill-color);\n",
              "    }\n",
              "  }\n",
              "</style>\n",
              "\n",
              "  <script>\n",
              "    async function quickchart(key) {\n",
              "      const quickchartButtonEl =\n",
              "        document.querySelector('#' + key + ' button');\n",
              "      quickchartButtonEl.disabled = true;  // To prevent multiple clicks.\n",
              "      quickchartButtonEl.classList.add('colab-df-spinner');\n",
              "      try {\n",
              "        const charts = await google.colab.kernel.invokeFunction(\n",
              "            'suggestCharts', [key], {});\n",
              "      } catch (error) {\n",
              "        console.error('Error during call to suggestCharts:', error);\n",
              "      }\n",
              "      quickchartButtonEl.classList.remove('colab-df-spinner');\n",
              "      quickchartButtonEl.classList.add('colab-df-quickchart-complete');\n",
              "    }\n",
              "    (() => {\n",
              "      let quickchartButtonEl =\n",
              "        document.querySelector('#df-666e60a4-9d19-4614-a366-f7eaccbbf78b button');\n",
              "      quickchartButtonEl.style.display =\n",
              "        google.colab.kernel.accessAllowed ? 'block' : 'none';\n",
              "    })();\n",
              "  </script>\n",
              "</div>\n",
              "\n",
              "    </div>\n",
              "  </div>\n"
            ],
            "text/plain": [
              "   id  time  status  trt        age sex  ascites  hepato  spiders  edema  \\\n",
              "0   1   400       2  1.0  58.765229   f      1.0     1.0      1.0    1.0   \n",
              "1   2  4500       0  1.0  56.446270   f      0.0     1.0      1.0    0.0   \n",
              "2   3  1012       2  1.0  70.072553   m      0.0     0.0      0.0    0.5   \n",
              "3   4  1925       2  1.0  54.740589   f      0.0     1.0      1.0    0.5   \n",
              "4   5  1504       1  2.0  38.105407   f      0.0     1.0      1.0    0.0   \n",
              "\n",
              "   bili   chol  albumin  copper  alk.phos     ast   trig  platelet  protime  \\\n",
              "0  14.5  261.0     2.60   156.0    1718.0  137.95  172.0     190.0     12.2   \n",
              "1   1.1  302.0     4.14    54.0    7394.8  113.52   88.0     221.0     10.6   \n",
              "2   1.4  176.0     3.48   210.0     516.0   96.10   55.0     151.0     12.0   \n",
              "3   1.8  244.0     2.54    64.0    6121.8   60.63   92.0     183.0     10.3   \n",
              "4   3.4  279.0     3.53   143.0     671.0  113.15   72.0     136.0     10.9   \n",
              "\n",
              "   stage  \n",
              "0    4.0  \n",
              "1    3.0  \n",
              "2    4.0  \n",
              "3    4.0  \n",
              "4    3.0  "
            ]
          },
          "execution_count": 9,
          "metadata": {},
          "output_type": "execute_result"
        }
      ],
      "source": [
        "df.head()"
      ]
    },
    {
      "cell_type": "markdown",
      "metadata": {
        "id": "Gb2df7bdwP3o"
      },
      "source": [
        "表データが出ましたか？  \n",
        "エラーが出てしまう場合、もう一度 \"練習2\" に戻って、データを取得するところからやり直してみてください。\n",
        "\n",
        "ここでおおよそどのような値があるのか、確認します。具体的には、\n",
        "- 列名\n",
        "- 要素\n",
        "\n",
        "をみて、どのような表なのかをざっと想像しておきます。  \n",
        "今回のサンプルデータは、'age'や'sex'、'ascites'、'bili'などの列名があることから、なんとなく肝疾患患者のデータかなぁと予測がつきます。"
      ]
    },
    {
      "cell_type": "markdown",
      "metadata": {
        "id": "Of3usjMfwP3o"
      },
      "source": [
        "次に、特定の列のデータの平均値や中央値を見ていきましょう。\n",
        "\n",
        "まず、'age'列の特徴を見ていきましょう。\n",
        "\n",
        "ここでは、*describe* メソッドを用います。   \n",
        "以下のコードを実行すると、'age'列に関連する、複数の値が出力されます。\n",
        "```\n",
        "df['age'].describe()\n",
        "```\n",
        "\n",
        "それでは、下のセルにコードを書いて、実行してください。"
      ]
    },
    {
      "cell_type": "code",
      "execution_count": 10,
      "metadata": {
        "colab": {
          "base_uri": "https://localhost:8080/"
        },
        "id": "Zir1Mid-wP3o",
        "outputId": "26206852-e125-4e9b-fe29-d550d74d04d2"
      },
      "outputs": [
        {
          "data": {
            "text/plain": [
              "count    418.000000\n",
              "mean      50.741551\n",
              "std       10.447214\n",
              "min       26.277892\n",
              "25%       42.832307\n",
              "50%       51.000684\n",
              "75%       58.240931\n",
              "max       78.439425\n",
              "Name: age, dtype: float64"
            ]
          },
          "execution_count": 10,
          "metadata": {},
          "output_type": "execute_result"
        }
      ],
      "source": [
        "df['age'].describe()"
      ]
    },
    {
      "cell_type": "markdown",
      "metadata": {
        "id": "CX0vdPSuwP3p"
      },
      "source": [
        "出力された結果は、上から順に以下の数字が並んでいます。\n",
        "- 要素の数 (非欠損値の数)\n",
        "- 平均\n",
        "- 標準偏差\n",
        "- 最小値\n",
        "- 第１四分位数\n",
        "- 中央値(第2四分位数)\n",
        "- 第3四分位数\n",
        "- 最大値\n",
        "\n",
        "別の方法で一つ一つ出力することは可能ですが、データを外観する場合は、*describe* メソッドを用いるのが効率的です。\n",
        "これで、連続値を要素にもつ'age'列のデータを外観することができました。"
      ]
    },
    {
      "cell_type": "markdown",
      "metadata": {
        "id": "6BjlWl1PwP3p"
      },
      "source": [
        "### おまけ\n",
        "*pandas* パッケージだけで、データの簡単な図示が可能です。  \n",
        "'age'列を箱ひげ図で示してみましょう。\n",
        "\n",
        "ここでは、*plot.box* メソッドを使います。\n",
        "\n",
        "```\n",
        "df['age'].plot.box()\n",
        "```\n",
        "\n",
        "それでは、下のセルにコードを書いて、実行してください。"
      ]
    },
    {
      "cell_type": "code",
      "execution_count": 5,
      "metadata": {
        "colab": {
          "base_uri": "https://localhost:8080/",
          "height": 447
        },
        "id": "k_P1ZuWSwP3p",
        "outputId": "a53008fe-667b-4748-bf36-5425988aee62"
      },
      "outputs": [
        {
          "data": {
            "text/plain": [
              "<Axes: >"
            ]
          },
          "execution_count": 5,
          "metadata": {},
          "output_type": "execute_result"
        },
        {
          "data": {
            "image/png": "[encoded data removed]",
            "text/plain": [
              "<Figure size 640x480 with 1 Axes>"
            ]
          },
          "metadata": {},
          "output_type": "display_data"
        }
      ],
      "source": [
        "df['age'].plot.box()"
      ]
    },
    {
      "cell_type": "markdown",
      "metadata": {
        "id": "GkShOoAfwP3p"
      },
      "source": [
        "今度は、'age'列をヒストグラムで示してみましょう。\n",
        "\n",
        "*hist* メソッドを使ってみましょう。\n",
        "\n",
        "```\n",
        "df['age'].hist()\n",
        "```\n",
        "\n",
        "それでは、下のセルにコードを書いて、実行してください。"
      ]
    },
    {
      "cell_type": "code",
      "execution_count": 6,
      "metadata": {
        "colab": {
          "base_uri": "https://localhost:8080/",
          "height": 448
        },
        "id": "bSxZ29DXwP3p",
        "outputId": "92d4ba54-2307-43c6-bad8-77d91816f91c"
      },
      "outputs": [
        {
          "data": {
            "text/plain": [
              "<Axes: >"
            ]
          },
          "execution_count": 6,
          "metadata": {},
          "output_type": "execute_result"
        },
        {
          "data": {
            "image/png": "[encoded data removed]",
            "text/plain": [
              "<Figure size 640x480 with 1 Axes>"
            ]
          },
          "metadata": {},
          "output_type": "display_data"
        }
      ],
      "source": [
        "df['age'].hist()"
      ]
    },
    {
      "cell_type": "markdown",
      "metadata": {
        "id": "vYXdaFmPwP3q"
      },
      "source": [
        "このように、データを簡単に外観するだけであれば、他のパッケージを使わず、図を書くことができます。\n",
        "\n",
        "（参考）\n",
        "https://qiita.com/sckln/items/b13a52bec3ce13892936"
      ]
    },
    {
      "cell_type": "markdown",
      "metadata": {
        "id": "85CZFeNwwP3q"
      },
      "source": [
        "***"
      ]
    },
    {
      "cell_type": "markdown",
      "metadata": {
        "id": "OaGsoKU3wP3q"
      },
      "source": [
        "<a id=\"section4\"></a>\n",
        "### 練習4: 様々なメソッドを使って、サンプルデータを外観する②\n",
        "\n",
        "先ほどは、連続値を要素にもつ'age'列をみてみました。  \n",
        "今度は、カテゴリーを要素にもつ'sex'列に、先ほどの*describe* メソッドを適用してみましょう。\n",
        "\n",
        "```\n",
        "df['sex'].describe()\n",
        "```\n",
        "\n",
        "それでは、下のセルにコードを書いて、実行してください。"
      ]
    },
    {
      "cell_type": "code",
      "execution_count": 11,
      "metadata": {
        "colab": {
          "base_uri": "https://localhost:8080/"
        },
        "id": "vtf8mck7wP3q",
        "outputId": "510ca33b-505c-445b-a70d-3c5cf06fb494"
      },
      "outputs": [
        {
          "data": {
            "text/plain": [
              "count     418\n",
              "unique      2\n",
              "top         f\n",
              "freq      374\n",
              "Name: sex, dtype: object"
            ]
          },
          "execution_count": 11,
          "metadata": {},
          "output_type": "execute_result"
        }
      ],
      "source": [
        "df['sex'].describe()\n"
      ]
    },
    {
      "cell_type": "markdown",
      "metadata": {
        "id": "C6gZOIYswP3q"
      },
      "source": [
        "出力された結果は、上から順に以下の数字が並んでいます。\n",
        "- 要素の数 (非欠損値の数)\n",
        "- 固有の値の数（いくつカテゴリーがあるか）\n",
        "- 最も出現頻度の多い値\n",
        "- 最頻値の出現回数\n",
        "\n",
        "先ほどの'age'列に *describe* メソッドを適用した場合と異なりますね。  \n",
        "このように、*describe* メソッドは、どのような変数なのかを自動的に判別してくれます。"
      ]
    },
    {
      "cell_type": "markdown",
      "metadata": {
        "id": "AkcyIslPwP3q"
      },
      "source": [
        "それでは、今度は'ascites'列をみてみましょう。\n",
        "\n",
        "説明文を読むと、この列は、*腹水あり:1 、腹水なし:0* という要素が含まれています。  \n",
        "カテゴリー変数ということです。  \n",
        "ここで、下記のように*describe* メソッドを適用してみましょう。\n",
        "\n",
        "```\n",
        "df['ascites'].describe()\n",
        "```\n",
        "\n",
        "それでは、下のセルにコードを書いて、実行してください。"
      ]
    },
    {
      "cell_type": "code",
      "execution_count": null,
      "metadata": {
        "id": "U2DUcTQFwP3r",
        "outputId": "0428a123-ee29-413e-8343-dc15b454276d"
      },
      "outputs": [
        {
          "data": {
            "text/plain": [
              "count    312.000000\n",
              "mean       0.076923\n",
              "std        0.266897\n",
              "min        0.000000\n",
              "25%        0.000000\n",
              "50%        0.000000\n",
              "75%        0.000000\n",
              "max        1.000000\n",
              "Name: ascites, dtype: float64"
            ]
          },
          "execution_count": 34,
          "metadata": {},
          "output_type": "execute_result"
        }
      ],
      "source": [
        "df['ascites'].describe()"
      ]
    },
    {
      "cell_type": "markdown",
      "metadata": {
        "id": "yVkTWPUtwP3r"
      },
      "source": [
        "おやおや？  \n",
        "この方法では、'asites'列は連続変数として認識されてしまっているようです。なぜでしょうか。  \n",
        "\n",
        "そこで、*info* メソッドを使って、dfの各列が、それぞれどのようにpythonに認識されているかを確認しましょう。\n",
        "\n",
        "```\n",
        "df.info()\n",
        "```\n",
        "\n",
        "それでは、下のセルにコードを書いて、実行してください。"
      ]
    },
    {
      "cell_type": "code",
      "execution_count": 12,
      "metadata": {
        "colab": {
          "base_uri": "https://localhost:8080/"
        },
        "id": "Y-6zte0MwP3r",
        "outputId": "003f65df-ed64-4cb7-9b57-3e6dc87d7403"
      },
      "outputs": [
        {
          "name": "stdout",
          "output_type": "stream",
          "text": [
            "<class 'pandas.core.frame.DataFrame'>\n",
            "RangeIndex: 418 entries, 0 to 417\n",
            "Data columns (total 20 columns):\n",
            " #   Column    Non-Null Count  Dtype  \n",
            "---  ------    --------------  -----  \n",
            " 0   id        418 non-null    int64  \n",
            " 1   time      418 non-null    int64  \n",
            " 2   status    418 non-null    int64  \n",
            " 3   trt       312 non-null    float64\n",
            " 4   age       418 non-null    float64\n",
            " 5   sex       418 non-null    object \n",
            " 6   ascites   312 non-null    float64\n",
            " 7   hepato    312 non-null    float64\n",
            " 8   spiders   312 non-null    float64\n",
            " 9   edema     418 non-null    float64\n",
            " 10  bili      418 non-null    float64\n",
            " 11  chol      284 non-null    float64\n",
            " 12  albumin   418 non-null    float64\n",
            " 13  copper    310 non-null    float64\n",
            " 14  alk.phos  312 non-null    float64\n",
            " 15  ast       312 non-null    float64\n",
            " 16  trig      282 non-null    float64\n",
            " 17  platelet  407 non-null    float64\n",
            " 18  protime   416 non-null    float64\n",
            " 19  stage     412 non-null    float64\n",
            "dtypes: float64(16), int64(3), object(1)\n",
            "memory usage: 65.4+ KB\n"
          ]
        }
      ],
      "source": [
        "df.info()"
      ]
    },
    {
      "cell_type": "markdown",
      "metadata": {
        "id": "NiCfd7yswP3r"
      },
      "source": [
        "出力されたデータの、一番右の列'Dtype'をみてください。  \n",
        "これは、pythonが認識している、それぞれの列の'型'になります。\n",
        "\n",
        "'int'という文字が含まれている場合は、その列は'整数値'と認識されています。  \n",
        "'float'という文字が含まれている場合は、その列は'小数点を含む数'と認識されています。  \n",
        "いずれも、連続値として認識され、*describe* メソッドを適用した場合は、連続値に適した評価が実行されます。\n",
        "\n",
        "一方、'object'という文字が含まれるデータに対して、*describe* メソッドを適用した場合は、文字列に適した評価が実行されます。\n",
        "\n",
        "今回、`df['ascites'].describe()`を実行した時、連続値として扱われてしまったために、平均値や標準偏差が出力されてしまいました。\n",
        "\n",
        "それでは、'ascites'列を、カテゴリー変数であると、pythonに明示してあげましょう。  \n",
        "そのためには *astype* メソッドを用います。\n",
        "\n",
        "```\n",
        "df['ascites'] = df['ascites'].astype('category')\n",
        "```\n",
        "\n",
        "このコードを説明します。  \n",
        "*astype* メソッドを実行すると、新たな列を作成します。どのような列かというと、このメソッドが適用された変数（この場合は`df['ascites']`）を、その後のカッコ内に書かれている型（この場合は`'category'`）に変換した列です。\n",
        "\n",
        "さらに、このコードでは、その新たに作った列を、もう一度`df['ascites']`に代入しなおしています。  \n",
        "これにより、'ascites'列が、型をcategoryとしたものに書き換えられたことになります。\n",
        "\n",
        "それでは、下のセルにコードを書いて、実行してみましょう。"
      ]
    },
    {
      "cell_type": "code",
      "execution_count": null,
      "metadata": {
        "id": "qgZpwLKiwP3s"
      },
      "outputs": [],
      "source": [
        "df['ascites'] = df['ascites'].astype('category')"
      ]
    },
    {
      "cell_type": "markdown",
      "metadata": {
        "id": "inm3P_MiwP3s"
      },
      "source": [
        "何もエラーが出なければ、書き換えが終了しています。  \n",
        "ちゃんと書き換えができているか、以下のコードを実行して確認してみましょう。\n",
        "\n",
        "```\n",
        "df.info()\n",
        "```\n",
        "それでは、下のセルにコードを書いて、実行してみましょう。"
      ]
    },
    {
      "cell_type": "code",
      "execution_count": null,
      "metadata": {
        "id": "KA66bUh_wP3s",
        "outputId": "c0ee236c-5708-4331-a7a8-3abc9d18b056"
      },
      "outputs": [
        {
          "name": "stdout",
          "output_type": "stream",
          "text": [
            "<class 'pandas.core.frame.DataFrame'>\n",
            "RangeIndex: 418 entries, 0 to 417\n",
            "Data columns (total 20 columns):\n",
            " #   Column    Non-Null Count  Dtype   \n",
            "---  ------    --------------  -----   \n",
            " 0   id        418 non-null    int64   \n",
            " 1   time      418 non-null    int64   \n",
            " 2   status    418 non-null    int64   \n",
            " 3   trt       312 non-null    float64 \n",
            " 4   age       418 non-null    float64 \n",
            " 5   sex       418 non-null    object  \n",
            " 6   ascites   312 non-null    category\n",
            " 7   hepato    312 non-null    float64 \n",
            " 8   spiders   312 non-null    float64 \n",
            " 9   edema     418 non-null    float64 \n",
            " 10  bili      418 non-null    float64 \n",
            " 11  chol      284 non-null    float64 \n",
            " 12  albumin   418 non-null    float64 \n",
            " 13  copper    310 non-null    float64 \n",
            " 14  alk.phos  312 non-null    float64 \n",
            " 15  ast       312 non-null    float64 \n",
            " 16  trig      282 non-null    float64 \n",
            " 17  platelet  407 non-null    float64 \n",
            " 18  protime   416 non-null    float64 \n",
            " 19  stage     412 non-null    float64 \n",
            "dtypes: category(1), float64(15), int64(3), object(1)\n",
            "memory usage: 62.7+ KB\n"
          ]
        }
      ],
      "source": [
        "df.info()"
      ]
    },
    {
      "cell_type": "markdown",
      "metadata": {
        "id": "Zrh-yHi4wP3s"
      },
      "source": [
        "'asites'のDtypeが、'category'になっていれば、成功です。\n",
        "\n",
        "そこで、もう一度、*describe* メソッドを使って、外観してみましょう。\n",
        "\n",
        "```\n",
        "df['ascites'].describe()\n",
        "```"
      ]
    },
    {
      "cell_type": "code",
      "execution_count": null,
      "metadata": {
        "id": "hLSzLKcSwP3t",
        "outputId": "f07047ee-05a0-4df8-f50a-b81f839ddeb0"
      },
      "outputs": [
        {
          "data": {
            "text/plain": [
              "count     312.0\n",
              "unique      2.0\n",
              "top         0.0\n",
              "freq      288.0\n",
              "Name: ascites, dtype: float64"
            ]
          },
          "execution_count": 43,
          "metadata": {},
          "output_type": "execute_result"
        }
      ],
      "source": [
        "df['ascites'].describe()\n"
      ]
    },
    {
      "cell_type": "markdown",
      "metadata": {
        "id": "2o9lOtLXwP3t"
      },
      "source": [
        "ちゃんと、欲しい解析をしてくれました。"
      ]
    },
    {
      "cell_type": "markdown",
      "metadata": {
        "id": "hobiMwwY6Tws"
      },
      "source": [
        "***"
      ]
    },
    {
      "cell_type": "markdown",
      "metadata": {
        "id": "A_04uNyCutf1"
      },
      "source": [
        "<a id=\"section5\"></a>\n",
        "### 練習5: 様々なメソッドを使って、サンプルデータを外観する③\n",
        "\n",
        "次に、'age'列の欠損値を調べてみましょう。  \n",
        "欠損値に関わるデータは、先ほどの*info* メソッドでも記述されますが、ここでは *isnull()* メソッドを使って調べてみましょう。  \n",
        "\n",
        "```\n",
        "df['age'].isnull()\n",
        "```\n",
        "\n",
        "それでは、以下のセルにコードを書いて、実行してみましょう。"
      ]
    },
    {
      "cell_type": "code",
      "execution_count": null,
      "metadata": {
        "id": "hfQlJcixutf2",
        "outputId": "6fa8cce3-07ce-45c8-8ecd-b3711ec847d0"
      },
      "outputs": [
        {
          "data": {
            "text/plain": [
              "0      False\n",
              "1      False\n",
              "2      False\n",
              "3      False\n",
              "4      False\n",
              "       ...  \n",
              "413    False\n",
              "414    False\n",
              "415    False\n",
              "416    False\n",
              "417    False\n",
              "Name: age, Length: 418, dtype: bool"
            ]
          },
          "execution_count": 44,
          "metadata": {},
          "output_type": "execute_result"
        }
      ],
      "source": [
        "df['age'].isnull()\n"
      ]
    },
    {
      "cell_type": "markdown",
      "metadata": {
        "id": "aM_MWzAF0tVg"
      },
      "source": [
        "*False* という結果が羅列されました。  \n",
        "これは、その行の要素は「欠損値ではない」ということを意味します。  \n",
        "もし、*True* という結果であれば、その行において「欠損値である」ということです。\n",
        "\n",
        "しかし、このままでは見づらいですね…   \n",
        "そこで *True* だけを抜き出して、その合計数を算出してみましょう。それには、*sum* メソッドを使います。\n",
        "\n",
        "以下のように記述します。\n",
        "```\n",
        "df['age'].isnull().sum()\n",
        "```\n",
        "\n",
        "これは、*isnull* メソッドで *True* が得られたものを、全て合計するという意味になります。   \n",
        "この二つのメソッド（isnullとsum）を連続して、一つの表現の中で用いることを、*メソッドチェーン*と言います。\n",
        "\n",
        "それでは、以下のセルにコードを書いて、実行してみましょう。"
      ]
    },
    {
      "cell_type": "code",
      "execution_count": null,
      "metadata": {
        "colab": {
          "base_uri": "https://localhost:8080/"
        },
        "id": "cqPqaPdV1rdo",
        "outputId": "2bd38d88-25f6-4bb6-cd47-76f0752cf444"
      },
      "outputs": [
        {
          "data": {
            "text/plain": [
              "0"
            ]
          },
          "execution_count": 48,
          "metadata": {},
          "output_type": "execute_result"
        }
      ],
      "source": [
        "df['age'].isnull().sum()"
      ]
    },
    {
      "cell_type": "markdown",
      "metadata": {
        "id": "_8Y5g1ye2hYr"
      },
      "source": [
        "'0'が表示されたら、成功です。欠損値は一つもないのです。\n",
        "\n",
        "次は'ascites'列の欠損値を確認してみます。\n",
        "\n",
        "```\n",
        "df['ascites'].isnull().sum()\n",
        "```\n",
        "\n",
        "それでは、以下のセルにコード書いて、実行してみましょう。"
      ]
    },
    {
      "cell_type": "code",
      "execution_count": null,
      "metadata": {
        "colab": {
          "base_uri": "https://localhost:8080/",
          "height": 269
        },
        "id": "dQXkl7Ye2gkQ",
        "outputId": "2c87a041-fe56-411d-8b13-f856af6b65a9"
      },
      "outputs": [
        {
          "data": {
            "text/plain": [
              "106"
            ]
          },
          "execution_count": 47,
          "metadata": {},
          "output_type": "execute_result"
        }
      ],
      "source": [
        "df['ascites'].isnull().sum()"
      ]
    },
    {
      "cell_type": "markdown",
      "metadata": {
        "id": "ic_azVx24AyP"
      },
      "source": [
        "'106' と出力されましたか？ 106個の欠損値があるということです。\n",
        "\n",
        "このデータセットを用いる場合は、欠損値の管理が必要になります。"
      ]
    },
    {
      "cell_type": "markdown",
      "metadata": {
        "id": "vtB--u6m60QO"
      },
      "source": [
        "***"
      ]
    },
    {
      "cell_type": "markdown",
      "metadata": {
        "id": "JqSS5c7outf2"
      },
      "source": [
        "<a id=\"section6\"></a>\n",
        "## 練習6: 他のサンプルデータでも同様のことをやってみる。\n",
        "それでは、全く同じことを、他のサンプルデータでもやってみましょう。\n",
        "\n",
        "以下のサイトから、サンプルデータを一つ選んでください。  \n",
        "https://vincentarelbundock.github.io/Rdatasets/articles/data.html\n",
        "\n",
        "まず、選んだサンプルデータを、*statsmodels* パッケージを用いて呼び出してください。\n",
        "\n"
      ]
    },
    {
      "cell_type": "code",
      "execution_count": null,
      "metadata": {
        "id": "1T6E6N9Eutf2"
      },
      "outputs": [],
      "source": []
    },
    {
      "cell_type": "markdown",
      "metadata": {
        "id": "lMOXbaPH52kM"
      },
      "source": [
        "その後、取得したサンプルデータのうち、連続値の変数を一つ選び、以下を確認してください。\n",
        "- 要素の数 (非欠損値の数)\n",
        "- 平均\n",
        "- 標準偏差\n",
        "- 最小値\n",
        "- 第１四分位数\n",
        "- 中央値(第2四分位数)\n",
        "- 第3四分位数\n",
        "- 最大値\n",
        "- 欠損値の数"
      ]
    },
    {
      "cell_type": "code",
      "execution_count": null,
      "metadata": {
        "id": "V-IqvRhwVQ3J"
      },
      "outputs": [],
      "source": []
    },
    {
      "cell_type": "markdown",
      "metadata": {
        "id": "4N4QUxkQVSCZ"
      },
      "source": [
        "さらに、取得したサンプルデータのうち、カテゴリー変数を一つ選び、以下を確認してください。\n",
        "- 要素の数 (非欠損値の数)\n",
        "- 固有の値の数（いくつカテゴリーがあるか）\n",
        "- 最も出現頻度の多い値\n",
        "- 最頻値の出現回数\n",
        "- 欠損値の数"
      ]
    },
    {
      "cell_type": "code",
      "execution_count": null,
      "metadata": {
        "id": "1zUBPl3o52kM"
      },
      "outputs": [],
      "source": []
    },
    {
      "cell_type": "markdown",
      "metadata": {},
      "source": [
        "***"
      ]
    },
    {
      "cell_type": "markdown",
      "metadata": {},
      "source": [
        "<a id=\"section7\"></a>\n",
        "## 課題: survivalパッケージにあるpbcデータについて、 治療別にデータを要約してみましょう\n",
        "- 治療方法を表す変数: trt\n",
        "- *groupby* メソッドと、*describe* メソッドををメソッドチェーンで繋いでみましょう。\n",
        "\n",
        "なお、*groupby* メソッドを、以下のように挟んで実行することによって、dfを、カテゴリー変数'A'の要素別にデータを分けて分析することができます。\n",
        "\n",
        "```\n",
        "df.groupby('A').describe()\n",
        "```\n",
        "\n",
        "さらに、分析したいデータを一つの列'B'に絞りたい場合は、以下のように*groupby* メソッドを用いて記述します。\n",
        "```\n",
        "df.groupby('A')['B'].describe()\n",
        "```\n"
      ]
    },
    {
      "cell_type": "code",
      "execution_count": null,
      "metadata": {},
      "outputs": [],
      "source": []
    },
    {
      "cell_type": "markdown",
      "metadata": {
        "id": "rb5FBs4l52kN"
      },
      "source": [
        "## 回答チェック\n",
        "以下のコードを実行して、同じような結果が出力されればクリアです。"
      ]
    },
    {
      "cell_type": "code",
      "execution_count": 1,
      "metadata": {
        "colab": {
          "base_uri": "https://localhost:8080/"
        },
        "id": "zqsyXNeS52kN",
        "outputId": "99c9b22b-3ced-4318-94ca-84237e0beec0"
      },
      "outputs": [
        {
          "data": {
            "text/html": [
              "<div>\n",
              "<style scoped>\n",
              "    .dataframe tbody tr th:only-of-type {\n",
              "        vertical-align: middle;\n",
              "    }\n",
              "\n",
              "    .dataframe tbody tr th {\n",
              "        vertical-align: top;\n",
              "    }\n",
              "\n",
              "    .dataframe thead tr th {\n",
              "        text-align: left;\n",
              "    }\n",
              "\n",
              "    .dataframe thead tr:last-of-type th {\n",
              "        text-align: right;\n",
              "    }\n",
              "</style>\n",
              "<table border=\"1\" class=\"dataframe\">\n",
              "  <thead>\n",
              "    <tr>\n",
              "      <th></th>\n",
              "      <th colspan=\"8\" halign=\"left\">id</th>\n",
              "      <th colspan=\"2\" halign=\"left\">time</th>\n",
              "      <th>...</th>\n",
              "      <th colspan=\"2\" halign=\"left\">protime</th>\n",
              "      <th colspan=\"8\" halign=\"left\">stage</th>\n",
              "    </tr>\n",
              "    <tr>\n",
              "      <th></th>\n",
              "      <th>count</th>\n",
              "      <th>mean</th>\n",
              "      <th>std</th>\n",
              "      <th>min</th>\n",
              "      <th>25%</th>\n",
              "      <th>50%</th>\n",
              "      <th>75%</th>\n",
              "      <th>max</th>\n",
              "      <th>count</th>\n",
              "      <th>mean</th>\n",
              "      <th>...</th>\n",
              "      <th>75%</th>\n",
              "      <th>max</th>\n",
              "      <th>count</th>\n",
              "      <th>mean</th>\n",
              "      <th>std</th>\n",
              "      <th>min</th>\n",
              "      <th>25%</th>\n",
              "      <th>50%</th>\n",
              "      <th>75%</th>\n",
              "      <th>max</th>\n",
              "    </tr>\n",
              "    <tr>\n",
              "      <th>trt</th>\n",
              "      <th></th>\n",
              "      <th></th>\n",
              "      <th></th>\n",
              "      <th></th>\n",
              "      <th></th>\n",
              "      <th></th>\n",
              "      <th></th>\n",
              "      <th></th>\n",
              "      <th></th>\n",
              "      <th></th>\n",
              "      <th></th>\n",
              "      <th></th>\n",
              "      <th></th>\n",
              "      <th></th>\n",
              "      <th></th>\n",
              "      <th></th>\n",
              "      <th></th>\n",
              "      <th></th>\n",
              "      <th></th>\n",
              "      <th></th>\n",
              "      <th></th>\n",
              "    </tr>\n",
              "  </thead>\n",
              "  <tbody>\n",
              "    <tr>\n",
              "      <th>1.0</th>\n",
              "      <td>158.0</td>\n",
              "      <td>159.829114</td>\n",
              "      <td>87.349739</td>\n",
              "      <td>1.0</td>\n",
              "      <td>86.25</td>\n",
              "      <td>156.0</td>\n",
              "      <td>236.75</td>\n",
              "      <td>311.0</td>\n",
              "      <td>158.0</td>\n",
              "      <td>2015.620253</td>\n",
              "      <td>...</td>\n",
              "      <td>11.0</td>\n",
              "      <td>14.1</td>\n",
              "      <td>158.0</td>\n",
              "      <td>2.974684</td>\n",
              "      <td>0.937196</td>\n",
              "      <td>1.0</td>\n",
              "      <td>2.0</td>\n",
              "      <td>3.0</td>\n",
              "      <td>4.0</td>\n",
              "      <td>4.0</td>\n",
              "    </tr>\n",
              "    <tr>\n",
              "      <th>2.0</th>\n",
              "      <td>154.0</td>\n",
              "      <td>153.084416</td>\n",
              "      <td>93.216450</td>\n",
              "      <td>5.0</td>\n",
              "      <td>68.00</td>\n",
              "      <td>156.5</td>\n",
              "      <td>230.75</td>\n",
              "      <td>312.0</td>\n",
              "      <td>154.0</td>\n",
              "      <td>1996.863636</td>\n",
              "      <td>...</td>\n",
              "      <td>11.4</td>\n",
              "      <td>17.1</td>\n",
              "      <td>154.0</td>\n",
              "      <td>3.090909</td>\n",
              "      <td>0.811387</td>\n",
              "      <td>1.0</td>\n",
              "      <td>3.0</td>\n",
              "      <td>3.0</td>\n",
              "      <td>4.0</td>\n",
              "      <td>4.0</td>\n",
              "    </tr>\n",
              "  </tbody>\n",
              "</table>\n",
              "<p>2 rows × 144 columns</p>\n",
              "</div>"
            ],
            "text/plain": [
              "        id                                                            time  \\\n",
              "     count        mean        std  min    25%    50%     75%    max  count   \n",
              "trt                                                                          \n",
              "1.0  158.0  159.829114  87.349739  1.0  86.25  156.0  236.75  311.0  158.0   \n",
              "2.0  154.0  153.084416  93.216450  5.0  68.00  156.5  230.75  312.0  154.0   \n",
              "\n",
              "                  ... protime        stage                                     \\\n",
              "            mean  ...     75%   max  count      mean       std  min  25%  50%   \n",
              "trt               ...                                                           \n",
              "1.0  2015.620253  ...    11.0  14.1  158.0  2.974684  0.937196  1.0  2.0  3.0   \n",
              "2.0  1996.863636  ...    11.4  17.1  154.0  3.090909  0.811387  1.0  3.0  3.0   \n",
              "\n",
              "               \n",
              "     75%  max  \n",
              "trt            \n",
              "1.0  4.0  4.0  \n",
              "2.0  4.0  4.0  \n",
              "\n",
              "[2 rows x 144 columns]"
            ]
          },
          "execution_count": 1,
          "metadata": {},
          "output_type": "execute_result"
        }
      ],
      "source": [
        "import statsmodels.api as sm\n",
        "\n",
        "dataset = sm.datasets.get_rdataset(\"pbc\", \"survival\")\n",
        "\n",
        "def check_answer(dataset):\n",
        "    data_pbc = dataset.data\n",
        "    return data_pbc.groupby('trt').describe()\n",
        "\n",
        "check_answer(dataset)"
      ]
    }
  ],
  "metadata": {
    "colab": {
      "collapsed_sections": [
        "rb5FBs4l52kN"
      ],
      "provenance": []
    },
    "kernelspec": {
      "display_name": "base",
      "language": "python",
      "name": "python3"
    },
    "language_info": {
      "codemirror_mode": {
        "name": "ipython",
        "version": 3
      },
      "file_extension": ".py",
      "mimetype": "text/x-python",
      "name": "python",
      "nbconvert_exporter": "python",
      "pygments_lexer": "ipython3",
      "version": "3.9.16"
    }
  },
  "nbformat": 4,
  "nbformat_minor": 0
}
