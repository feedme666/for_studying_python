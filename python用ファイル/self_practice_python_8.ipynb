{
 "cells": [
  {
   "cell_type": "markdown",
   "metadata": {
    "id": "Z0y0uX1Outfw"
   },
   "source": [
    "# 自分で触ってよくわかる **変数作成の話**\n",
    "## 個々の変数へのアクセスと新規作成\n",
    "**最後に課題があります**"
   ]
  },
  {
   "cell_type": "markdown",
   "metadata": {
    "id": "KTKumyu59qde"
   },
   "source": [
    "## 目次\n",
    "### 練習\n",
    "- 練習1: [変数同士の計算から新しい変数を作成する](#section1)\n",
    "- 練習2: [（google colaboratoryを使っていない場合のみ）*statsmodels* をインストールする](#section2)\n",
    "- 練習3: [statsmodelsをインポートし、サンプルデータを取得する](#section3)\n",
    "- 練習4: [他の変数の値によって新しい変数の取る値を決める](#section4)\n",
    "  - おまけ: [for文とif文](#section_for)\n",
    "  - おまけ: [locメソッドとilocメソッド](#section_loc)\n",
    "\n",
    "\n",
    "### 課題\n",
    "- [課題](#section6)"
   ]
  },
  {
   "cell_type": "markdown",
   "metadata": {
    "id": "wx9OI4616-yr"
   },
   "source": [
    "＊＊＊＊＊＊＊＊＊＊＊＊＊＊＊＊＊＊＊＊＊＊＊＊＊＊＊＊＊＊＊＊＊＊＊＊＊＊＊＊\n"
   ]
  },
  {
   "cell_type": "markdown",
   "metadata": {
    "id": "zsx5Eow-utfz"
   },
   "source": [
    "## 練習\n",
    "サンプルのデータセットを読み込んで、そのデータを色々な角度から外観してみましょう。  \n",
    "今回は、*statsmodels* パッケージに含まれているデータセットを使用します。\n",
    "\n",
    "(注) *statsmodels* パッケージとは、統計モデルを用いて推定や検定、探索ができるPythonライブラリのことです。  \n",
    "\n",
    "手順は以下の通りです。  \n",
    "\n",
    "1. (google colaboratoryを使っていない場合のみ) *statsmodels* をインストールする\n",
    "1. statsmodelsをインポートし、サンプルデータを取得する\n",
    "1. 条件に合致する集団を抽出する\n",
    "2. 上位・下位の一部を抽出する"
   ]
  },
  {
   "cell_type": "markdown",
   "metadata": {},
   "source": [
    "***"
   ]
  },
  {
   "cell_type": "markdown",
   "metadata": {},
   "source": [
    "<a id=\"section1\"></a>\n",
    "### 練習1: 変数同士の計算から新しい変数を作成する\n",
    "\n",
    "最初に、空の表を作成するところから始めてみましょう。\n",
    "以下のコードを実行して、df_sampleという空の表を作成します。空っぽです。\n",
    "\n",
    "```\n",
    "import pandas as pd\n",
    "df_sample = pd.DataFrame()\n",
    "```\n",
    "\n",
    "それでは、下のセルにコードを書いて、実行してください。"
   ]
  },
  {
   "cell_type": "code",
   "execution_count": 1,
   "metadata": {},
   "outputs": [
    {
     "data": {
      "text/html": [
       "<div>\n",
       "<style scoped>\n",
       "    .dataframe tbody tr th:only-of-type {\n",
       "        vertical-align: middle;\n",
       "    }\n",
       "\n",
       "    .dataframe tbody tr th {\n",
       "        vertical-align: top;\n",
       "    }\n",
       "\n",
       "    .dataframe thead th {\n",
       "        text-align: right;\n",
       "    }\n",
       "</style>\n",
       "<table border=\"1\" class=\"dataframe\">\n",
       "  <thead>\n",
       "    <tr style=\"text-align: right;\">\n",
       "      <th></th>\n",
       "    </tr>\n",
       "  </thead>\n",
       "  <tbody>\n",
       "  </tbody>\n",
       "</table>\n",
       "</div>"
      ],
      "text/plain": [
       "Empty DataFrame\n",
       "Columns: []\n",
       "Index: []"
      ]
     },
     "execution_count": 1,
     "metadata": {},
     "output_type": "execute_result"
    }
   ],
   "source": [
    "import pandas as pd\n",
    "df_example = pd.DataFrame()\n",
    "df_example"
   ]
  },
  {
   "cell_type": "markdown",
   "metadata": {},
   "source": [
    "これで表を作成することができました。  \n",
    "この次に、この表に色々と値を代入していきましょう。\n",
    "まずは、'weight'列を作ってみましょう。\n",
    "以下のようなコードを実行します。\n",
    "\n",
    "```\n",
    "df_example['weight'] = [70, 80, 60, 90, 75]\n",
    "```\n",
    "\n",
    "これで、df_exampleに'weight'という列を新たに作って、リストを渡してあげることで、1行ずつその値を入れることができます。\n",
    "\n",
    "それでは、下のセルにコードを書いて、実行してください。"
   ]
  },
  {
   "cell_type": "code",
   "execution_count": 2,
   "metadata": {},
   "outputs": [
    {
     "data": {
      "text/html": [
       "<div>\n",
       "<style scoped>\n",
       "    .dataframe tbody tr th:only-of-type {\n",
       "        vertical-align: middle;\n",
       "    }\n",
       "\n",
       "    .dataframe tbody tr th {\n",
       "        vertical-align: top;\n",
       "    }\n",
       "\n",
       "    .dataframe thead th {\n",
       "        text-align: right;\n",
       "    }\n",
       "</style>\n",
       "<table border=\"1\" class=\"dataframe\">\n",
       "  <thead>\n",
       "    <tr style=\"text-align: right;\">\n",
       "      <th></th>\n",
       "      <th>weight</th>\n",
       "    </tr>\n",
       "  </thead>\n",
       "  <tbody>\n",
       "    <tr>\n",
       "      <th>0</th>\n",
       "      <td>70</td>\n",
       "    </tr>\n",
       "    <tr>\n",
       "      <th>1</th>\n",
       "      <td>80</td>\n",
       "    </tr>\n",
       "    <tr>\n",
       "      <th>2</th>\n",
       "      <td>60</td>\n",
       "    </tr>\n",
       "    <tr>\n",
       "      <th>3</th>\n",
       "      <td>90</td>\n",
       "    </tr>\n",
       "    <tr>\n",
       "      <th>4</th>\n",
       "      <td>75</td>\n",
       "    </tr>\n",
       "  </tbody>\n",
       "</table>\n",
       "</div>"
      ],
      "text/plain": [
       "   weight\n",
       "0      70\n",
       "1      80\n",
       "2      60\n",
       "3      90\n",
       "4      75"
      ]
     },
     "execution_count": 2,
     "metadata": {},
     "output_type": "execute_result"
    }
   ],
   "source": [
    "df_example['weight'] = [70, 80, 60, 90, 75]\n",
    "df_example"
   ]
  },
  {
   "cell_type": "markdown",
   "metadata": {},
   "source": [
    "今度は、'height'列を作ってみましょう。\n",
    "以下のようなコードを実行します。\n",
    "\n",
    "```\n",
    "df_example['height'] = [1.75, 1.80, 1.65, 1.90, 1.70]\n",
    "```\n",
    "\n",
    "先ほどと同じ要領ですね。\n",
    "\n",
    "それでは、下のセルにコードを書いて、実行してください。"
   ]
  },
  {
   "cell_type": "code",
   "execution_count": 3,
   "metadata": {},
   "outputs": [
    {
     "data": {
      "text/html": [
       "<div>\n",
       "<style scoped>\n",
       "    .dataframe tbody tr th:only-of-type {\n",
       "        vertical-align: middle;\n",
       "    }\n",
       "\n",
       "    .dataframe tbody tr th {\n",
       "        vertical-align: top;\n",
       "    }\n",
       "\n",
       "    .dataframe thead th {\n",
       "        text-align: right;\n",
       "    }\n",
       "</style>\n",
       "<table border=\"1\" class=\"dataframe\">\n",
       "  <thead>\n",
       "    <tr style=\"text-align: right;\">\n",
       "      <th></th>\n",
       "      <th>weight</th>\n",
       "      <th>height</th>\n",
       "    </tr>\n",
       "  </thead>\n",
       "  <tbody>\n",
       "    <tr>\n",
       "      <th>0</th>\n",
       "      <td>70</td>\n",
       "      <td>1.75</td>\n",
       "    </tr>\n",
       "    <tr>\n",
       "      <th>1</th>\n",
       "      <td>80</td>\n",
       "      <td>1.80</td>\n",
       "    </tr>\n",
       "    <tr>\n",
       "      <th>2</th>\n",
       "      <td>60</td>\n",
       "      <td>1.65</td>\n",
       "    </tr>\n",
       "    <tr>\n",
       "      <th>3</th>\n",
       "      <td>90</td>\n",
       "      <td>1.90</td>\n",
       "    </tr>\n",
       "    <tr>\n",
       "      <th>4</th>\n",
       "      <td>75</td>\n",
       "      <td>1.70</td>\n",
       "    </tr>\n",
       "  </tbody>\n",
       "</table>\n",
       "</div>"
      ],
      "text/plain": [
       "   weight  height\n",
       "0      70    1.75\n",
       "1      80    1.80\n",
       "2      60    1.65\n",
       "3      90    1.90\n",
       "4      75    1.70"
      ]
     },
     "execution_count": 3,
     "metadata": {},
     "output_type": "execute_result"
    }
   ],
   "source": [
    "df_example['height'] = [1.75, 1.80, 1.65, 1.90, 1.70]\n",
    "df_example"
   ]
  },
  {
   "cell_type": "markdown",
   "metadata": {},
   "source": [
    "これで、'weight'と'height'の2つの列を持つ5行の表が作成されました。\n",
    "\n",
    "今後は、この'weight'と'height'にある数値を使って、新たな列'BMI'を作成しましょう。  \n",
    "BMIは、身長(m)を2乗した値で、体重を割ったら、算出できます。\n",
    "\n",
    "```\n",
    "df_example['BMI'] = df['weight']/(df['height']**2)\n",
    "```\n",
    "\n",
    "それでは、下のセルにコードを書いて、実行してください。"
   ]
  },
  {
   "cell_type": "code",
   "execution_count": 4,
   "metadata": {},
   "outputs": [
    {
     "data": {
      "text/html": [
       "<div>\n",
       "<style scoped>\n",
       "    .dataframe tbody tr th:only-of-type {\n",
       "        vertical-align: middle;\n",
       "    }\n",
       "\n",
       "    .dataframe tbody tr th {\n",
       "        vertical-align: top;\n",
       "    }\n",
       "\n",
       "    .dataframe thead th {\n",
       "        text-align: right;\n",
       "    }\n",
       "</style>\n",
       "<table border=\"1\" class=\"dataframe\">\n",
       "  <thead>\n",
       "    <tr style=\"text-align: right;\">\n",
       "      <th></th>\n",
       "      <th>weight</th>\n",
       "      <th>height</th>\n",
       "      <th>BMI</th>\n",
       "    </tr>\n",
       "  </thead>\n",
       "  <tbody>\n",
       "    <tr>\n",
       "      <th>0</th>\n",
       "      <td>70</td>\n",
       "      <td>1.75</td>\n",
       "      <td>22.857143</td>\n",
       "    </tr>\n",
       "    <tr>\n",
       "      <th>1</th>\n",
       "      <td>80</td>\n",
       "      <td>1.80</td>\n",
       "      <td>24.691358</td>\n",
       "    </tr>\n",
       "    <tr>\n",
       "      <th>2</th>\n",
       "      <td>60</td>\n",
       "      <td>1.65</td>\n",
       "      <td>22.038567</td>\n",
       "    </tr>\n",
       "    <tr>\n",
       "      <th>3</th>\n",
       "      <td>90</td>\n",
       "      <td>1.90</td>\n",
       "      <td>24.930748</td>\n",
       "    </tr>\n",
       "    <tr>\n",
       "      <th>4</th>\n",
       "      <td>75</td>\n",
       "      <td>1.70</td>\n",
       "      <td>25.951557</td>\n",
       "    </tr>\n",
       "  </tbody>\n",
       "</table>\n",
       "</div>"
      ],
      "text/plain": [
       "   weight  height        BMI\n",
       "0      70    1.75  22.857143\n",
       "1      80    1.80  24.691358\n",
       "2      60    1.65  22.038567\n",
       "3      90    1.90  24.930748\n",
       "4      75    1.70  25.951557"
      ]
     },
     "execution_count": 4,
     "metadata": {},
     "output_type": "execute_result"
    }
   ],
   "source": [
    "df_example['BMI'] = df_example['weight']/(df_example['height']**2)\n",
    "df_example"
   ]
  },
  {
   "cell_type": "markdown",
   "metadata": {},
   "source": [
    "これで、変数を使って、新たな列'BMI'を作ることができました。\n",
    "\n",
    "実は、これ以外にも、表の作り方はいくつかあります。  \n",
    "pythonの辞書を使い慣れているのであれば、以下のコードで作成することも可能です。\n",
    "\n",
    "```\n",
    "data_example = {\n",
    "    'weight': [70, 80, 60, 90, 75],\n",
    "    'height': [1.75, 1.80, 1.65, 1.90, 1.70]\n",
    "}\n",
    "df_example = pd.DataFrame(data)\n",
    "df_example['BMI'] = df_example['weight']/(df_example['height']**2)\n",
    "```\n",
    "\n",
    "このように、pd.DataFrameを作るときに辞書データを渡すと、キーを列名、値を要素とした列を含んだ表を作成することができます。  \n",
    "\n",
    "それでは、下のセルにコードを書いて、実行してください。\n",
    "\n"
   ]
  },
  {
   "cell_type": "code",
   "execution_count": 5,
   "metadata": {},
   "outputs": [
    {
     "data": {
      "text/html": [
       "<div>\n",
       "<style scoped>\n",
       "    .dataframe tbody tr th:only-of-type {\n",
       "        vertical-align: middle;\n",
       "    }\n",
       "\n",
       "    .dataframe tbody tr th {\n",
       "        vertical-align: top;\n",
       "    }\n",
       "\n",
       "    .dataframe thead th {\n",
       "        text-align: right;\n",
       "    }\n",
       "</style>\n",
       "<table border=\"1\" class=\"dataframe\">\n",
       "  <thead>\n",
       "    <tr style=\"text-align: right;\">\n",
       "      <th></th>\n",
       "      <th>weight</th>\n",
       "      <th>height</th>\n",
       "      <th>BMI</th>\n",
       "    </tr>\n",
       "  </thead>\n",
       "  <tbody>\n",
       "    <tr>\n",
       "      <th>0</th>\n",
       "      <td>70</td>\n",
       "      <td>1.75</td>\n",
       "      <td>22.857143</td>\n",
       "    </tr>\n",
       "    <tr>\n",
       "      <th>1</th>\n",
       "      <td>80</td>\n",
       "      <td>1.80</td>\n",
       "      <td>24.691358</td>\n",
       "    </tr>\n",
       "    <tr>\n",
       "      <th>2</th>\n",
       "      <td>60</td>\n",
       "      <td>1.65</td>\n",
       "      <td>22.038567</td>\n",
       "    </tr>\n",
       "    <tr>\n",
       "      <th>3</th>\n",
       "      <td>90</td>\n",
       "      <td>1.90</td>\n",
       "      <td>24.930748</td>\n",
       "    </tr>\n",
       "    <tr>\n",
       "      <th>4</th>\n",
       "      <td>75</td>\n",
       "      <td>1.70</td>\n",
       "      <td>25.951557</td>\n",
       "    </tr>\n",
       "  </tbody>\n",
       "</table>\n",
       "</div>"
      ],
      "text/plain": [
       "   weight  height        BMI\n",
       "0      70    1.75  22.857143\n",
       "1      80    1.80  24.691358\n",
       "2      60    1.65  22.038567\n",
       "3      90    1.90  24.930748\n",
       "4      75    1.70  25.951557"
      ]
     },
     "execution_count": 5,
     "metadata": {},
     "output_type": "execute_result"
    }
   ],
   "source": [
    "data_example = {\n",
    "    'weight': [70, 80, 60, 90, 75],\n",
    "    'height': [1.75, 1.80, 1.65, 1.90, 1.70]\n",
    "}\n",
    "df_example = pd.DataFrame(data_example)\n",
    "\n",
    "df_example['BMI'] = df_example['weight']/(df_example['height']**2)\n",
    "df_example"
   ]
  },
  {
   "cell_type": "markdown",
   "metadata": {},
   "source": [
    "このほうが理解しやすい方は、こちらでもいいでしょう。"
   ]
  },
  {
   "cell_type": "markdown",
   "metadata": {},
   "source": [
    "***"
   ]
  },
  {
   "cell_type": "markdown",
   "metadata": {
    "id": "YWQTSZFIwP3j"
   },
   "source": [
    "<a id=\"section2\"></a>\n",
    "### 練習2: （google colaboratoryを使っていない場合のみ）*statsmodels* をインストールする\n",
    "\n",
    "statsmodelsを使用するとき、*google colaboratory* を使用している場合は、何もしなくともすぐ使用できます。  \n",
    "それ以外の環境では、statsmodelsパッケージのインストールが必要です。 どこかのセルで、以下を実行してください。  （下記のセルを実行すると、インストールします。）  \n",
    "```\n",
    "pip install statsmodels\n",
    "```  \n",
    "一回インストールしてしまえば、同じ環境であればずっと使えます。  "
   ]
  },
  {
   "cell_type": "code",
   "execution_count": 6,
   "metadata": {
    "colab": {
     "base_uri": "https://localhost:8080/"
    },
    "id": "dSyAlUEB0tVe",
    "outputId": "86cd05e6-2fc5-4027-a0df-97fcd576fd3c"
   },
   "outputs": [
    {
     "name": "stdout",
     "output_type": "stream",
     "text": [
      "Requirement already satisfied: statsmodels in /opt/anaconda3/envs/daily_use/lib/python3.9/site-packages (0.13.5)\n",
      "Requirement already satisfied: packaging>=21.3 in /opt/anaconda3/envs/daily_use/lib/python3.9/site-packages (from statsmodels) (23.0)\n",
      "Requirement already satisfied: scipy>=1.3 in /opt/anaconda3/envs/daily_use/lib/python3.9/site-packages (from statsmodels) (1.9.3)\n",
      "Requirement already satisfied: pandas>=0.25 in /opt/anaconda3/envs/daily_use/lib/python3.9/site-packages (from statsmodels) (2.0.3)\n",
      "Requirement already satisfied: patsy>=0.5.2 in /opt/anaconda3/envs/daily_use/lib/python3.9/site-packages (from statsmodels) (0.5.3)\n",
      "Requirement already satisfied: numpy>=1.17 in /opt/anaconda3/envs/daily_use/lib/python3.9/site-packages (from statsmodels) (1.23.5)\n",
      "Requirement already satisfied: python-dateutil>=2.8.2 in /opt/anaconda3/envs/daily_use/lib/python3.9/site-packages (from pandas>=0.25->statsmodels) (2.8.2)\n",
      "Requirement already satisfied: pytz>=2020.1 in /opt/anaconda3/envs/daily_use/lib/python3.9/site-packages (from pandas>=0.25->statsmodels) (2022.7.1)\n",
      "Requirement already satisfied: tzdata>=2022.1 in /opt/anaconda3/envs/daily_use/lib/python3.9/site-packages (from pandas>=0.25->statsmodels) (2023.3)\n",
      "Requirement already satisfied: six in /opt/anaconda3/envs/daily_use/lib/python3.9/site-packages (from patsy>=0.5.2->statsmodels) (1.16.0)\n",
      "Note: you may need to restart the kernel to use updated packages.\n"
     ]
    }
   ],
   "source": [
    "pip install statsmodels"
   ]
  },
  {
   "cell_type": "markdown",
   "metadata": {
    "id": "wTUgG1Pt6J45"
   },
   "source": [
    "***"
   ]
  },
  {
   "cell_type": "markdown",
   "metadata": {
    "id": "ZAnrKMpX0tVf"
   },
   "source": [
    "<a id=\"section3\"></a>\n",
    "### 練習3: statsmodelsをインポートし、サンプルデータを取得する\n",
    "\n",
    "*statsmodels* の *get_rdataset* メソッドを使用して、サンプルデータを取得してみましょう。  \n",
    "＊取得できるサンプルデータは、以下のサイトに列挙されています。  \n",
    "https://vincentarelbundock.github.io/Rdatasets/articles/data.html  \n",
    "\n",
    "前回の自主練と同様に、下記のコードを実行して、*survival* パッケージの *pbc* データを取得しましょう。  \n",
    "\n",
    "```\n",
    "import statsmodels.api as sm\n",
    "\n",
    "dataset = sm.datasets.get_rdataset(\"pbc\", \"survival\")\n",
    "df = dataset.data\n",
    "```\n",
    "\n",
    "それでは、下のセルにコードを書いて、実行してください。"
   ]
  },
  {
   "cell_type": "code",
   "execution_count": 7,
   "metadata": {
    "id": "QL7Y9MuUwP3m"
   },
   "outputs": [],
   "source": [
    "import statsmodels.api as sm\n",
    "\n",
    "dataset = sm.datasets.get_rdataset(\"pbc\", \"survival\")\n",
    "df = dataset.data\n"
   ]
  },
  {
   "cell_type": "markdown",
   "metadata": {
    "id": "xe3yjCtSwP3n"
   },
   "source": [
    "何も出力されませんが、エラーがでなければ成功しています。  \n",
    "次に進みましょう。"
   ]
  },
  {
   "cell_type": "markdown",
   "metadata": {
    "id": "ZeXmiGcE6RHj"
   },
   "source": [
    "***"
   ]
  },
  {
   "cell_type": "markdown",
   "metadata": {
    "id": "mDojmN-H0tVf"
   },
   "source": [
    "<a id=\"section4\"></a>\n",
    "### 練習4: 他の変数の値によって新しい変数の取る値を決める\n",
    "\n",
    "上で取得したデータが、変数'df'に代入されています。\n",
    "\n",
    "\n",
    "ここで、*numpy* パッケージの *where* メソッドを使うと、条件にあった要素とそうでない要素に対して、それぞれ違う要素を入れた、新たな列を作ることができます。\n",
    "\n",
    "```\n",
    "df['age_over60'] = np.where(df['age']>=65,'Yes','No')\n",
    "```\n",
    "\n",
    "このコードを詳しく説明します。\n",
    "```\n",
    "np.where(x,y,z)\n",
    "```\n",
    "このメソッドは「各行において、'x'という条件に合致した場合、'y'を返して、そうでない場合'z'を返す、という」という挙動をします。\n",
    "\n",
    "```\n",
    "np.where(df['age']>=65,'Yes','No')\n",
    "```\n",
    "このコードにより、各行において、`df['age']>=65`であれば`Yes`を、そうでなければ`No`を返す、というように動きます。\n",
    "\n",
    "```\n",
    "df['age_over60'] = np.where(df['age']>=65,'Yes','No')\n",
    "```\n",
    "\n",
    "先ほどの結果を、新しい列'age_over60'に代入する、ということです。\n",
    "\n",
    "それでは、下のセルにコードを書いて、実行してください。\n"
   ]
  },
  {
   "cell_type": "code",
   "execution_count": 8,
   "metadata": {
    "colab": {
     "base_uri": "https://localhost:8080/",
     "height": 204
    },
    "id": "RdAs8yEqwP3o",
    "outputId": "4e23718f-b78e-465a-d080-9d6b1e6c1567"
   },
   "outputs": [
    {
     "data": {
      "text/plain": [
       "0       No\n",
       "1       No\n",
       "2      Yes\n",
       "3       No\n",
       "4       No\n",
       "      ... \n",
       "413    Yes\n",
       "414     No\n",
       "415     No\n",
       "416     No\n",
       "417     No\n",
       "Name: age_over65, Length: 418, dtype: object"
      ]
     },
     "execution_count": 8,
     "metadata": {},
     "output_type": "execute_result"
    }
   ],
   "source": [
    "import numpy as np\n",
    "\n",
    "df['age_over65'] = np.where(df['age']>=65,'Yes','No')\n",
    "df['age_over65']"
   ]
  },
  {
   "cell_type": "markdown",
   "metadata": {},
   "source": []
  },
  {
   "cell_type": "markdown",
   "metadata": {
    "id": "Gb2df7bdwP3o"
   },
   "source": [
    "人によっては、np.whereが出てくるところなど、理解が少し難しいかもしれません...\n",
    "\n",
    "そこで、pythonのfor文とif文がわかる方のために、もう少し直感的に理解が容易なコードも提供しておきます。  \n",
    "(for文とif文を知らない方は、飛ばしてください)\n",
    "\n",
    "```\n",
    "df['age_over65'] = 'No'\n",
    "for i in range(len(df)):\n",
    "    if df.loc[i, 'age'] >= 65:\n",
    "        df.loc[i, 'age_over65'] = 'Yes'\n",
    "```\n",
    "\n",
    "解説します。\n",
    "\n",
    "```\n",
    "df['age_over65'] = 'No'\n",
    "```\n",
    "\n",
    "このコードで、'age_over65'という列を作り、さらに全ての行に'No'の代入します。\n",
    "\n",
    "```\n",
    "len(df)\n",
    "```\n",
    "\n",
    "これは、dfの行数を取得するコードです。\n",
    "\n",
    "```\n",
    "for i in range(len(df)):\n",
    "```\n",
    "0から(dfの行数-1)を順番にiに代入していきます。\n",
    "\n",
    "```\n",
    "    df.loc[i, 'age']\n",
    "```\n",
    "*loc* メソッドが出てきました。これは、大カッコ内に[行名,列名]を入れて、その要素を取得するメソッドです。  \n",
    "そのため、このコードは、dfの i という行名と、'age'という列名を指定して、一つの要素を取得します。\n",
    "このiというのは、一つ前のfor文の中で取得したものです。\n",
    "\n",
    "```\n",
    "    if df.loc[i, 'age'] >= 65:\n",
    "```\n",
    "これは、dfの i という行名と、'age'という列名にある要素が、65以上であれば、その下のコードを実行する、というものです。  \n",
    "その条件に合わなければ、何もしません。\n",
    "\n",
    "```\n",
    "        df.loc[i, 'age_over65'] = 'Yes'\n",
    "```\n",
    "最後のこのコードで、dfの i という行名と、'age_over65'という列名にある要素を、'Yes'に置き換えます。\n",
    "\n",
    "最後に全体を確認します。\n",
    "```\n",
    "df['age_over65'] = 'No'\n",
    "for i in range(len(df)):\n",
    "    if df.loc[i, 'age'] >= 65:\n",
    "        df.loc[i, 'age_over65'] = 'Yes'\n",
    "```\n",
    "- 'age_over65'という列を作り、さらに全ての行に'No'の代入\n",
    "- dfの行番号を一つずつ取得し、iに代入\n",
    "- dfの i という行名と、'age'という列名にある要素が65以上であれば、以下を実行\n",
    "- dfの i という行名と、'age_over65'という列名にある要素を、'Yes'に置き換える\n",
    "- そのあと、`for`のところに戻って、行番号を一つ増やして、それ以下を実行\n",
    "- iに(dfの行数-1)まで代入して、一番したまで行ったところで、終了\n",
    "\n",
    "\n",
    "それでは、下のセルにコードを書いて、実行してください。"
   ]
  },
  {
   "cell_type": "code",
   "execution_count": 9,
   "metadata": {},
   "outputs": [
    {
     "data": {
      "text/plain": [
       "0       No\n",
       "1       No\n",
       "2      Yes\n",
       "3       No\n",
       "4       No\n",
       "      ... \n",
       "413    Yes\n",
       "414     No\n",
       "415     No\n",
       "416     No\n",
       "417     No\n",
       "Name: age_over65, Length: 418, dtype: object"
      ]
     },
     "execution_count": 9,
     "metadata": {},
     "output_type": "execute_result"
    }
   ],
   "source": [
    "df['age_over65'] = 'No'\n",
    "for i in range(len(df)):\n",
    "    if df.loc[i, 'age'] >= 65:\n",
    "        df.loc[i, 'age_over65'] = 'Yes'\n",
    "df['age_over65']"
   ]
  },
  {
   "cell_type": "markdown",
   "metadata": {
    "id": "Of3usjMfwP3o"
   },
   "source": [
    "<a id=\"section_for\"></a>\n",
    "### おまけ: *for文* と *if文*\n",
    "for文とif文は、いずれのプログラミング言語を用いる場合でも、理解が必要となります。  \n",
    "もし、習得していない方がいたら、ここで習得しておくもの良いでしょう。\n",
    "\n",
    "- for文\n",
    "https://qiita.com/MoroeTachibana-oh/items/b3afbd952db3aee10ef7\n",
    "\n",
    "- if文\n",
    "https://qiita.com/Morio/items/1e06e7ac768758af5ffe"
   ]
  },
  {
   "cell_type": "markdown",
   "metadata": {},
   "source": [
    "<a id=\"section_loc\"></a>\n",
    "### おまけ: *loc* メソッドと *iloc* メソッド\n",
    "pandasを使うときに、表の要素を指定するときに、*loc* メソッドと *iloc* メソッドが有用です。\n",
    "こちらも、今回理解しておくと良いでしょう。\n",
    "\n",
    "- *loc* メソッド\n",
    "  - 行名、列名を指定して、要素にアクセスする。\n",
    "    - 例: df.loc['田中','体重']\n",
    "  - メリット: \n",
    "\n",
    "\n",
    "- *iloc* メソッド\n",
    "  - 行、列を番号で指定して、要素にアクセスする。\n",
    "    - 例: df.iloc[4, 2]\n",
    "  - メリット: 複数の行、列を取得することができる\n",
    "    - 例: df.iloc[4:10, 2:]　（4行目から9行目で、2列目以降の全ての表）\n",
    "\n",
    "https://qiita.com/Mayumi_Pythonista/items/6bae214755dfeb8d7353"
   ]
  },
  {
   "cell_type": "markdown",
   "metadata": {
    "id": "vtB--u6m60QO"
   },
   "source": [
    "＊＊＊＊＊＊＊＊＊＊＊＊＊＊＊＊＊＊＊＊＊＊＊＊＊＊＊＊＊＊＊＊＊＊＊＊＊＊＊＊"
   ]
  },
  {
   "cell_type": "markdown",
   "metadata": {
    "id": "JqSS5c7outf2"
   },
   "source": [
    "<a id=\"section6\"></a>\n",
    "## 課題: 変数作成\n",
    "\n",
    "survivalパッケージにあるpbcデータを'df'という変数に代入して、そのDataFrameの中に、臨床スコアを'score'という列名で新しく作成してみましょう\n",
    "- 以下の点数の合計点を臨床スコアとする\n",
    "\n",
    "| 検査項目     | 変数名  | 基準      | 点数 |\n",
    "|--------------|---------|-----------|------|\n",
    "| アルブミン   | albumin | ≥3        | 0点  |\n",
    "|              |         | <3        | 1点  |\n",
    "| ビリルビン   | bili    | <2        | 0点  |\n",
    "|              |         | 2≤, <5    | 1点  |\n",
    "|              |         | ≥5        | 2点  |\n",
    "\n",
    "\n",
    "**注意**　この課題はかなりの難問です。「難しい！」と感じた方は、下記のヒントを参考にしてください。"
   ]
  },
  {
   "cell_type": "markdown",
   "metadata": {},
   "source": [
    "#### ヒント1: numpyの *where* メソッドを用いる場合\n",
    "\n",
    "numpyの *where* メソッドを用いて、以下のような手順で'score'列を作ることができます。\n",
    "1. 'score_albumin'列を作って、'albumin'が3未満の時に1、それ以外を0と代入する\n",
    "2. 'score_bili'列を作って、'bili'が2以上5未満の時に1、5以上の時に2、それ以外に0を代入する。\n",
    "3. 'score'列を作って、'score_albumin'列と'score_bili'列を足した値を代入する\n",
    "\n",
    "まず、*numpy* パッケージをインポートします。\n",
    "```\n",
    "import numpy as np\n",
    "```\n",
    "\n",
    "手順1を実施します。\n",
    "```\n",
    "df['score_albumin'] = np.where(df['albumin']<3, 1, 0)\n",
    "```\n",
    "\n",
    "その次に、手順2を実施します。\n",
    "```\n",
    "df['score_bili'] = (\n",
    "    np.where((df['bili'] >= 2) & (df['bili'] < 5), 1, 0)\n",
    "    + np.where(df['bili'] >= 5, 2, 0)\n",
    ")\n",
    "```\n",
    "\n",
    "そして、最後に手順3を実行します。\n",
    "```\n",
    "df['score'] = df['score_albumin'] + df['score_bili']\n",
    "```\n",
    "\n",
    "これで、求めたい'score'列を得ることができました。\n",
    "\n",
    "\n",
    "\n",
    "ちなみに、これらの3つの手順を一気に一つのコードで書くこともできます。\n",
    "```\n",
    "df['score'] = (\n",
    "    np.where(df['albumin'] < 3, 1, 0)\n",
    "    + np.where((df['bili'] >= 2) & (df['bili'] < 5), 1, 0) \n",
    "    + np.where(df['bili'] >= 5, 2, 0)\n",
    ")\n",
    "```"
   ]
  },
  {
   "cell_type": "markdown",
   "metadata": {},
   "source": [
    "#### ヒント2: for文と *loc* メソッドを使う方法\n",
    "\n",
    "for文と *loc* メソッドで、同様のことができます。以下の手順となります。\n",
    "\n",
    "1. 'score'列を作り、すべての行に0を代入する\n",
    "2. for文を使って、条件に合えば、'score'列の各行に加算していく。\n",
    "\n",
    "手順1では、'score'列を作り、すべての行に0を代入します。\n",
    "```\n",
    "df['score'] = 0\n",
    "````\n",
    "\n",
    "次に、手順2に移ります。for文とif文で条件分岐を作り、点数を加算していきます。\n",
    "```\n",
    "for i in range(len(df)):\n",
    "    if df.loc[i, 'albumin']<3:\n",
    "        df.loc[i, 'score'] += 1\n",
    "    if 2<=df.loc[i,'bili']<5:\n",
    "        df.loc[i, 'score'] += 1\n",
    "    elif df.loc[i, 'bili']>=5:\n",
    "        df.loc[i, 'score'] += 2\n",
    "```"
   ]
  },
  {
   "cell_type": "markdown",
   "metadata": {},
   "source": [
    "どちらでも好きな方を選んでください。\n",
    "\n",
    "他にも色々とやり方があるので、ChatGPTなどに聞いてみましょう。"
   ]
  },
  {
   "cell_type": "code",
   "execution_count": 37,
   "metadata": {},
   "outputs": [],
   "source": [
    "\n"
   ]
  },
  {
   "cell_type": "markdown",
   "metadata": {
    "id": "rb5FBs4l52kN"
   },
   "source": [
    "## 回答チェック\n",
    "以下のコードを実行して、同じような結果が出力されればクリアです。"
   ]
  },
  {
   "cell_type": "code",
   "execution_count": 31,
   "metadata": {
    "colab": {
     "base_uri": "https://localhost:8080/"
    },
    "id": "zqsyXNeS52kN",
    "outputId": "99c9b22b-3ced-4318-94ca-84237e0beec0"
   },
   "outputs": [
    {
     "name": "stdout",
     "output_type": "stream",
     "text": [
      "df に \"score\" 列が存在しません。\n"
     ]
    }
   ],
   "source": [
    "import statsmodels.api as sm\n",
    "import pandas as pd\n",
    "dataset = sm.datasets.get_rdataset(\"pbc\", \"survival\")\n",
    "\n",
    "def check_answer(dataset, df):\n",
    "    df_check_answer = pd.DataFrame(dataset.data)\n",
    "    df_check_answer['score'] = 0\n",
    "\n",
    "    for i in range(len(df_check_answer)):\n",
    "        if df_check_answer.loc[i, 'albumin'] < 3:\n",
    "            df_check_answer.loc[i, 'score'] += 1\n",
    "        if 2 <= df_check_answer.loc[i, 'bili'] < 5:\n",
    "            df_check_answer.loc[i, 'score'] += 1\n",
    "        elif df_check_answer.loc[i, 'bili'] >= 5:\n",
    "            df_check_answer.loc[i, 'score'] += 2\n",
    "\n",
    "    # df が存在するかチェック\n",
    "    if 'df' not in globals():\n",
    "        print('課題の、\"df\" が存在しません。変数名を確認してください。')\n",
    "        return\n",
    "\n",
    "    try:\n",
    "        if df['score'] is None:\n",
    "            print('*df[\"score\"]* が定義されていません。')\n",
    "    except KeyError:\n",
    "        print('df に \"score\" 列が存在しません。')\n",
    "    except TypeError:\n",
    "        print('df に \"score\" 列が存在しません。')\n",
    "    else:\n",
    "        if df['score'].equals(df_check_answer['score']):\n",
    "            print('正解です。')\n",
    "        else:\n",
    "            print('不正解です。')\n",
    "\n",
    "check_answer(dataset, df)"
   ]
  }
 ],
 "metadata": {
  "colab": {
   "collapsed_sections": [
    "rb5FBs4l52kN"
   ],
   "provenance": []
  },
  "kernelspec": {
   "display_name": "Python 3 (ipykernel)",
   "language": "python",
   "name": "python3"
  },
  "language_info": {
   "codemirror_mode": {
    "name": "ipython",
    "version": 3
   },
   "file_extension": ".py",
   "mimetype": "text/x-python",
   "name": "python",
   "nbconvert_exporter": "python",
   "pygments_lexer": "ipython3",
   "version": "3.11.8"
  }
 },
 "nbformat": 4,
 "nbformat_minor": 4
}
