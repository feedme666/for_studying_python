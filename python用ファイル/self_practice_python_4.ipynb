{
  "cells": [
    {
      "cell_type": "markdown",
      "metadata": {
        "id": "Z0y0uX1Outfw"
      },
      "source": [
        "# 自分で触ってよくわかる **データの読み込みの話**\n",
        "## ファイルを解析環境に読み込む\n",
        "**最後に課題があります**"
      ]
    },
    {
      "cell_type": "markdown",
      "metadata": {
        "id": "KTKumyu59qde"
      },
      "source": [
        "## 目次\n",
        "### 練習\n",
        "- 練習1: [(準備) csvファイルを作成する](#section1)\n",
        "- 練習2: [csvファイルを、自分の実行環境の中に取り込む](#section2)\n",
        "- 練習3: [そのファイルのパス（保存場所）を取得する](#section3)\n",
        "- 練習4: [pandasをインポートする](#section4)\n",
        "- 練習5: [pandasを使って、英語だけで書かれたcsvファイルの内容を取得する](#section5)\n",
        "- 練習6: [pandasを使って、日本語が含まれたcsvファイルの内容を取得する](#section6)\n",
        "\n",
        "### 課題\n",
        "- [課題1](#section7)\n",
        "- [課題2](#section8)"
      ]
    },
    {
      "cell_type": "markdown",
      "metadata": {
        "id": "wx9OI4616-yr"
      },
      "source": [
        "＊＊＊＊＊＊＊＊＊＊＊＊＊＊＊＊＊＊＊＊＊＊＊＊＊＊＊＊＊＊＊＊＊＊＊＊＊＊＊＊\n"
      ]
    },
    {
      "cell_type": "markdown",
      "metadata": {
        "id": "zsx5Eow-utfz"
      },
      "source": [
        "## 練習\n",
        "pythonで表を扱うには、いくつかのやり方があります。  \n",
        "ここでは、最も使用する *pandas* というパッケージを使えるようになりましょう。  \n",
        "この練習では、*pandas* を使ってcsvファイルを扱えるところまでやりましょう。\n",
        "\n",
        "\n",
        "手順は以下の通りです。  \n",
        "\n",
        "1. (準備) csvファイルを作成する。\n",
        "1. csvファイルを、自分の実行環境の中に取り込む。\n",
        "1. そのファイルのパス（保存場所）を取得する。\n",
        "1. pandasをインポートする。\n",
        "1. pandasを使って、英語だけで書かれたcsvファイルの内容を取得する。\n",
        "1. pandasを使って、日本語が含まれたcsvファイルの内容を取得する。\n",
        "\n",
        "\n",
        "**!注意!**  \n",
        "pandasを使用するとき、*google colaboratory* を使用している場合は、何もしなくともすぐ使用できます。  \n",
        "それ以外の環境では、pandasパッケージのインストールが必要です。 どこかのセルで、以下を実行してください。  （下記のセルを実行すると、インストールします。）  \n",
        "```\n",
        "pip install pandas\n",
        "```  \n",
        "一回インストールしてしまえば、同じ環境であればずっと使えます。  "
      ]
    },
    {
      "cell_type": "code",
      "execution_count": 2,
      "metadata": {
        "colab": {
          "base_uri": "https://localhost:8080/"
        },
        "id": "dSyAlUEB0tVe",
        "outputId": "86cd05e6-2fc5-4027-a0df-97fcd576fd3c"
      },
      "outputs": [
        {
          "name": "stdout",
          "output_type": "stream",
          "text": [
            "Requirement already satisfied: pandas in /opt/anaconda3/envs/daily_use/lib/python3.9/site-packages (2.0.3)\n",
            "Requirement already satisfied: python-dateutil>=2.8.2 in /opt/anaconda3/envs/daily_use/lib/python3.9/site-packages (from pandas) (2.8.2)\n",
            "Requirement already satisfied: pytz>=2020.1 in /opt/anaconda3/envs/daily_use/lib/python3.9/site-packages (from pandas) (2022.7.1)\n",
            "Requirement already satisfied: numpy>=1.20.3 in /opt/anaconda3/envs/daily_use/lib/python3.9/site-packages (from pandas) (1.23.5)\n",
            "Requirement already satisfied: tzdata>=2022.1 in /opt/anaconda3/envs/daily_use/lib/python3.9/site-packages (from pandas) (2023.3)\n",
            "Requirement already satisfied: six>=1.5 in /opt/anaconda3/envs/daily_use/lib/python3.9/site-packages (from python-dateutil>=2.8.2->pandas) (1.16.0)\n",
            "Note: you may need to restart the kernel to use updated packages.\n"
          ]
        }
      ],
      "source": [
        "pip install pandas"
      ]
    },
    {
      "cell_type": "markdown",
      "metadata": {
        "id": "wTUgG1Pt6J45"
      },
      "source": [
        "***"
      ]
    },
    {
      "cell_type": "markdown",
      "metadata": {
        "id": "DQOFWlLPutf0"
      },
      "source": [
        "<a id=\"section1\"></a>\n",
        "### 練習1: (準備) csvファイルを作成する\n",
        "まずは、csvファイルを2つ作成しましょう。英語バージョンと日本語バージョンです。  \n",
        "エクセルか、googleスプレッドシートで、1行目の各セルに、左から、以下の文字を入力してください。\n",
        "- id\n",
        "- age\n",
        "- sex\n",
        "- bmi  \n",
        "\n",
        "それができたら、2行目から11行目まで、各列にデタラメな数値データを整数で入力していきましょう。  \n",
        "それが終わったら、*example_data.csv* と名前をつけて、csv形式で保存しましょう。  \n",
        "- エクセルの場合、「ファイル」->「名前をつけて保存」を選択し、ファイル形式として *\"csv\"* を選んで保存します\n",
        "- googleスプレッドシートの場合、「ファイル」-> 「ダウンロード」を選択し、ファイル形式として *\"csv\"* を選んでダウンロードします\n",
        "\n",
        "今度は、そのファイルのコピーを作って、ファイル名を *練習用データ.csv* と変更しましょう。  \n",
        "その *練習用データ.csv* を開いて、1行目の各セルに書かれた英語の文字を、以下の日本語に変換しましょう。\n",
        "- 患者ID\n",
        "- 年齢\n",
        "- 性別\n",
        "- BMI値  \n",
        "\n",
        "そして、保存しましょう。\n",
        "\n",
        "\n",
        "これで、*'example_data.csv'* と *'練習用データ.csv'* という二つのファイルができました。"
      ]
    },
    {
      "cell_type": "markdown",
      "metadata": {
        "id": "EDeIVykW6PR5"
      },
      "source": [
        "***"
      ]
    },
    {
      "cell_type": "markdown",
      "metadata": {
        "id": "ZAnrKMpX0tVf"
      },
      "source": [
        "<a id=\"section2\"></a>\n",
        "### 練習2: csvファイルを、自分の実行環境の中に取り込む\n",
        "次に、その二つのファイル（*'example_data.csv'* と *'練習用データ.csv'*）を実行環境に取り込みましょう。\n",
        "\n",
        "ここでは、*google colaboratory* を使用していることを前提で進めていきます。  \n",
        "（自分の環境で作業をしている場合は、下記「[余談: google colaboratory を使用せず、自分の環境で作業をしている場合](#section_a)」を参照してください）\n",
        "\n",
        "*google colaboratory* の一番左側のフォルダのマークをクリックします。そうすると、*google colaboratory* 上のフォルダが開きます。  \n",
        "（すでに開いていたウィンドウが閉じてしまった場合は、もう一度フォルダのマークをクリックしてください）\n",
        "\n",
        "開いたウィンドウが、フォルダを表しています。そこで右クリックをして、*アップロード* を選択してください。  \n",
        "そして、先ほど作成した *'example_data.csv'* を選択してください。  \n",
        "これにより、ファイルのアップロードが完成しました。\n",
        "\n",
        "同じようにして、*'練習用データ.csv'* もアップロードしてください。  \n",
        "\n",
        "これで取り込むことができました。"
      ]
    },
    {
      "cell_type": "markdown",
      "metadata": {
        "id": "y4a4MQXv0tVf"
      },
      "source": [
        "<a id=\"section_a\"></a>\n",
        "#### 余談: google colaboratory を使用せず、自分の環境で作業をしている場合  "
      ]
    },
    {
      "cell_type": "markdown",
      "metadata": {},
      "source": [
        "実は、こっちの方が簡単です💦  \n",
        "アップロード不要です。\n",
        "\n",
        "次の手順内で「パスを取得する」という作業があるのですが、そこで、以下のようにしてください。\n",
        "- ファイルを右クリック\n",
        "  - windowsであれば、*パスのコピー* を選択\n",
        "  - macであれば *optionボタン* を押して、*...のパス名をコピー* を選択\n",
        "\n",
        "これで、パスが取得できました(絶対パス)。  \n",
        "それ以下の工程において、そのパス名を使うことで、ファイルの使用が可能になります"
      ]
    },
    {
      "cell_type": "markdown",
      "metadata": {
        "id": "ZeXmiGcE6RHj"
      },
      "source": [
        "***"
      ]
    },
    {
      "cell_type": "markdown",
      "metadata": {
        "id": "mDojmN-H0tVf"
      },
      "source": [
        "<a id=\"section3\"></a>\n",
        "### 練習3: ファイルのパス（保存場所）を取得する。\n",
        "*google coboratory* 内で、先ほどアップロードした *'example_data.csv'* を右クリックしてください。  \n",
        "そこで '*パスをコピー*' を選択してください。そうすると、パス名がコピーされます。"
      ]
    },
    {
      "cell_type": "markdown",
      "metadata": {
        "id": "F7sd-eMTutf0"
      },
      "source": [
        "#### 余談: パスとは  \n",
        "ファイルの存在する場所(=ディレクトリ)を表した「住所」のことです。  \n",
        "今はこの程度の理解で、全然大丈夫です。\n",
        "\n",
        "もう少し説明を聞きたい方に…\n",
        "\n",
        "パスには、「絶対パス」と「相対パス」があります。\n",
        "\n",
        "- 絶対パス: 最上位からのパスを完全に記載したもの\n",
        "  - 例えるなら「兵庫県神戸市中央区〇〇町〇-〇-〇」\n",
        "\n",
        "- 相対パス: 現在位置を基準にしたパス\n",
        "  - 例えるなら「私の家の2軒隣の向かいの家」\n",
        "\n",
        "利用する状況で使い分けたりします。"
      ]
    },
    {
      "cell_type": "markdown",
      "metadata": {
        "id": "zj-36w-b6SIE"
      },
      "source": [
        "***"
      ]
    },
    {
      "cell_type": "markdown",
      "metadata": {
        "id": "Ig6SIN810tVg"
      },
      "source": [
        "<a id=\"section4\"></a>\n",
        "### 練習4: Pandasをインポートする  \n",
        "それでは、pandasパッケージを使用するために、以下のコードを実行して、pandasを呼び出しましょう。\n",
        "\n",
        "```\n",
        "import pandas as pd\n",
        "```\n",
        "\n",
        "このコードのうち…  \n",
        "`import pandas`   \n",
        "このコードで、pandasが呼び出せます。  \n",
        "\n",
        "`as pd`  \n",
        "これを付け加えることで、これ以降`pd`と記述しただけで、pandasを呼び出せます。'pandas'って何回も書くの、大変ですから。\n",
        "\n",
        "それでは、以下のセルにコードを書いて、実行してみましょう。"
      ]
    },
    {
      "cell_type": "code",
      "execution_count": 3,
      "metadata": {
        "id": "BEMajNhHutf1"
      },
      "outputs": [],
      "source": []
    },
    {
      "cell_type": "markdown",
      "metadata": {
        "id": "hobiMwwY6Tws"
      },
      "source": [
        "***"
      ]
    },
    {
      "cell_type": "markdown",
      "metadata": {
        "id": "A_04uNyCutf1"
      },
      "source": [
        "<a id=\"section5\"></a>\n",
        "## 練習5: pandasを使って、英語だけで書かれたcsvファイルの内容を取得する。\n",
        "いよいよ、pandasを使って、先ほどのcsvの内容を取得します。\n",
        "\n",
        "以下のコードを実行してみます。\n",
        "```\n",
        "path_en =  \"ここに先ほど取得したパスを、ダブルクオーテーションで囲んで記述してください\"\n",
        "df_en = pd.read_csv(path_en)\n",
        "```"
      ]
    },
    {
      "cell_type": "markdown",
      "metadata": {
        "id": "s7MnVeIW0tVg"
      },
      "source": [
        "#### 余談: コードの説明\n",
        "先ほどのコードを説明します。  \n",
        "```\n",
        "path_en =  \"ここに先ほど取得したパスを、ダブルクオーテーションで囲んで記述してください\"\n",
        "```\n",
        "\n",
        "このコードで、変数'path_en' に、先ほど取得したパスを、文字として代入しています。\n",
        "\n",
        "\n",
        "```\n",
        "df_en = pd.read_csv(path_en)\n",
        "```\n",
        "\n",
        "このコードで、csvファイルを読み込んで、変数 'df_en' に入れ込みます。   \n",
        "もう少し細かく説明します。  \n",
        "\n",
        "`pd.read_csv()`  \n",
        "というのは、「*'pd (pandas)'の機能のうち、'read_csv'というメソッドを利用します*」という記述です。    \n",
        "最後にくっついている丸カッコの中に、パスを記述することで、パスにあるcsvファイルを取り込みます。\n",
        "\n",
        "実は、以下のように、1行で書くことも可能です。\n",
        "```\n",
        "df_en = pd.read_csv(\"取得したパス名\")"
      ]
    },
    {
      "cell_type": "markdown",
      "metadata": {
        "id": "AKt9NQr90tVg"
      },
      "source": [
        "それでは、以下のセルにコードを書いて、実行してみましょう。"
      ]
    },
    {
      "cell_type": "code",
      "execution_count": null,
      "metadata": {
        "id": "hfQlJcixutf2"
      },
      "outputs": [],
      "source": []
    },
    {
      "cell_type": "markdown",
      "metadata": {
        "id": "aM_MWzAF0tVg"
      },
      "source": [
        "'df_en' には、先ほどの *'example_data.csv'* の中身が取り込まれています。  \n",
        "以下のコードを書いて、内容を確認してみましょう。\n",
        "\n",
        "```\n",
        "print(df_en)\n",
        "```\n",
        "それでは、以下のセルにコードを書いて、実行してみましょう。"
      ]
    },
    {
      "cell_type": "code",
      "execution_count": null,
      "metadata": {
        "colab": {
          "base_uri": "https://localhost:8080/"
        },
        "id": "cqPqaPdV1rdo",
        "outputId": "2bd38d88-25f6-4bb6-cd47-76f0752cf444"
      },
      "outputs": [
        {
          "name": "stdout",
          "output_type": "stream",
          "text": [
            "   id  age sex  bmi\n",
            "0   1   56   M   22\n",
            "1   2   54   F   22\n",
            "2   3   26   M   22\n",
            "3   4   32   F   25\n",
            "4   5   22   M   22\n",
            "5   6   64   M   24\n",
            "6   7   85   M   22\n",
            "7   8   64   F   22\n",
            "8   9   46   F   22\n",
            "9  10   10   F   22\n"
          ]
        }
      ],
      "source": []
    },
    {
      "cell_type": "markdown",
      "metadata": {
        "id": "_8Y5g1ye2hYr"
      },
      "source": [
        "一列目に、*id, age, sex, bmi* と記載されています。そして、そこから下の行にデータが格納されています。\n",
        "\n",
        "もう少し見やすくしてみましょう。\n",
        "以下のコードを実行してみてください。\n",
        "```\n",
        "df_en.head()\n",
        "```\n",
        "\n",
        "それでは、以下のセルにコード書いて、実行してみましょう。"
      ]
    },
    {
      "cell_type": "code",
      "execution_count": null,
      "metadata": {
        "colab": {
          "base_uri": "https://localhost:8080/",
          "height": 269
        },
        "id": "dQXkl7Ye2gkQ",
        "outputId": "2c87a041-fe56-411d-8b13-f856af6b65a9"
      },
      "outputs": [
        {
          "ename": "NameError",
          "evalue": "name 'df_en' is not defined",
          "output_type": "error",
          "traceback": [
            "\u001b[0;31m---------------------------------------------------------------------------\u001b[0m",
            "\u001b[0;31mNameError\u001b[0m                                 Traceback (most recent call last)",
            "Cell \u001b[0;32mIn[1], line 1\u001b[0m\n\u001b[0;32m----> 1\u001b[0m \u001b[43mdf_en\u001b[49m\u001b[38;5;241m.\u001b[39mhead()\n",
            "\u001b[0;31mNameError\u001b[0m: name 'df_en' is not defined"
          ]
        }
      ],
      "source": []
    },
    {
      "cell_type": "markdown",
      "metadata": {
        "id": "ic_azVx24AyP"
      },
      "source": [
        "このコードにより、列名と、データの最初の5行が表示されました。\n",
        "少し見やすくなりましたね。\n",
        "もし、最初の7行のデータをみたいときは、以下のコードを実行してください。\n",
        "```\n",
        "df_en.head(7)\n",
        "```\n",
        "\n",
        "また、最後の5行をみたい時は、*tail* メソッドを使います\n",
        "```\n",
        "df_en.tail()\n",
        "```\n"
      ]
    },
    {
      "cell_type": "markdown",
      "metadata": {
        "id": "Kwna9oEm5KUX"
      },
      "source": [
        "一番右の列に記載されている番号を、*index* と言います。行番号です。  \n",
        "pythonは**一番最初のものを '0' として、それから一つずつ増えていきます**。これは覚えておいてください。  \n",
        "\n",
        "また、列名を総称して *columns* と言います。"
      ]
    },
    {
      "cell_type": "markdown",
      "metadata": {
        "id": "9zVTwYHS6WhA"
      },
      "source": [
        "***"
      ]
    },
    {
      "cell_type": "markdown",
      "metadata": {
        "id": "vtB--u6m60QO"
      },
      "source": [
        "＊＊＊＊＊＊＊＊＊＊＊＊＊＊＊＊＊＊＊＊＊＊＊＊＊＊＊＊＊＊＊＊＊＊＊＊＊＊＊＊"
      ]
    },
    {
      "cell_type": "markdown",
      "metadata": {
        "id": "JqSS5c7outf2"
      },
      "source": [
        "<a id=\"section7\"></a>  \n",
        "\n",
        "## 課題: 日本語ファイルの読み込み  \n",
        "\n",
        "pandasを使って、日本語が含まれたcsvファイルを読み込んでみましょう。  \n",
        "\n",
        "実行できない場合や、文字化けした場合は、日本語のエンコードを指定する必要があります。\n",
        "\n",
        "なお、日本語のエンコードを行うためには、以下のように追記します。\n",
        "\n",
        "\n",
        "```\n",
        "df_jp = pd.read_csv(path_jp, encoding='UTF-8')\n",
        "\n",
        "```\n",
        "もしくは\n",
        "```\n",
        "df_jp = pd.read_csv(path_jp, encoding='shift_jis')\n",
        "```\n",
        "もしくは\n",
        "```\n",
        "df_jp = pd.read_csv(path_jp, encoding='cp932'.)\n",
        "```"
      ]
    },
    {
      "cell_type": "code",
      "execution_count": null,
      "metadata": {
        "id": "1T6E6N9Eutf2"
      },
      "outputs": [],
      "source": []
    },
    {
      "cell_type": "markdown",
      "metadata": {
        "id": "rb5FBs4l52kN"
      },
      "source": [
        "## 回答チェック\n",
        "以下を実行して、課題の回答がと同じような結果になれば正解です。"
      ]
    },
    {
      "cell_type": "code",
      "execution_count": 1,
      "metadata": {
        "colab": {
          "base_uri": "https://localhost:8080/"
        },
        "id": "zqsyXNeS52kN",
        "outputId": "99c9b22b-3ced-4318-94ca-84237e0beec0"
      },
      "outputs": [
        {
          "data": {
            "text/html": [
              "<div>\n",
              "<style scoped>\n",
              "    .dataframe tbody tr th:only-of-type {\n",
              "        vertical-align: middle;\n",
              "    }\n",
              "\n",
              "    .dataframe tbody tr th {\n",
              "        vertical-align: top;\n",
              "    }\n",
              "\n",
              "    .dataframe thead th {\n",
              "        text-align: right;\n",
              "    }\n",
              "</style>\n",
              "<table border=\"1\" class=\"dataframe\">\n",
              "  <thead>\n",
              "    <tr style=\"text-align: right;\">\n",
              "      <th></th>\n",
              "      <th>患者ID</th>\n",
              "      <th>年齢</th>\n",
              "      <th>性別</th>\n",
              "      <th>BMI値</th>\n",
              "    </tr>\n",
              "  </thead>\n",
              "  <tbody>\n",
              "    <tr>\n",
              "      <th>0</th>\n",
              "      <td>1</td>\n",
              "      <td>25</td>\n",
              "      <td>男</td>\n",
              "      <td>18.5</td>\n",
              "    </tr>\n",
              "    <tr>\n",
              "      <th>1</th>\n",
              "      <td>2</td>\n",
              "      <td>35</td>\n",
              "      <td>女</td>\n",
              "      <td>22.2</td>\n",
              "    </tr>\n",
              "    <tr>\n",
              "      <th>2</th>\n",
              "      <td>3</td>\n",
              "      <td>45</td>\n",
              "      <td>男</td>\n",
              "      <td>27.8</td>\n",
              "    </tr>\n",
              "    <tr>\n",
              "      <th>3</th>\n",
              "      <td>4</td>\n",
              "      <td>55</td>\n",
              "      <td>女</td>\n",
              "      <td>32.3</td>\n",
              "    </tr>\n",
              "    <tr>\n",
              "      <th>4</th>\n",
              "      <td>5</td>\n",
              "      <td>65</td>\n",
              "      <td>男</td>\n",
              "      <td>37.9</td>\n",
              "    </tr>\n",
              "  </tbody>\n",
              "</table>\n",
              "</div>"
            ],
            "text/plain": [
              "   患者ID  年齢 性別  BMI値\n",
              "0     1  25  男  18.5\n",
              "1     2  35  女  22.2\n",
              "2     3  45  男  27.8\n",
              "3     4  55  女  32.3\n",
              "4     5  65  男  37.9"
            ]
          },
          "execution_count": 1,
          "metadata": {},
          "output_type": "execute_result"
        }
      ],
      "source": [
        "import pandas as pd\n",
        "\n",
        "def check_answer():\n",
        "    original_df = pd.DataFrame(\n",
        "        {\n",
        "            '患者ID': [1,2,3,4,5,6,7,8],\n",
        "            '年齢': [25, 35, 45, 55, 65, 75, 85, 95],\n",
        "            '性別': ['男', '女', '男', '女', '男', '女', '男', '女'],\n",
        "            'BMI値': [18.5, 22.2, 27.8, 32.3, 37.9, 43.5, 49.1, 54.7]\n",
        "        }\n",
        "    )\n",
        "    return original_df.head()\n",
        "check_answer()"
      ]
    }
  ],
  "metadata": {
    "colab": {
      "collapsed_sections": [
        "rb5FBs4l52kN"
      ],
      "provenance": []
    },
    "kernelspec": {
      "display_name": "daily_use",
      "language": "python",
      "name": "python3"
    },
    "language_info": {
      "codemirror_mode": {
        "name": "ipython",
        "version": 3
      },
      "file_extension": ".py",
      "mimetype": "text/x-python",
      "name": "python",
      "nbconvert_exporter": "python",
      "pygments_lexer": "ipython3",
      "version": "3.9.16"
    }
  },
  "nbformat": 4,
  "nbformat_minor": 0
}
